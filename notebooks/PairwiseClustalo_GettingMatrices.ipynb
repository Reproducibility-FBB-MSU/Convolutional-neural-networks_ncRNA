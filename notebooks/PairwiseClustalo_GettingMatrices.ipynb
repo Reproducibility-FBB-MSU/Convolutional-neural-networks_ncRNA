{
 "cells": [
  {
   "cell_type": "markdown",
   "metadata": {
    "pycharm": {}
   },
   "source": [
    "# Making pairwise alignments with clustalo"
   ]
  },
  {
   "cell_type": "code",
   "execution_count": 1,
   "metadata": {
    "pycharm": {}
   },
   "outputs": [],
   "source": [
    "import os\n",
    "import glob\n",
    "import Bio\n",
    "import pandas as pd\n",
    "import numpy as np\n",
    "from Bio import SeqIO\n",
    "from Bio import AlignIO"
   ]
  },
  {
   "cell_type": "code",
   "execution_count": 2,
   "metadata": {
    "pycharm": {}
   },
   "outputs": [],
   "source": [
    "os.chdir(\"../data/families_seq/\") # newfiles4 - version of working directory"
   ]
  },
  {
   "cell_type": "markdown",
   "metadata": {
    "pycharm": {}
   },
   "source": [
    "##### Here we prepare our sample for Clustal"
   ]
  },
  {
   "cell_type": "code",
   "execution_count": 3,
   "metadata": {
    "pycharm": {}
   },
   "outputs": [
    {
     "data": {
      "text/plain": [
       "393"
      ]
     },
     "execution_count": 3,
     "metadata": {},
     "output_type": "execute_result"
    }
   ],
   "source": [
    "# Here you can check how much sequences contain your sample-file\n",
    "dictt = SeqIO.to_dict(SeqIO.parse(\"sample.fasta\", \"fasta\"))\n",
    "fname_list = list(dictt.keys())\n",
    "len(fname_list)"
   ]
  },
  {
   "cell_type": "markdown",
   "metadata": {
    "pycharm": {}
   },
   "source": [
    "##### Now we are going to make a lot of PAIRWISE-ALIGNMENT files"
   ]
  },
  {
   "cell_type": "code",
   "execution_count": null,
   "metadata": {
    "pycharm": {}
   },
   "outputs": [],
   "source": [
    "i = 0\n",
    "# !mkdir clustalo\n",
    "seq1, seq2 = fname_list[0], fname_list[2]\n",
    "\n",
    "\n",
    "for num1 in range(i, len(fname_list)): #(i, len(fname_list)):     (len(fname_list))\n",
    "    for num2 in range(i + 1, len(fname_list)): #(i + 1, len(fname_list)):    (len(fname_list))\n",
    "        seq1, seq2 = fname_list[num1], fname_list[num2]\n",
    "        \n",
    "        out = open('../data/depo.fasta', 'w')\n",
    "        out.write(\">\" + str(dictt[seq1].id) + '\\n' + str(dictt[seq1].seq) + '\\n' + \">\" + str(dictt[seq2].id) + '\\n' + str(dictt[seq2].seq) + '\\n')\n",
    "        out.close()\n",
    "        ! clustalo -i ./depo.fasta -o ./'{seq1}_{seq2}'.fasta\n",
    "    i += 1"
   ]
  },
  {
   "cell_type": "code",
   "execution_count": null,
   "metadata": {
    "pycharm": {}
   },
   "outputs": [],
   "source": [
    "# To check how much pairwise-alignment files in your working directory\n",
    "sum(list(range(62)))"
   ]
  },
  {
   "cell_type": "code",
   "execution_count": null,
   "metadata": {
    "pycharm": {}
   },
   "outputs": [],
   "source": [
    "! rm depo.fasta"
   ]
  },
  {
   "cell_type": "markdown",
   "metadata": {
    "pycharm": {}
   },
   "source": [
    "# Making matrices"
   ]
  },
  {
   "cell_type": "markdown",
   "metadata": {
    "pycharm": {}
   },
   "source": [
    "##### Firstly, we'll check, if there're the number of files we need in our 'clustalo' directory"
   ]
  },
  {
   "cell_type": "code",
   "execution_count": null,
   "metadata": {
    "pycharm": {}
   },
   "outputs": [],
   "source": [
    "len(fname_list)**2 == len(glob.glob('*.fasta'))"
   ]
  },
  {
   "cell_type": "code",
   "execution_count": null,
   "metadata": {
    "pycharm": {}
   },
   "outputs": [],
   "source": [
    "#os.mkdir('./matrices')\n",
    "os.chdir('./matrices/')\n",
    "os.getcwd()"
   ]
  },
  {
   "cell_type": "markdown",
   "metadata": {
    "pycharm": {}
   },
   "source": [
    "##### Making matrices"
   ]
  },
  {
   "cell_type": "code",
   "execution_count": null,
   "metadata": {
    "pycharm": {}
   },
   "outputs": [],
   "source": [
    "'''\n",
    "This function returns you one matrix with shape == (1, 1200, 10)\n",
    "'''\n",
    "def make_matrix(fname):\n",
    "    # input file with pairwise alignment\n",
    "    alignment = AlignIO.read(fname, \"fasta\")\n",
    "    out_name = str(fname)[:-6]\n",
    "    \n",
    "    # making file for matrix\n",
    "    out = open('mat_' + str(out_name) + '.txt', 'a')\n",
    "    for record in alignment:\n",
    "        out.write(str(record.seq) + '\\n')\n",
    "        alignment_len = len(str(record.seq).strip())\n",
    "    out.close()    \n",
    "    \n",
    "    # making dataset 2 x alignment_len\n",
    "    fname = open('mat_' + str(out_name) + '.txt', 'r')\n",
    "    #print(fname)\n",
    "    seq1 = list(fname.readline().strip())\n",
    "    seq2 = list(fname.readline().strip())\n",
    "    \n",
    "    # print(len(seq1), len(seq2))\n",
    "    \n",
    "    \n",
    "    fname.close()\n",
    "    data = pd.DataFrame(np.array((seq1, seq2)))\n",
    "    \n",
    "    # making ZERO-matrix and dataset 10 x alignment_len\n",
    "    matrix = np.zeros((10, 1200))  #((10, 1200)) # or ((10, 1200))\n",
    "    mat_data = pd.DataFrame(matrix)\n",
    "    \n",
    "    # [A1 T1 G1 C1 GAP1][A2 T2 G2 C2 GAP2]\n",
    "    # [00 01 02 03 0004][05 06 07 08 0009]\n",
    "    # print(alignment_len)\n",
    "    for num in range(alignment_len):\n",
    "        sym1 = data[num][0]\n",
    "        sym2 = data[num][1]\n",
    "        \n",
    "        if sym1: #== 'A' or sym1 == 'T' or sym1 == 'G' or sym1 == 'C' or sym1 == '-':\n",
    "            if sym1 == 'A': mat_data[num][0] = 1\n",
    "            elif sym1 == 'T': mat_data[num][1] = 1\n",
    "            else:\n",
    "                if sym1 == 'G': mat_data[num][2] = 1\n",
    "                elif sym1 == 'C': mat_data[num][3] = 1\n",
    "                else: mat_data[num][4] = 1\n",
    "            \n",
    "        if sym2: #== 'A' or sym2 == 'T' or sym2 == 'G' or sym2 == 'C' or sym2 == '-':\n",
    "            if sym2 == 'A': mat_data[num][5] = 1\n",
    "            elif sym2 == 'T': mat_data[num][6] = 1\n",
    "            else:\n",
    "                if sym2 == 'G': mat_data[num][7] = 1\n",
    "                elif sym2 == 'C': mat_data[num][8] = 1\n",
    "                else: mat_data[num][9] = 1    \n",
    "    matrix1 = mat_data.astype(int)\n",
    "    # print(matrix1)\n",
    "    \n",
    "    # Matrix reshaping\n",
    "    matrix = np.swapaxes(matrix, 1, 0).reshape(1, 1200, 10)\n",
    "    return matrix\n",
    "    \n",
    "    # Saving binary file in .npy format\n",
    "     #print(matrix.shape)\n",
    "    \n",
    "    os.remove('mat_' + str(out_name) + '.txt')\n",
    "    #np.save(str(out_name) + '.npy', matrix)"
   ]
  },
  {
   "cell_type": "markdown",
   "metadata": {
    "pycharm": {}
   },
   "source": [
    "##### OLD VARIANT; SEE NEW VARIANT BELOW"
   ]
  },
  {
   "cell_type": "code",
   "execution_count": null,
   "metadata": {
    "pycharm": {}
   },
   "outputs": [],
   "source": [
    " MakeMatrix = make_matrix('./')"
   ]
  },
  {
   "cell_type": "code",
   "execution_count": null,
   "metadata": {
    "pycharm": {}
   },
   "outputs": [],
   "source": [
    "'''\n",
    "I check if our sequences have the same length, don't look at this cell\n",
    "'''\n",
    "for file in glob.glob(\"mat*.txt\"):\n",
    "    with open(file, 'r') as fname:\n",
    "        seq1 = fname.readline().strip()\n",
    "        seq2 = fname.readline().strip()\n",
    "        if (len(seq1) == len(seq2)) != True:\n",
    "            print(fname)"
   ]
  },
  {
   "cell_type": "code",
   "execution_count": null,
   "metadata": {
    "pycharm": {}
   },
   "outputs": [],
   "source": [
    "# We shoul copy all files with pairwise alignments into the our working directory\n",
    "mat = int(0)\n",
    "sp = []\n",
    "for file in glob.glob(\"*.fasta\"):\n",
    "    print(file)\n",
    "    sp.append(file)\n",
    "    if type(mat) == int:\n",
    "        mat = make_matrix(file)\n",
    "    else:\n",
    "        nwm = make_matrix(file)\n",
    "        mat = np.concatenate((mat, nwm), axis=0)\n",
    "mat.shape\n",
    "print(len(sp))\n",
    "# mat_RF02272_JH835498.1,4_RF03115_URS0000D65EA6_682634,5.txt"
   ]
  },
  {
   "cell_type": "code",
   "execution_count": null,
   "metadata": {
    "pycharm": {}
   },
   "outputs": [],
   "source": [
    "np.save('./ncRNApair_datav5.npy', mat)"
   ]
  },
  {
   "cell_type": "markdown",
   "metadata": {
    "pycharm": {}
   },
   "source": [
    "##### Getting binary vector (2500,)"
   ]
  },
  {
   "cell_type": "code",
   "execution_count": null,
   "metadata": {
    "pycharm": {}
   },
   "outputs": [],
   "source": [
    "pre_vec = []\n",
    "for pair in sp:\n",
    "   # print((int(pair.split(\",\")[1][0]), int(pair.split(\",\")[2][0])))\n",
    "    check = (int(pair.split(\",\")[1][0]) == int(pair.split(\",\")[2][0]))\n",
    "    if check == True:\n",
    "        pre_vec.append(1)\n",
    "    else:\n",
    "        pre_vec.append(0)\n",
    "bin_vec = np.array(pre_vec)"
   ]
  },
  {
   "cell_type": "code",
   "execution_count": null,
   "metadata": {
    "pycharm": {}
   },
   "outputs": [],
   "source": [
    "np.save('./ncRNApair_labelv5.npy', bin_vec)"
   ]
  },
  {
   "cell_type": "markdown",
   "metadata": {
    "pycharm": {}
   },
   "source": [
    "##### NEW VARIANT; with more adequate order (in accordance with famlables.txt)"
   ]
  },
  {
   "cell_type": "code",
   "execution_count": null,
   "metadata": {
    "pycharm": {}
   },
   "outputs": [],
   "source": [
    "''' \n",
    "Here we make a list of ordered file-names \n",
    "We got *fam70_test.txt* earlier using Creating_sample.ipynb\n",
    "'''\n",
    "\n",
    "new_sp = []\n",
    "fnames = []\n",
    "order = []\n",
    "with open(\"fam70_test.txt\", 'r') as fname:\n",
    "    for string in fname:\n",
    "        new_sp.append(string.strip()[:-2])\n",
    "for file in glob.glob(\"*.fasta\"):\n",
    "    fnames.append(file)\n",
    "for i in new_sp:\n",
    "    for j in fnames:\n",
    "        if i in j.split(\",\")[0]:\n",
    "            order.append(j)"
   ]
  },
  {
   "cell_type": "code",
   "execution_count": null,
   "metadata": {
    "pycharm": {}
   },
   "outputs": [],
   "source": [
    "# Checking the length of our list\n",
    "len(order)"
   ]
  },
  {
   "cell_type": "code",
   "execution_count": null,
   "metadata": {
    "pycharm": {}
   },
   "outputs": [],
   "source": [
    "# We should copy all files with pairwise alignments into the our working directory\n",
    "mat = int(0)\n",
    "\n",
    "for file in order: # glob.glob(\"*.fasta\"):\n",
    "    if type(mat) == int:\n",
    "        mat = make_matrix(file)\n",
    "    else:\n",
    "        mat = np.concatenate((mat, make_matrix(file)), axis=0)\n",
    "mat.shape"
   ]
  },
  {
   "cell_type": "code",
   "execution_count": null,
   "metadata": {
    "pycharm": {}
   },
   "outputs": [],
   "source": [
    "# Save your matrix into file to use it later for neural network (input)\n",
    "np.save('./ncRNApair_datav7_test.npy', mat)"
   ]
  },
  {
   "cell_type": "code",
   "execution_count": null,
   "metadata": {
    "pycharm": {}
   },
   "outputs": [],
   "source": [
    "# Getting a binary vector (are the sequences belong to the same family)\n",
    "pre_vec = []\n",
    "for pair in order:\n",
    "    check = (int(pair.split(\",\")[1][0]) == int(pair.split(\",\")[2][0]))\n",
    "    if check == True:\n",
    "        pre_vec.append(0) # old version: pre_vec.append(1)\n",
    "    else:\n",
    "        pre_vec.append(1) # old version: pre_vec.append(0)\n",
    "bin_vec = np.array(pre_vec)"
   ]
  },
  {
   "cell_type": "code",
   "execution_count": null,
   "metadata": {
    "pycharm": {}
   },
   "outputs": [],
   "source": [
    "# Save your vector into file to use it later for neural network (input)\n",
    "np.save('./ncRNApair_labelv7_test.npy', bin_vec)"
   ]
  }
 ],
 "metadata": {
  "kernelspec": {
   "display_name": "Python 3",
   "language": "python",
   "name": "python3"
  },
  "language_info": {
   "codemirror_mode": {
    "name": "ipython",
    "version": 3
   },
   "file_extension": ".py",
   "mimetype": "text/x-python",
   "name": "python",
   "nbconvert_exporter": "python",
   "pygments_lexer": "ipython3",
   "version": "3.7.3"
  }
 },
 "nbformat": 4,
 "nbformat_minor": 4
}
