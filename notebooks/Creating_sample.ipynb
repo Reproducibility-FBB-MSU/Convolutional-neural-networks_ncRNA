{
 "cells": [
  {
   "cell_type": "markdown",
   "metadata": {},
   "source": [
    "# Getting random sample"
   ]
  },
  {
   "cell_type": "markdown",
   "metadata": {},
   "source": [
    "Rfam database contains 3115 RNA-sequences"
   ]
  },
  {
   "cell_type": "code",
   "execution_count": 3,
   "metadata": {},
   "outputs": [],
   "source": [
    "import os\n",
    "import random\n",
    "from random import randint"
   ]
  },
  {
   "cell_type": "markdown",
   "metadata": {},
   "source": [
    "## Choose number of families"
   ]
  },
  {
   "cell_type": "code",
   "execution_count": 4,
   "metadata": {},
   "outputs": [],
   "source": [
    "# amount_of_fam is how much of families you want to download from Rfam\n",
    "\n",
    "gen_range, numbers, amount_of_fam = 3115, [], 10 #int(input('Print number RANGE')), [], int(input('Print size of the sample'))\n",
    "\n",
    "while amount_of_fam > 0:\n",
    "    number = random.randint(1, gen_range)\n",
    "    if number not in numbers:\n",
    "        numbers.append(number)\n",
    "        amount_of_fam -= 1"
   ]
  },
  {
   "cell_type": "markdown",
   "metadata": {},
   "source": [
    "## Downloading files"
   ]
  },
  {
   "cell_type": "code",
   "execution_count": 5,
   "metadata": {},
   "outputs": [
    {
     "name": "stdout",
     "output_type": "stream",
     "text": [
      "--2019-05-20 15:10:53--  ftp://ftp.ebi.ac.uk/pub/databases/Rfam/14.1/fasta_files/RF00204.fa.gz\n",
      "           => ‘../data/families_seq/RF00204.fa.gz’\n",
      "Resolving ftp.ebi.ac.uk (ftp.ebi.ac.uk)... 193.62.192.4\n",
      "Connecting to ftp.ebi.ac.uk (ftp.ebi.ac.uk)|193.62.192.4|:21... connected.\n",
      "Logging in as anonymous ... Logged in!\n",
      "==> SYST ... done.    ==> PWD ... done.\n",
      "==> TYPE I ... done.  ==> CWD (1) /pub/databases/Rfam/14.1/fasta_files ... done.\n",
      "==> SIZE RF00204.fa.gz ... 13965\n",
      "==> PASV ... done.    ==> RETR RF00204.fa.gz ... done.\n",
      "Length: 13965 (14K) (unauthoritative)\n",
      "\n",
      "RF00204.fa.gz       100%[===================>]  13.64K  --.-KB/s    in 0.07s   \n",
      "\n",
      "2019-05-20 15:10:54 (209 KB/s) - ‘../data/families_seq/RF00204.fa.gz’ saved [13965]\n",
      "\n",
      "--2019-05-20 15:10:54--  ftp://ftp.ebi.ac.uk/pub/databases/Rfam/14.1/fasta_files/RF01100.fa.gz\n",
      "           => ‘../data/families_seq/RF01100.fa.gz’\n",
      "Connecting to ftp.ebi.ac.uk (ftp.ebi.ac.uk)|193.62.192.4|:21... connected.\n",
      "Logging in as anonymous ... Logged in!\n",
      "==> SYST ... done.    ==> PWD ... done.\n",
      "==> TYPE I ... done.  ==> CWD (1) /pub/databases/Rfam/14.1/fasta_files ... done.\n",
      "==> SIZE RF01100.fa.gz ... 198\n",
      "==> PASV ... done.    ==> RETR RF01100.fa.gz ... done.\n",
      "Length: 198 (unauthoritative)\n",
      "\n",
      "RF01100.fa.gz       100%[===================>]     198  --.-KB/s    in 0.002s  \n",
      "\n",
      "2019-05-20 15:10:55 (96.3 KB/s) - ‘../data/families_seq/RF01100.fa.gz’ saved [198]\n",
      "\n",
      "--2019-05-20 15:10:55--  ftp://ftp.ebi.ac.uk/pub/databases/Rfam/14.1/fasta_files/RF00698.fa.gz\n",
      "           => ‘../data/families_seq/RF00698.fa.gz’\n",
      "Connecting to ftp.ebi.ac.uk (ftp.ebi.ac.uk)|193.62.192.4|:21... connected.\n",
      "Logging in as anonymous ... Logged in!\n",
      "==> SYST ... done.    ==> PWD ... done.\n",
      "==> TYPE I ... done.  ==> CWD (1) /pub/databases/Rfam/14.1/fasta_files ... done.\n",
      "==> SIZE RF00698.fa.gz ... 5717\n",
      "==> PASV ... done.    ==> RETR RF00698.fa.gz ... done.\n",
      "Length: 5717 (5.6K) (unauthoritative)\n",
      "\n",
      "RF00698.fa.gz       100%[===================>]   5.58K  --.-KB/s    in 0.004s  \n",
      "\n",
      "2019-05-20 15:10:56 (1.41 MB/s) - ‘../data/families_seq/RF00698.fa.gz’ saved [5717]\n",
      "\n",
      "--2019-05-20 15:10:56--  ftp://ftp.ebi.ac.uk/pub/databases/Rfam/14.1/fasta_files/RF00011.fa.gz\n",
      "           => ‘../data/families_seq/RF00011.fa.gz’\n",
      "Connecting to ftp.ebi.ac.uk (ftp.ebi.ac.uk)|193.62.192.4|:21... connected.\n",
      "Logging in as anonymous ... Logged in!\n",
      "==> SYST ... done.    ==> PWD ... done.\n",
      "==> TYPE I ... done.  ==> CWD (1) /pub/databases/Rfam/14.1/fasta_files ... done.\n",
      "==> SIZE RF00011.fa.gz ... 98457\n",
      "==> PASV ... done.    ==> RETR RF00011.fa.gz ... done.\n",
      "Length: 98457 (96K) (unauthoritative)\n",
      "\n",
      "RF00011.fa.gz       100%[===================>]  96.15K   321KB/s    in 0.3s    \n",
      "\n",
      "2019-05-20 15:10:58 (321 KB/s) - ‘../data/families_seq/RF00011.fa.gz’ saved [98457]\n",
      "\n",
      "--2019-05-20 15:10:58--  ftp://ftp.ebi.ac.uk/pub/databases/Rfam/14.1/fasta_files/RF02502.fa.gz\n",
      "           => ‘../data/families_seq/RF02502.fa.gz’\n",
      "Connecting to ftp.ebi.ac.uk (ftp.ebi.ac.uk)|193.62.192.4|:21... connected.\n",
      "Logging in as anonymous ... Logged in!\n",
      "==> SYST ... done.    ==> PWD ... done.\n",
      "==> TYPE I ... done.  ==> CWD (1) /pub/databases/Rfam/14.1/fasta_files ... done.\n",
      "==> SIZE RF02502.fa.gz ... 10260\n",
      "==> PASV ... done.    ==> RETR RF02502.fa.gz ... done.\n",
      "Length: 10260 (10K) (unauthoritative)\n",
      "\n",
      "RF02502.fa.gz       100%[===================>]  10.02K  --.-KB/s    in 0.008s  \n",
      "\n",
      "2019-05-20 15:10:58 (1.29 MB/s) - ‘../data/families_seq/RF02502.fa.gz’ saved [10260]\n",
      "\n",
      "--2019-05-20 15:10:58--  ftp://ftp.ebi.ac.uk/pub/databases/Rfam/14.1/fasta_files/RF01405.fa.gz\n",
      "           => ‘../data/families_seq/RF01405.fa.gz’\n",
      "Connecting to ftp.ebi.ac.uk (ftp.ebi.ac.uk)|193.62.192.4|:21... connected.\n",
      "Logging in as anonymous ... Logged in!\n",
      "==> SYST ... done.    ==> PWD ... done.\n",
      "==> TYPE I ... done.  ==> CWD (1) /pub/databases/Rfam/14.1/fasta_files ... done.\n",
      "==> SIZE RF01405.fa.gz ... 8812\n",
      "==> PASV ... done.    ==> RETR RF01405.fa.gz ... done.\n",
      "Length: 8812 (8.6K) (unauthoritative)\n",
      "\n",
      "RF01405.fa.gz       100%[===================>]   8.61K  --.-KB/s    in 0.005s  \n",
      "\n",
      "2019-05-20 15:10:59 (1.73 MB/s) - ‘../data/families_seq/RF01405.fa.gz’ saved [8812]\n",
      "\n",
      "--2019-05-20 15:10:59--  ftp://ftp.ebi.ac.uk/pub/databases/Rfam/14.1/fasta_files/RF00382.fa.gz\n",
      "           => ‘../data/families_seq/RF00382.fa.gz’\n",
      "Connecting to ftp.ebi.ac.uk (ftp.ebi.ac.uk)|193.62.192.4|:21... connected.\n",
      "Logging in as anonymous ... Logged in!\n",
      "==> SYST ... done.    ==> PWD ... done.\n",
      "==> TYPE I ... done.  ==> CWD (1) /pub/databases/Rfam/14.1/fasta_files ... done.\n",
      "==> SIZE RF00382.fa.gz ... 4129\n",
      "==> PASV ... done.    ==> RETR RF00382.fa.gz ... done.\n",
      "Length: 4129 (4.0K) (unauthoritative)\n",
      "\n",
      "RF00382.fa.gz       100%[===================>]   4.03K  --.-KB/s    in 0.03s   \n",
      "\n",
      "2019-05-20 15:11:00 (146 KB/s) - ‘../data/families_seq/RF00382.fa.gz’ saved [4129]\n",
      "\n",
      "--2019-05-20 15:11:00--  ftp://ftp.ebi.ac.uk/pub/databases/Rfam/14.1/fasta_files/RF01735.fa.gz\n",
      "           => ‘../data/families_seq/RF01735.fa.gz’\n",
      "Connecting to ftp.ebi.ac.uk (ftp.ebi.ac.uk)|193.62.192.4|:21... connected.\n",
      "Logging in as anonymous ... Logged in!\n",
      "==> SYST ... done.    ==> PWD ... done.\n",
      "==> TYPE I ... done.  ==> CWD (1) /pub/databases/Rfam/14.1/fasta_files ... done.\n",
      "==> SIZE RF01735.fa.gz ... 12846\n",
      "==> PASV ... done.    ==> RETR RF01735.fa.gz ... done.\n",
      "Length: 12846 (13K) (unauthoritative)\n",
      "\n",
      "RF01735.fa.gz       100%[===================>]  12.54K  --.-KB/s    in 0.005s  \n",
      "\n",
      "2019-05-20 15:11:01 (2.62 MB/s) - ‘../data/families_seq/RF01735.fa.gz’ saved [12846]\n",
      "\n",
      "--2019-05-20 15:11:01--  ftp://ftp.ebi.ac.uk/pub/databases/Rfam/14.1/fasta_files/RF01584.fa.gz\n",
      "           => ‘../data/families_seq/RF01584.fa.gz’\n",
      "Connecting to ftp.ebi.ac.uk (ftp.ebi.ac.uk)|193.62.192.4|:21... connected.\n",
      "Logging in as anonymous ... Logged in!\n",
      "==> SYST ... done.    ==> PWD ... done.\n",
      "==> TYPE I ... done.  ==> CWD (1) /pub/databases/Rfam/14.1/fasta_files ... done.\n",
      "==> SIZE RF01584.fa.gz ... 679\n",
      "==> PASV ... done.    ==> RETR RF01584.fa.gz ... done.\n",
      "Length: 679 (unauthoritative)\n",
      "\n",
      "RF01584.fa.gz       100%[===================>]     679  --.-KB/s    in 0.02s   \n",
      "\n",
      "2019-05-20 15:11:02 (37.1 KB/s) - ‘../data/families_seq/RF01584.fa.gz’ saved [679]\n",
      "\n",
      "--2019-05-20 15:11:02--  ftp://ftp.ebi.ac.uk/pub/databases/Rfam/14.1/fasta_files/RF02954.fa.gz\n",
      "           => ‘../data/families_seq/RF02954.fa.gz’\n",
      "Connecting to ftp.ebi.ac.uk (ftp.ebi.ac.uk)|193.62.192.4|:21... connected.\n",
      "Logging in as anonymous ... Logged in!\n",
      "==> SYST ... done.    ==> PWD ... done.\n",
      "==> TYPE I ... done.  ==> CWD (1) /pub/databases/Rfam/14.1/fasta_files ... done.\n",
      "==> SIZE RF02954.fa.gz ... 2230\n",
      "==> PASV ... done.    ==> RETR RF02954.fa.gz ... done.\n",
      "Length: 2230 (2.2K) (unauthoritative)\n",
      "\n",
      "RF02954.fa.gz       100%[===================>]   2.18K  --.-KB/s    in 0.004s  \n",
      "\n",
      "2019-05-20 15:11:03 (575 KB/s) - ‘../data/families_seq/RF02954.fa.gz’ saved [2230]\n",
      "\n",
      "FINISHED --2019-05-20 15:11:03--\n",
      "Total wall clock time: 10s\n",
      "Downloaded: 10 files, 154K in 0.4s (351 KB/s)\n"
     ]
    }
   ],
   "source": [
    "with open(\"files_to_download.txt\", 'w') as out:\n",
    "    for num in numbers:\n",
    "        out.write('ftp://ftp.ebi.ac.uk/pub/databases/Rfam/14.1/fasta_files/RF' + ((5 - len(str(num))) * '0' + str(num)) + '.fa.gz' + '\\n')\n",
    "! wget -i \"files_to_download.txt\" -P \"../data/families_seq/\""
   ]
  },
  {
   "cell_type": "markdown",
   "metadata": {},
   "source": [
    "##### Unpacking and deleting archives"
   ]
  },
  {
   "cell_type": "code",
   "execution_count": 6,
   "metadata": {},
   "outputs": [],
   "source": [
    "os.chdir(\"../data/families_seq/\")\n",
    "! gunzip *.gz"
   ]
  },
  {
   "cell_type": "markdown",
   "metadata": {},
   "source": [
    "##### Here we determine the number of seq form each family (<=5); you can change numbers if you need"
   ]
  },
  {
   "cell_type": "code",
   "execution_count": 7,
   "metadata": {},
   "outputs": [],
   "source": [
    "! grep -c \"^>\" *.fa >> number_of_seqs.txt\n",
    "with open(\"number_of_seqs.txt\", 'r') as fname:\n",
    "    num_of_seq = []\n",
    "    for num in fname:\n",
    "        num_of_seq.append(int(num.strip().split(\":\")[1]))\n",
    "    need_num = min(num_of_seq) if min(num_of_seq) <= 10 else 10 # 5 else 5"
   ]
  },
  {
   "cell_type": "code",
   "execution_count": null,
   "metadata": {},
   "outputs": [],
   "source": [
    "'''\n",
    "YOU CAN USE THIS CELL IF YOU WANT TO MAKE TWO SAMPLES \n",
    "FROM ONE SET OF FAMILIES\n",
    "'''\n",
    "check_list = []\n",
    "with open('../data/sample_first_70.fasta') as fname:\n",
    "    for string in fname:\n",
    "        if \">\" in string:\n",
    "            check_list.append(string.strip()[1:-2])"
   ]
  },
  {
   "cell_type": "markdown",
   "metadata": {},
   "source": [
    "##### Now we make our sample :) WITH UNIQUE-CHECKER"
   ]
  },
  {
   "cell_type": "code",
   "execution_count": 8,
   "metadata": {},
   "outputs": [],
   "source": [
    "'''\n",
    "Here you can get random sample with unique sequences.\n",
    "It is important to note that if the family randomly selected in the previous \n",
    "step contains too many duplicate sequences, then its representation in the \n",
    "sample will be less than we expected. If the family is represented too poorly,\n",
    "delete the downloaded files (see below) and repeat the random getting of families\n",
    "'''\n",
    "need_num = 10\n",
    "# >RNU6-511P_ENSG00000200366.1,0\n",
    "import glob\n",
    "from random import sample\n",
    "from Bio import SeqIO\n",
    "from uuid import uuid1\n",
    "\n",
    "out = open(\"sample.fasta\", 'a')\n",
    "fam_name = 0\n",
    "\n",
    "for file in glob.glob(\"./*.fa\"):\n",
    "    fam = file[2:-3]\n",
    "    #record = SeqIO.to_dict(SeqIO.parse(file, \"fasta\"))\n",
    "    record, seq_check = {}, []\n",
    "    for rec in SeqIO.parse(file, \"fasta\"):\n",
    "        rec.id = rec.id.split(\"/\")[0]\n",
    "        #print(rec.id, rec.seq)\n",
    "        if rec.id not in record and str(rec.seq) not in seq_check and len(rec.seq) <= 900 and len(rec.seq) >= 70:\n",
    "            # print(rec.id.split(\"/\")[0])\n",
    "            record[rec.id] = str(rec.seq)\n",
    "            seq_check.append(str(rec.seq))\n",
    "        #print(record)\n",
    "    \n",
    "    if need_num > len(record):\n",
    "        end = len(record)\n",
    "    else:\n",
    "        end = need_num\n",
    "        \n",
    "    sp = random.sample(record.keys(), end)\n",
    "    \n",
    "    for seq_name in sp:\n",
    "        out.write(\">\" + fam + \"_\" + str(seq_name).split(\"/\")[0] + \",\" + str(fam_name) + '\\n')\n",
    "        out.write(str(record[seq_name]) + '\\n')\n",
    "    fam_name += 1\n",
    "    \n",
    "out.close()"
   ]
  },
  {
   "cell_type": "code",
   "execution_count": 9,
   "metadata": {},
   "outputs": [],
   "source": [
    "! grep -c \",0\" sample.fasta >> HOWMUCHFAM.txt\n",
    "! grep -c \",1\" sample.fasta >> HOWMUCHFAM.txt\n",
    "! grep -c \",2\" sample.fasta >> HOWMUCHFAM.txt\n",
    "! grep -c \",3\" sample.fasta >> HOWMUCHFAM.txt\n",
    "! grep -c \",4\" sample.fasta >> HOWMUCHFAM.txt\n",
    "! grep -c \",5\" sample.fasta >> HOWMUCHFAM.txt\n",
    "! grep -c \",6\" sample.fasta >> HOWMUCHFAM.txt\n",
    "! grep -c \",7\" sample.fasta >> HOWMUCHFAM.txt\n",
    "! grep -c \",8\" sample.fasta >> HOWMUCHFAM.txt\n",
    "! grep -c \",9\" sample.fasta >> HOWMUCHFAM.txt"
   ]
  },
  {
   "cell_type": "code",
   "execution_count": 10,
   "metadata": {},
   "outputs": [
    {
     "name": "stdout",
     "output_type": "stream",
     "text": [
      "393\n"
     ]
    }
   ],
   "source": [
    "! grep -c \">\" sample.fasta"
   ]
  },
  {
   "cell_type": "markdown",
   "metadata": {},
   "source": [
    "##### Making genelabel file"
   ]
  },
  {
   "cell_type": "code",
   "execution_count": 11,
   "metadata": {},
   "outputs": [],
   "source": [
    "from Bio import SeqIO\n",
    "with open(\"fam70_test.txt\", 'a') as out:\n",
    "    for record in SeqIO.parse(\"sample.fasta\", \"fasta\"):\n",
    "        iden = str(record.id).split(\",\")\n",
    "        out.write(iden[0] + \":\" + iden[1] + '\\n')"
   ]
  },
  {
   "cell_type": "code",
   "execution_count": 12,
   "metadata": {},
   "outputs": [
    {
     "name": "stdout",
     "output_type": "stream",
     "text": [
      "grep: genelabel_sample.txt: No such file or directory\n"
     ]
    }
   ],
   "source": [
    "! grep -c \":\" genelabel_sample.txt # You can know this file as *fam70_test.txt*"
   ]
  },
  {
   "cell_type": "code",
   "execution_count": null,
   "metadata": {},
   "outputs": [],
   "source": []
  }
 ],
 "metadata": {
  "kernelspec": {
   "display_name": "Python 3",
   "language": "python",
   "name": "python3"
  },
  "language_info": {
   "codemirror_mode": {
    "name": "ipython",
    "version": 3
   },
   "file_extension": ".py",
   "mimetype": "text/x-python",
   "name": "python",
   "nbconvert_exporter": "python",
   "pygments_lexer": "ipython3",
   "version": "3.7.3"
  }
 },
 "nbformat": 4,
 "nbformat_minor": 4
}
