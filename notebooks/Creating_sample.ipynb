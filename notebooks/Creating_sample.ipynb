{
 "cells": [
  {
   "cell_type": "markdown",
   "metadata": {},
   "source": [
    "# Getting random sample"
   ]
  },
  {
   "cell_type": "markdown",
   "metadata": {},
   "source": [
    "Rfam database contains 3115 RNA-sequences"
   ]
  },
  {
   "cell_type": "code",
   "execution_count": 2,
   "metadata": {},
   "outputs": [],
   "source": [
    "import os\n",
    "import random\n",
    "from random import randint"
   ]
  },
  {
   "cell_type": "code",
   "execution_count": 3,
   "metadata": {},
   "outputs": [
    {
     "name": "stdout",
     "output_type": "stream",
     "text": [
      "/home/julybel/py_proj/families\r\n"
     ]
    }
   ],
   "source": [
    "# os.chdir(\"./..\")\n",
    "!pwd"
   ]
  },
  {
   "cell_type": "code",
   "execution_count": 4,
   "metadata": {},
   "outputs": [
    {
     "name": "stdout",
     "output_type": "stream",
     "text": [
      "/home/julybel/py_proj/families/newfiles4\n"
     ]
    }
   ],
   "source": [
    "%cd /home/julybel/py_proj/families/newfiles4/"
   ]
  },
  {
   "cell_type": "markdown",
   "metadata": {},
   "source": [
    "##### Choose the numbers of families"
   ]
  },
  {
   "cell_type": "code",
   "execution_count": 57,
   "metadata": {},
   "outputs": [],
   "source": [
    "# amount_of_fam is how much of families you want to download from Rfam\n",
    "\n",
    "gen_range, numbers, amount_of_fam = 3115, [], 10 #int(input('Print number RANGE')), [], int(input('Print size of the sample'))\n",
    "\n",
    "while amount_of_fam > 0:\n",
    "    number = random.randint(1, gen_range)\n",
    "    if number not in numbers:\n",
    "        numbers.append(number)\n",
    "        amount_of_fam -= 1"
   ]
  },
  {
   "cell_type": "markdown",
   "metadata": {},
   "source": [
    "##### Downloading files"
   ]
  },
  {
   "cell_type": "code",
   "execution_count": 58,
   "metadata": {},
   "outputs": [
    {
     "name": "stdout",
     "output_type": "stream",
     "text": [
      "--2019-05-12 15:52:02--  ftp://ftp.ebi.ac.uk/pub/databases/Rfam/14.1/fasta_files/RF00677.fa.gz\n",
      "           => «./newfiles2/RF00677.fa.gz»\n",
      "Распознаётся ftp.ebi.ac.uk (ftp.ebi.ac.uk)… 193.62.192.4\n",
      "Подключение к ftp.ebi.ac.uk (ftp.ebi.ac.uk)|193.62.192.4|:21... соединение установлено.\n",
      "Выполняется вход под именем anonymous … Выполнен вход в систему!\n",
      "==> SYST ... готово.    ==> PWD ... готово.\n",
      "==> TYPE I ... готово.  ==> CWD (1) /pub/databases/Rfam/14.1/fasta_files ... готово.\n",
      "==> SIZE RF00677.fa.gz ... 9724\n",
      "==> PASV ... готово.    ==> RETR RF00677.fa.gz ... готово.\n",
      "Размер (байт): 9724 (9,5K) (не достоверно)\n",
      "\n",
      "RF00677.fa.gz       100%[===================>]   9,50K  --.-KB/s    за 0,02s   \n",
      "\n",
      "2019-05-12 15:52:03 (418 KB/s) - «./newfiles2/RF00677.fa.gz» сохранён [9724]\n",
      "\n",
      "--2019-05-12 15:52:03--  ftp://ftp.ebi.ac.uk/pub/databases/Rfam/14.1/fasta_files/RF02981.fa.gz\n",
      "           => «./newfiles2/RF02981.fa.gz»\n",
      "Подключение к ftp.ebi.ac.uk (ftp.ebi.ac.uk)|193.62.192.4|:21... соединение установлено.\n",
      "Выполняется вход под именем anonymous … Выполнен вход в систему!\n",
      "==> SYST ... готово.    ==> PWD ... готово.\n",
      "==> TYPE I ... готово.  ==> CWD (1) /pub/databases/Rfam/14.1/fasta_files ... готово.\n",
      "==> SIZE RF02981.fa.gz ... 955\n",
      "==> PASV ... готово.    ==> RETR RF02981.fa.gz ... готово.\n",
      "Размер (байт): 955 (не достоверно)\n",
      "\n",
      "RF02981.fa.gz       100%[===================>]     955  --.-KB/s    за 0,005s  \n",
      "\n",
      "2019-05-12 15:52:04 (188 KB/s) - «./newfiles2/RF02981.fa.gz» сохранён [955]\n",
      "\n",
      "--2019-05-12 15:52:04--  ftp://ftp.ebi.ac.uk/pub/databases/Rfam/14.1/fasta_files/RF03015.fa.gz\n",
      "           => «./newfiles2/RF03015.fa.gz»\n",
      "Подключение к ftp.ebi.ac.uk (ftp.ebi.ac.uk)|193.62.192.4|:21... соединение установлено.\n",
      "Выполняется вход под именем anonymous … Выполнен вход в систему!\n",
      "==> SYST ... готово.    ==> PWD ... готово.\n",
      "==> TYPE I ... готово.  ==> CWD (1) /pub/databases/Rfam/14.1/fasta_files ... готово.\n",
      "==> SIZE RF03015.fa.gz ... 5831\n",
      "==> PASV ... готово.    ==> RETR RF03015.fa.gz ... готово.\n",
      "Размер (байт): 5831 (5,7K) (не достоверно)\n",
      "\n",
      "RF03015.fa.gz       100%[===================>]   5,69K  --.-KB/s    за 0,009s  \n",
      "\n",
      "2019-05-12 15:52:05 (627 KB/s) - «./newfiles2/RF03015.fa.gz» сохранён [5831]\n",
      "\n",
      "--2019-05-12 15:52:05--  ftp://ftp.ebi.ac.uk/pub/databases/Rfam/14.1/fasta_files/RF02272.fa.gz\n",
      "           => «./newfiles2/RF02272.fa.gz»\n",
      "Подключение к ftp.ebi.ac.uk (ftp.ebi.ac.uk)|193.62.192.4|:21... соединение установлено.\n",
      "Выполняется вход под именем anonymous … Выполнен вход в систему!\n",
      "==> SYST ... готово.    ==> PWD ... готово.\n",
      "==> TYPE I ... готово.  ==> CWD (1) /pub/databases/Rfam/14.1/fasta_files ... готово.\n",
      "==> SIZE RF02272.fa.gz ... 3044\n",
      "==> PASV ... готово.    ==> RETR RF02272.fa.gz ... готово.\n",
      "Размер (байт): 3044 (3,0K) (не достоверно)\n",
      "\n",
      "RF02272.fa.gz       100%[===================>]   2,97K  --.-KB/s    за 0,008s  \n",
      "\n",
      "2019-05-12 15:52:06 (369 KB/s) - «./newfiles2/RF02272.fa.gz» сохранён [3044]\n",
      "\n",
      "--2019-05-12 15:52:06--  ftp://ftp.ebi.ac.uk/pub/databases/Rfam/14.1/fasta_files/RF00160.fa.gz\n",
      "           => «./newfiles2/RF00160.fa.gz»\n",
      "Подключение к ftp.ebi.ac.uk (ftp.ebi.ac.uk)|193.62.192.4|:21... соединение установлено.\n",
      "Выполняется вход под именем anonymous … Выполнен вход в систему!\n",
      "==> SYST ... готово.    ==> PWD ... готово.\n",
      "==> TYPE I ... готово.  ==> CWD (1) /pub/databases/Rfam/14.1/fasta_files ... готово.\n",
      "==> SIZE RF00160.fa.gz ... 20753\n",
      "==> PASV ... готово.    ==> RETR RF00160.fa.gz ... готово.\n",
      "Размер (байт): 20753 (20K) (не достоверно)\n",
      "\n",
      "RF00160.fa.gz       100%[===================>]  20,27K  --.-KB/s    за 0,1s    \n",
      "\n",
      "2019-05-12 15:52:08 (205 KB/s) - «./newfiles2/RF00160.fa.gz» сохранён [20753]\n",
      "\n",
      "--2019-05-12 15:52:08--  ftp://ftp.ebi.ac.uk/pub/databases/Rfam/14.1/fasta_files/RF03115.fa.gz\n",
      "           => «./newfiles2/RF03115.fa.gz»\n",
      "Подключение к ftp.ebi.ac.uk (ftp.ebi.ac.uk)|193.62.192.4|:21... соединение установлено.\n",
      "Выполняется вход под именем anonymous … Выполнен вход в систему!\n",
      "==> SYST ... готово.    ==> PWD ... готово.\n",
      "==> TYPE I ... готово.  ==> CWD (1) /pub/databases/Rfam/14.1/fasta_files ... готово.\n",
      "==> SIZE RF03115.fa.gz ... 2001\n",
      "==> PASV ... готово.    ==> RETR RF03115.fa.gz ... готово.\n",
      "Размер (байт): 2001 (2,0K) (не достоверно)\n",
      "\n",
      "RF03115.fa.gz       100%[===================>]   1,95K  --.-KB/s    за 0,02s   \n",
      "\n",
      "2019-05-12 15:52:09 (103 KB/s) - «./newfiles2/RF03115.fa.gz» сохранён [2001]\n",
      "\n",
      "--2019-05-12 15:52:09--  ftp://ftp.ebi.ac.uk/pub/databases/Rfam/14.1/fasta_files/RF02115.fa.gz\n",
      "           => «./newfiles2/RF02115.fa.gz»\n",
      "Подключение к ftp.ebi.ac.uk (ftp.ebi.ac.uk)|193.62.192.4|:21... соединение установлено.\n",
      "Выполняется вход под именем anonymous … Выполнен вход в систему!\n",
      "==> SYST ... готово.    ==> PWD ... готово.\n",
      "==> TYPE I ... готово.  ==> CWD (1) /pub/databases/Rfam/14.1/fasta_files ... готово.\n",
      "==> SIZE RF02115.fa.gz ... 2386\n",
      "==> PASV ... готово.    ==> RETR RF02115.fa.gz ... готово.\n",
      "Размер (байт): 2386 (2,3K) (не достоверно)\n",
      "\n",
      "RF02115.fa.gz       100%[===================>]   2,33K  --.-KB/s    за 0,004s  \n",
      "\n",
      "2019-05-12 15:52:10 (585 KB/s) - «./newfiles2/RF02115.fa.gz» сохранён [2386]\n",
      "\n",
      "--2019-05-12 15:52:10--  ftp://ftp.ebi.ac.uk/pub/databases/Rfam/14.1/fasta_files/RF00247.fa.gz\n",
      "           => «./newfiles2/RF00247.fa.gz»\n",
      "Подключение к ftp.ebi.ac.uk (ftp.ebi.ac.uk)|193.62.192.4|:21... соединение установлено.\n",
      "Выполняется вход под именем anonymous … Выполнен вход в систему!\n",
      "==> SYST ... готово.    ==> PWD ... готово.\n",
      "==> TYPE I ... готово.  ==> CWD (1) /pub/databases/Rfam/14.1/fasta_files ... готово.\n",
      "==> SIZE RF00247.fa.gz ... 20368\n",
      "==> PASV ... готово.    ==> RETR RF00247.fa.gz ... готово.\n",
      "Размер (байт): 20368 (20K) (не достоверно)\n",
      "\n",
      "RF00247.fa.gz       100%[===================>]  19,89K  --.-KB/s    за 0,1s    \n",
      "\n",
      "2019-05-12 15:52:11 (180 KB/s) - «./newfiles2/RF00247.fa.gz» сохранён [20368]\n",
      "\n",
      "--2019-05-12 15:52:11--  ftp://ftp.ebi.ac.uk/pub/databases/Rfam/14.1/fasta_files/RF03112.fa.gz\n",
      "           => «./newfiles2/RF03112.fa.gz»\n",
      "Подключение к ftp.ebi.ac.uk (ftp.ebi.ac.uk)|193.62.192.4|:21... соединение установлено.\n",
      "Выполняется вход под именем anonymous … Выполнен вход в систему!\n",
      "==> SYST ... готово.    ==> PWD ... готово.\n",
      "==> TYPE I ... готово.  ==> CWD (1) /pub/databases/Rfam/14.1/fasta_files ... готово.\n",
      "==> SIZE RF03112.fa.gz ... 940\n",
      "==> PASV ... готово.    ==> RETR RF03112.fa.gz ... готово.\n",
      "Размер (байт): 940 (не достоверно)\n",
      "\n",
      "RF03112.fa.gz       100%[===================>]     940  --.-KB/s    за 0,005s  \n",
      "\n",
      "2019-05-12 15:52:12 (172 KB/s) - «./newfiles2/RF03112.fa.gz» сохранён [940]\n",
      "\n",
      "--2019-05-12 15:52:12--  ftp://ftp.ebi.ac.uk/pub/databases/Rfam/14.1/fasta_files/RF01758.fa.gz\n",
      "           => «./newfiles2/RF01758.fa.gz»\n",
      "Подключение к ftp.ebi.ac.uk (ftp.ebi.ac.uk)|193.62.192.4|:21... соединение установлено.\n",
      "Выполняется вход под именем anonymous … Выполнен вход в систему!\n",
      "==> SYST ... готово.    ==> PWD ... готово.\n",
      "==> TYPE I ... готово.  ==> CWD (1) /pub/databases/Rfam/14.1/fasta_files ... готово.\n",
      "==> SIZE RF01758.fa.gz ... 6107\n",
      "==> PASV ... готово.    ==> RETR RF01758.fa.gz ... готово.\n",
      "Размер (байт): 6107 (6,0K) (не достоверно)\n",
      "\n",
      "RF01758.fa.gz       100%[===================>]   5,96K  --.-KB/s    за 0,005s  \n",
      "\n",
      "2019-05-12 15:52:13 (1,07 MB/s) - «./newfiles2/RF01758.fa.gz» сохранён [6107]\n",
      "\n",
      "ЗАВЕРШЕНО --2019-05-12 15:52:13--\n",
      "Общее время: 11s\n",
      "Загружено: 10 файлов, 70K за 0,3s (245 KB/s)\n"
     ]
    }
   ],
   "source": [
    "with open(\"files_to_download.txt\", 'w') as out:\n",
    "    for num in numbers:\n",
    "        out.write('ftp://ftp.ebi.ac.uk/pub/databases/Rfam/14.1/fasta_files/RF' + ((5 - len(str(num))) * '0' + str(num)) + '.fa.gz' + '\\n')\n",
    "! wget -i \"files_to_download.txt\" -P \"./newfiles2/\""
   ]
  },
  {
   "cell_type": "markdown",
   "metadata": {},
   "source": [
    "##### Unpacking and deleting archives"
   ]
  },
  {
   "cell_type": "code",
   "execution_count": 59,
   "metadata": {},
   "outputs": [],
   "source": [
    "os.chdir(\"./newfiles2/\")\n",
    "! gunzip *.gz"
   ]
  },
  {
   "cell_type": "markdown",
   "metadata": {},
   "source": [
    "\n"
   ]
  },
  {
   "cell_type": "markdown",
   "metadata": {},
   "source": [
    "##### Here we determine the number of seq form each family (<=5); you can change numbers if you need"
   ]
  },
  {
   "cell_type": "code",
   "execution_count": 60,
   "metadata": {},
   "outputs": [],
   "source": [
    "! grep -c \"^>\" *.fa >> number_of_seqs.txt\n",
    "with open(\"number_of_seqs.txt\", 'r') as fname:\n",
    "    num_of_seq = []\n",
    "    for num in fname:\n",
    "        num_of_seq.append(int(num.strip().split(\":\")[1]))\n",
    "    need_num = min(num_of_seq) if min(num_of_seq) <= 10 else 10 # 5 else 5"
   ]
  },
  {
   "cell_type": "code",
   "execution_count": 21,
   "metadata": {},
   "outputs": [],
   "source": [
    "'''\n",
    "YOU CAN USE THIS CELL IF U WANT TO MAKE TWO SAMPLES \n",
    "FROM ONE SET OF FAMILIES\n",
    "'''\n",
    "check_list = []\n",
    "with open('./sample_first_70.fasta') as fname:\n",
    "    for string in fname:\n",
    "        if \">\" in string:\n",
    "            check_list.append(string.strip()[1:-2])"
   ]
  },
  {
   "cell_type": "markdown",
   "metadata": {},
   "source": [
    "##### Now we make our sample :) WITH UNIQUE-CHECKER"
   ]
  },
  {
   "cell_type": "code",
   "execution_count": 43,
   "metadata": {},
   "outputs": [],
   "source": [
    "'''\n",
    "Here you can get random sample with unique sequences.\n",
    "It is important to note that if the family randomly selected in the previous \n",
    "step contains too many duplicate sequences, then its representation in the \n",
    "sample will be less than we expected. If the family is represented too poorly,\n",
    "delete the downloaded files (see below) and repeat the random getting of families\n",
    "'''\n",
    "need_num = 10\n",
    "# >RNU6-511P_ENSG00000200366.1,0\n",
    "import glob\n",
    "from random import sample\n",
    "from Bio import SeqIO\n",
    "\n",
    "out = open(\"sample.fasta\", 'a')\n",
    "fam_name = 0\n",
    "\n",
    "for file in glob.glob(\"./*.fa\"):\n",
    "    fam = file[2:-3]\n",
    "    #record = SeqIO.to_dict(SeqIO.parse(file, \"fasta\"))\n",
    "    record, seq_check = {}, []\n",
    "    for rec in SeqIO.parse(file, \"fasta\"):\n",
    "        #print(rec.id, rec.seq)\n",
    "        if rec.id not in record and str(rec.seq) not in seq_check and len(rec.seq) <= 900 and len(rec.seq) >= 70:\n",
    "            # print(rec.id.split(\"/\")[0])\n",
    "            record[rec.id] = str(rec.seq)\n",
    "            seq_check.append(str(rec.seq))\n",
    "        #print(record)\n",
    "    \n",
    "    if need_num > len(record):\n",
    "        end = len(record)\n",
    "    else:\n",
    "        end = need_num\n",
    "        \n",
    "    sp = random.sample(record.keys(), end)\n",
    "    \n",
    "    for seq_name in sp:\n",
    "        out.write(\">\" + fam + \"_\" + str(seq_name).split(\"/\")[0] + \",\" + str(fam_name) + '\\n')\n",
    "        out.write(str(record[seq_name]) + '\\n')\n",
    "    fam_name += 1\n",
    "    \n",
    "out.close()"
   ]
  },
  {
   "cell_type": "code",
   "execution_count": 44,
   "metadata": {},
   "outputs": [],
   "source": [
    "! grep -c \",0\" sample.fasta >> HOWMUCHFAM.txt\n",
    "! grep -c \",1\" sample.fasta >> HOWMUCHFAM.txt\n",
    "! grep -c \",2\" sample.fasta >> HOWMUCHFAM.txt\n",
    "! grep -c \",3\" sample.fasta >> HOWMUCHFAM.txt\n",
    "! grep -c \",4\" sample.fasta >> HOWMUCHFAM.txt\n",
    "! grep -c \",5\" sample.fasta >> HOWMUCHFAM.txt\n",
    "! grep -c \",6\" sample.fasta >> HOWMUCHFAM.txt\n",
    "! grep -c \",7\" sample.fasta >> HOWMUCHFAM.txt\n",
    "! grep -c \",8\" sample.fasta >> HOWMUCHFAM.txt\n",
    "! grep -c \",9\" sample.fasta >> HOWMUCHFAM.txt"
   ]
  },
  {
   "cell_type": "code",
   "execution_count": 45,
   "metadata": {},
   "outputs": [
    {
     "name": "stdout",
     "output_type": "stream",
     "text": [
      "100\r\n"
     ]
    }
   ],
   "source": [
    "! grep -c \"^>\" sample.fasta"
   ]
  },
  {
   "cell_type": "code",
   "execution_count": 14,
   "metadata": {},
   "outputs": [
    {
     "name": "stdout",
     "output_type": "stream",
     "text": [
      "/home/julybel/py_proj/families/newfiles4\r\n"
     ]
    }
   ],
   "source": [
    "!pwd"
   ]
  },
  {
   "cell_type": "code",
   "execution_count": 44,
   "metadata": {},
   "outputs": [
    {
     "name": "stdout",
     "output_type": "stream",
     "text": [
      "rm: невозможно удалить '*.fasta': Нет такого файла или каталога\r\n"
     ]
    }
   ],
   "source": [
    "! rm *.fa\n",
    "! rm *.fasta\n",
    "! rm *.txt"
   ]
  },
  {
   "cell_type": "markdown",
   "metadata": {},
   "source": [
    "##### Making genelabel file"
   ]
  },
  {
   "cell_type": "code",
   "execution_count": 51,
   "metadata": {},
   "outputs": [],
   "source": [
    "from Bio import SeqIO\n",
    "with open(\"fam70_test.txt\", 'a') as out:\n",
    "    for record in SeqIO.parse(\"sample_second.fasta\", \"fasta\"):\n",
    "        iden = str(record.id).split(\",\")\n",
    "        out.write(iden[0] + \":\" + iden[1] + '\\n')"
   ]
  },
  {
   "cell_type": "code",
   "execution_count": 49,
   "metadata": {},
   "outputs": [
    {
     "name": "stdout",
     "output_type": "stream",
     "text": [
      "100\r\n"
     ]
    }
   ],
   "source": [
    "! grep -c \":\" genelabel_sample.txt # You can know this file as *fam70_test.txt*"
   ]
  },
  {
   "cell_type": "code",
   "execution_count": null,
   "metadata": {},
   "outputs": [],
   "source": []
  }
 ],
 "metadata": {
  "kernelspec": {
   "display_name": "Python 3",
   "language": "python",
   "name": "python3"
  },
  "language_info": {
   "codemirror_mode": {
    "name": "ipython",
    "version": 3
   },
   "file_extension": ".py",
   "mimetype": "text/x-python",
   "name": "python",
   "nbconvert_exporter": "python",
   "pygments_lexer": "ipython3",
   "version": "3.6.5"
  }
 },
 "nbformat": 4,
 "nbformat_minor": 2
}
