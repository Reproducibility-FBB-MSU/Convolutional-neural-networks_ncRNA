{
 "cells": [
  {
   "cell_type": "markdown",
   "metadata": {
    "pycharm": {
     "name": "#%% \n"
    }
   },
   "source": [
    "# Comparison of original CNN and new PyTorch CNN\n",
    "  PyTorch CNN trains with CosAnnealingWithWarmRestarts scheduler \n",
    "  The experiment plot: \n",
    "  <pre>\n",
    "                                   ┌> PT CNN ─Training─> Trained PT CNN ─────┬────> Stats \n",
    "                                   |                                         |\n",
    "  DATASET (70 seqs of 10 families) |                    TEST DATASET (67 seqs of 10 families)                 \n",
    "                                   |                                         |\n",
    "                                   └> Ch CNN ─Training─> Trained Ch CNN ─────┴────> Stats\n",
    "  </pre>"
   ]
  },
  {
   "cell_type": "code",
   "execution_count": 4,
   "metadata": {},
   "outputs": [],
   "source": [
    "import sys\n",
    "import os\n",
    "# appending source path \n",
    "sys.path.append(os.sep.join(os.getcwd().split(os.sep)[:-1] + [\"src\"]))\n",
    "sys.path.append(os.sep.join(os.getcwd().split(os.sep)[:-1] + [\"src\", \"original_cnn\"]))"
   ]
  },
  {
   "cell_type": "code",
   "execution_count": 5,
   "metadata": {},
   "outputs": [],
   "source": [
    "import RunNN  # our cnn\n",
    "from DataProcessing import AlignmentFilePrepare  # dataset class\n",
    "\n",
    "from torch.utils.data import DataLoader\n",
    "\n",
    "import json\n",
    "from subprocess import Popen, PIPE\n",
    "\n",
    "\n",
    "# IMPORTANT CONSTANTS\n",
    "BATCH_SIZE= 128\n",
    "EPOCH = 25\n",
    "CPU_ONLY = False"
   ]
  },
  {
   "cell_type": "markdown",
   "metadata": {},
   "source": [
    "## Prepare datasets\n",
    "Please, stand by"
   ]
  },
  {
   "cell_type": "code",
   "execution_count": 3,
   "metadata": {},
   "outputs": [
    {
     "name": "stdout",
     "output_type": "stream",
     "text": [
      "Return code is 0\n",
      "Return code is 0\n"
     ]
    }
   ],
   "source": [
    "# training ds\n",
    "cmd = [\n",
    "    \"python\",\n",
    "    \"../src/original_cnn/prepareData.py\",\n",
    "    \"-i\", \"../data/train.fasta\",\n",
    "    \"-o\", \"../data/train\",\n",
    "    \"-t\", \"3\"  # adjust threads\n",
    "]\n",
    "with Popen(cmd) as proc:\n",
    "    print(\"Return code is {}\".format(proc.wait()))\n",
    "\n",
    "# test ds\n",
    "cmd = [\n",
    "    \"python\",\n",
    "    \"../src/original_cnn/prepareData.py\",\n",
    "    \"-i\", \"../data/test.fasta\",\n",
    "    \"-o\", \"../data/test\",\n",
    "    \"-t\", \"3\"  # adjust threads\n",
    "]\n",
    "with Popen(cmd) as proc:\n",
    "    print(\"Return code is {}\".format(proc.wait()))\n",
    "    "
   ]
  },
  {
   "cell_type": "markdown",
   "metadata": {},
   "source": [
    "## Train and test RunNN\n",
    "### DAFS with alignments"
   ]
  },
  {
   "cell_type": "code",
   "execution_count": 4,
   "metadata": {},
   "outputs": [
    {
     "name": "stdout",
     "output_type": "stream",
     "text": [
      "Dataset splitted. Classes distributed: chi^2 p-val=1.0 (1 means equally distributed classes in test and validation)\n",
      "Data loaded:\n",
      "\tTrain: 4346 alignments\n",
      "\tValidation: 484 alignments\n",
      "Negatives in training set: 91.26%. In val set: 91.74%\n",
      "Data is loaded. Shape: torch.Size([1, 1200, 16])\n",
      "Epoch [1/25], Loss (train/val): 0.1675/0.0378, Accuracy (train/val): 93.0607%/99.5868%, Precision (val): 0.9955, Current lr: 0.00050. Time elapsed: 6.15\n",
      "Epoch [2/25], Loss (train/val): 0.0207/0.0080, Accuracy (train/val): 99.2647%/99.5868%, Precision (val): 1.0000, Current lr: 0.00050. Time elapsed: 9.51\n",
      "Epoch [3/25], Loss (train/val): 0.0012/0.0004, Accuracy (train/val): 99.9885%/100.0000%, Precision (val): 1.0000, Current lr: 0.00050. Time elapsed: 12.68\n",
      "Epoch [4/25], Loss (train/val): 0.0003/0.0001, Accuracy (train/val): 100.0000%/100.0000%, Precision (val): 1.0000, Current lr: 0.00050. Time elapsed: 15.87\n",
      "Epoch [5/25], Loss (train/val): 0.0001/0.0001, Accuracy (train/val): 100.0000%/100.0000%, Precision (val): 1.0000, Current lr: 0.00050. Time elapsed: 19.02\n",
      "Epoch [6/25], Loss (train/val): 0.0000/0.0000, Accuracy (train/val): 100.0000%/100.0000%, Precision (val): 1.0000, Current lr: 0.00050. Time elapsed: 22.20\n",
      "Epoch [7/25], Loss (train/val): 0.0000/0.0001, Accuracy (train/val): 100.0000%/100.0000%, Precision (val): 1.0000, Current lr: 0.00050. Time elapsed: 25.38\n",
      "Epoch [8/25], Loss (train/val): 0.0000/0.0001, Accuracy (train/val): 100.0000%/100.0000%, Precision (val): 1.0000, Current lr: 0.00050. Time elapsed: 28.57\n",
      "Epoch [9/25], Loss (train/val): 0.0000/0.0000, Accuracy (train/val): 100.0000%/100.0000%, Precision (val): 1.0000, Current lr: 0.00050. Time elapsed: 31.77\n",
      "Epoch [10/25], Loss (train/val): 0.0000/0.0000, Accuracy (train/val): 100.0000%/100.0000%, Precision (val): 1.0000, Current lr: 0.00050. Time elapsed: 34.93\n",
      "Epoch [11/25], Loss (train/val): 0.0000/0.0001, Accuracy (train/val): 100.0000%/100.0000%, Precision (val): 1.0000, Current lr: 0.00050. Time elapsed: 38.10\n",
      "Epoch [12/25], Loss (train/val): 0.0000/0.0000, Accuracy (train/val): 100.0000%/100.0000%, Precision (val): 1.0000, Current lr: 0.00050. Time elapsed: 41.29\n",
      "Epoch [13/25], Loss (train/val): 0.0000/0.0000, Accuracy (train/val): 100.0000%/100.0000%, Precision (val): 1.0000, Current lr: 0.00050. Time elapsed: 44.46\n",
      "Epoch [14/25], Loss (train/val): 0.0000/0.0000, Accuracy (train/val): 100.0000%/100.0000%, Precision (val): 1.0000, Current lr: 0.00050. Time elapsed: 47.64\n",
      "Epoch [15/25], Loss (train/val): 0.0000/0.0000, Accuracy (train/val): 100.0000%/100.0000%, Precision (val): 1.0000, Current lr: 0.00050. Time elapsed: 50.82\n",
      "Epoch [16/25], Loss (train/val): 0.0000/0.0000, Accuracy (train/val): 100.0000%/100.0000%, Precision (val): 1.0000, Current lr: 0.00050. Time elapsed: 53.98\n",
      "Epoch [17/25], Loss (train/val): 0.0000/0.0000, Accuracy (train/val): 100.0000%/100.0000%, Precision (val): 1.0000, Current lr: 0.00050. Time elapsed: 57.19\n",
      "Epoch [18/25], Loss (train/val): 0.0000/0.0000, Accuracy (train/val): 100.0000%/100.0000%, Precision (val): 1.0000, Current lr: 0.00050. Time elapsed: 60.35\n",
      "Epoch [19/25], Loss (train/val): 0.0000/0.0000, Accuracy (train/val): 100.0000%/100.0000%, Precision (val): 1.0000, Current lr: 0.00050. Time elapsed: 63.53\n",
      "Epoch [20/25], Loss (train/val): 0.0000/0.0000, Accuracy (train/val): 100.0000%/100.0000%, Precision (val): 1.0000, Current lr: 0.00050. Time elapsed: 66.69\n",
      "Epoch [21/25], Loss (train/val): 0.0000/0.0000, Accuracy (train/val): 100.0000%/100.0000%, Precision (val): 1.0000, Current lr: 0.00050. Time elapsed: 69.88\n",
      "Epoch [22/25], Loss (train/val): 0.0000/0.0000, Accuracy (train/val): 100.0000%/100.0000%, Precision (val): 1.0000, Current lr: 0.00050. Time elapsed: 73.10\n",
      "Epoch [23/25], Loss (train/val): 0.0000/0.0000, Accuracy (train/val): 100.0000%/100.0000%, Precision (val): 1.0000, Current lr: 0.00050. Time elapsed: 76.28\n",
      "Epoch [24/25], Loss (train/val): 0.0000/0.0000, Accuracy (train/val): 100.0000%/100.0000%, Precision (val): 1.0000, Current lr: 0.00050. Time elapsed: 79.46\n",
      "Epoch [25/25], Loss (train/val): 0.0000/0.0000, Accuracy (train/val): 100.0000%/100.0000%, Precision (val): 1.0000, Current lr: 0.00050. Time elapsed: 82.64\n"
     ]
    }
   ],
   "source": [
    "# train model\n",
    "model = RunNN.main(\n",
    "    dataset=\"../data/train/ncRNApair_data.npy\",\n",
    "    label=\"../data/train/ncRNApair_labe.npy\",\n",
    "    genelabel=\"../data/train/genelabel.txt\",\n",
    "    batchsize=BATCH_SIZE,\n",
    "    epoch=EPOCH,\n",
    "    vpart=0.1,\n",
    "    cpu=CPU_ONLY,\n",
    "    structure=False,\n",
    "    predictor=\"\"  # empty, if you want to train model\n",
    ")\n",
    "# evaluate model\n",
    "dataset = AlignmentFilePrepare(\"../data/test/ncRNApair_data.npy\", \"../data/test/ncRNApair_labe.npy\", \"../data/test/genelabel.txt\")\n",
    "dl = DataLoader(dataset, num_workers=3, shuffle=True, batch_size=BATCH_SIZE)\n",
    "RunNN.predict(model, dl)\n",
    "# save stats\n",
    "with open(\"stats.json\") as fin:\n",
    "    dafs_pt_cnn_history = json.load(fin)\n",
    "dafs_pt_cnn_results = RunNN.predict(model, dl)\n",
    "# clean space\n",
    "del model\n",
    "dafs_pt_cnn_results"
   ]
  },
  {
   "cell_type": "markdown",
   "metadata": {},
   "source": [
    "### DAFS structure-only"
   ]
  },
  {
   "cell_type": "code",
   "execution_count": 5,
   "metadata": {},
   "outputs": [
    {
     "name": "stdout",
     "output_type": "stream",
     "text": [
      "Dataset splitted. Classes distributed: chi^2 p-val=1.0 (1 means equally distributed classes in test and validation)\n",
      "Data loaded:\n",
      "\tTrain: 4346 alignments\n",
      "\tValidation: 484 alignments\n",
      "Negatives in training set: 91.26%. In val set: 91.74%\n",
      "Data is loaded. Shape: torch.Size([1, 1200, 6])\n",
      "Epoch [1/25], Loss (train/val): 0.1635/0.0839, Accuracy (train/val): 93.3134%/96.6942%, Precision (val): 0.9712, Current lr: 0.00050. Time elapsed: 2.68\n",
      "Epoch [2/25], Loss (train/val): 0.0463/0.0238, Accuracy (train/val): 98.5524%/99.7934%, Precision (val): 0.9977, Current lr: 0.00050. Time elapsed: 5.36\n",
      "Epoch [3/25], Loss (train/val): 0.0045/0.0111, Accuracy (train/val): 99.9311%/99.7934%, Precision (val): 0.9977, Current lr: 0.00050. Time elapsed: 8.01\n",
      "Epoch [4/25], Loss (train/val): 0.0006/0.0051, Accuracy (train/val): 100.0000%/100.0000%, Precision (val): 1.0000, Current lr: 0.00050. Time elapsed: 10.65\n",
      "Epoch [5/25], Loss (train/val): 0.0003/0.0053, Accuracy (train/val): 100.0000%/99.7934%, Precision (val): 0.9977, Current lr: 0.00050. Time elapsed: 13.29\n",
      "Epoch [6/25], Loss (train/val): 0.0001/0.0034, Accuracy (train/val): 100.0000%/100.0000%, Precision (val): 1.0000, Current lr: 0.00050. Time elapsed: 15.93\n",
      "Epoch [7/25], Loss (train/val): 0.0001/0.0043, Accuracy (train/val): 100.0000%/99.7934%, Precision (val): 0.9977, Current lr: 0.00050. Time elapsed: 18.58\n",
      "Epoch [8/25], Loss (train/val): 0.0000/0.0022, Accuracy (train/val): 100.0000%/100.0000%, Precision (val): 1.0000, Current lr: 0.00050. Time elapsed: 21.23\n",
      "Epoch [9/25], Loss (train/val): 0.0000/0.0023, Accuracy (train/val): 100.0000%/100.0000%, Precision (val): 1.0000, Current lr: 0.00050. Time elapsed: 23.87\n",
      "Epoch [10/25], Loss (train/val): 0.0000/0.0012, Accuracy (train/val): 100.0000%/100.0000%, Precision (val): 1.0000, Current lr: 0.00050. Time elapsed: 26.52\n",
      "Epoch [11/25], Loss (train/val): 0.0000/0.0079, Accuracy (train/val): 100.0000%/99.7934%, Precision (val): 0.9977, Current lr: 0.00050. Time elapsed: 29.17\n",
      "Epoch [12/25], Loss (train/val): 0.0000/0.0018, Accuracy (train/val): 100.0000%/100.0000%, Precision (val): 1.0000, Current lr: 0.00050. Time elapsed: 32.26\n",
      "Epoch [13/25], Loss (train/val): 0.0000/0.0012, Accuracy (train/val): 100.0000%/100.0000%, Precision (val): 1.0000, Current lr: 0.00050. Time elapsed: 34.91\n",
      "Epoch [14/25], Loss (train/val): 0.0000/0.0063, Accuracy (train/val): 100.0000%/99.7934%, Precision (val): 0.9977, Current lr: 0.00050. Time elapsed: 37.58\n",
      "Epoch [15/25], Loss (train/val): 0.0000/0.0025, Accuracy (train/val): 100.0000%/99.7934%, Precision (val): 0.9977, Current lr: 0.00050. Time elapsed: 40.23\n",
      "Epoch [16/25], Loss (train/val): 0.0000/0.0007, Accuracy (train/val): 100.0000%/100.0000%, Precision (val): 1.0000, Current lr: 0.00050. Time elapsed: 42.89\n",
      "Epoch [17/25], Loss (train/val): 0.0000/0.0014, Accuracy (train/val): 100.0000%/100.0000%, Precision (val): 1.0000, Current lr: 0.00050. Time elapsed: 45.55\n",
      "Epoch [18/25], Loss (train/val): 0.0000/0.0018, Accuracy (train/val): 100.0000%/100.0000%, Precision (val): 1.0000, Current lr: 0.00050. Time elapsed: 48.21\n",
      "Epoch [19/25], Loss (train/val): 0.0000/0.0026, Accuracy (train/val): 100.0000%/100.0000%, Precision (val): 1.0000, Current lr: 0.00050. Time elapsed: 50.86\n",
      "Epoch [20/25], Loss (train/val): 0.0000/0.0016, Accuracy (train/val): 100.0000%/100.0000%, Precision (val): 1.0000, Current lr: 0.00050. Time elapsed: 53.50\n",
      "Epoch [21/25], Loss (train/val): 0.0000/0.0015, Accuracy (train/val): 100.0000%/100.0000%, Precision (val): 1.0000, Current lr: 0.00050. Time elapsed: 56.15\n",
      "Epoch [22/25], Loss (train/val): 0.0000/0.0010, Accuracy (train/val): 100.0000%/100.0000%, Precision (val): 1.0000, Current lr: 0.00050. Time elapsed: 58.81\n",
      "Epoch [23/25], Loss (train/val): 0.0000/0.0022, Accuracy (train/val): 100.0000%/99.7934%, Precision (val): 0.9977, Current lr: 0.00050. Time elapsed: 61.46\n",
      "Epoch [24/25], Loss (train/val): 0.0000/0.0004, Accuracy (train/val): 100.0000%/100.0000%, Precision (val): 1.0000, Current lr: 0.00050. Time elapsed: 64.12\n",
      "Epoch [25/25], Loss (train/val): 0.0000/0.0018, Accuracy (train/val): 100.0000%/100.0000%, Precision (val): 1.0000, Current lr: 0.00050. Time elapsed: 66.78\n"
     ]
    }
   ],
   "source": [
    "# train model\n",
    "model = RunNN.main(\n",
    "    dataset=\"../data/train/ncRNApair_data.npy\",\n",
    "    label=\"../data/train/ncRNApair_labe.npy\",\n",
    "    genelabel=\"../data/train/genelabel.txt\",\n",
    "    batchsize=BATCH_SIZE,\n",
    "    epoch=EPOCH,\n",
    "    vpart=0.1,\n",
    "    cpu=CPU_ONLY,\n",
    "    structure=True,\n",
    "    predictor=\"\"  # empty, if you want to train model\n",
    ")\n",
    "# evaluate model\n",
    "dataset = AlignmentFilePrepare(\"../data/test/ncRNApair_data.npy\", \"../data/test/ncRNApair_labe.npy\", \"../data/test/genelabel.txt\", structure=True)\n",
    "dl = DataLoader(dataset, num_workers=3, shuffle=True, batch_size=BATCH_SIZE)\n",
    "RunNN.predict(model, dl)\n",
    "# save stats\n",
    "with open(\"stats.json\") as fin:\n",
    "    struct_pt_cnn_history = json.load(fin)\n",
    "struct_pt_cnn_results = RunNN.predict(model, dl)\n",
    "struct_pt_cnn_results\n",
    "del model"
   ]
  },
  {
   "cell_type": "code",
   "execution_count": 6,
   "metadata": {},
   "outputs": [
    {
     "data": {
      "text/plain": [
       "{'TP': 1860,\n",
       " 'FP': 31,\n",
       " 'FN': 31,\n",
       " 'TN': 1718,\n",
       " 'ACC': 0.9829670329670329,\n",
       " 'PREC': 0.9836065573770492,\n",
       " 'RECALL': 0.9836065573770492,\n",
       " 'F1': 0.9836065573770492}"
      ]
     },
     "execution_count": 6,
     "metadata": {},
     "output_type": "execute_result"
    }
   ],
   "source": [
    "strcut_pt_cnn_results"
   ]
  },
  {
   "cell_type": "code",
   "execution_count": 7,
   "metadata": {},
   "outputs": [
    {
     "data": {
      "text/plain": [
       "{'TP': 1874,\n",
       " 'FP': 17,\n",
       " 'FN': 17,\n",
       " 'TN': 1723,\n",
       " 'ACC': 0.9906361883778574,\n",
       " 'PREC': 0.9910100475938657,\n",
       " 'RECALL': 0.9910100475938657,\n",
       " 'F1': 0.9910100475938657}"
      ]
     },
     "execution_count": 7,
     "metadata": {},
     "output_type": "execute_result"
    }
   ],
   "source": [
    "dafs_pt_cnn_results"
   ]
  },
  {
   "cell_type": "markdown",
   "metadata": {},
   "source": [
    "## Train and test original CNN\n",
    "### Train"
   ]
  },
  {
   "cell_type": "code",
   "execution_count": 3,
   "metadata": {},
   "outputs": [
    {
     "name": "stdout",
     "output_type": "stream",
     "text": [
      "Return code is 0\n",
      "Errors: \n"
     ]
    }
   ],
   "source": [
    "# run train\n",
    "# please, stand by\n",
    "cmd = [\n",
    "    \"python\",\n",
    "    \"../src/original_cnn/RNApairClassify.py\",\n",
    "    \"-d\", \"../data/train/ncRNApair_data.npy\",\n",
    "    \"-l\", \"../data/train/ncRNApair_labe.npy\",\n",
    "    \"-gl\", \"../data/train/genelabel.txt\",\n",
    "    \"-b\", str(BATCH_SIZE),\n",
    "    \"-e\", str(EPOCH),\n",
    "    \"-v\", \"6\",  # the max value, which does not fail\n",
    "    \"-g\", \"0\",  # adjust the GPU id\n",
    "    \"-o\", \"../data/results_train\",\n",
    "]\n",
    "with Popen(cmd, stdout=PIPE, stderr=PIPE) as proc:\n",
    "    print(\"Return code is {}\".format(proc.wait()))\n",
    "    print(\"Errors: {}\".format(\"\".join(proc.communicate()[1].decode(\"utf-8\"))))"
   ]
  },
  {
   "cell_type": "markdown",
   "metadata": {},
   "source": [
    "### Test"
   ]
  },
  {
   "cell_type": "code",
   "execution_count": 9,
   "metadata": {},
   "outputs": [
    {
     "name": "stdout",
     "output_type": "stream",
     "text": [
      "Return code is 0\n",
      "Errors: \n"
     ]
    }
   ],
   "source": [
    "cmd = [\n",
    "    \"python\",\n",
    "    \"../src/original_cnn/RNApairClassify.py\",\n",
    "    \"-d\", \"../data/test/ncRNApair_data.npy\",\n",
    "    \"-l\", \"../data/test/ncRNApair_labe.npy\",\n",
    "    \"-gl\", \"../data/test/genelabel.txt\",\n",
    "    \"-g\", \"0\",  # adjust the GPU id\n",
    "    \"-v\", \"1\",  # use all data for test\n",
    "    \"-p\", \"../data/results_train/validation5/model_epoch-{}\".format(EPOCH),\n",
    "    \"-o\", \"../data/results_test\",\n",
    "]\n",
    "with Popen(cmd, stdout=PIPE, stderr=PIPE) as proc:\n",
    "    print(\"Return code is {}\".format(proc.wait()))\n",
    "    print(\"Errors: {}\".format(\"\".join(proc.communicate()[1].decode(\"utf-8\"))))"
   ]
  },
  {
   "cell_type": "code",
   "execution_count": null,
   "metadata": {},
   "outputs": [],
   "source": []
  }
 ],
 "metadata": {
  "kernelspec": {
   "display_name": "Python 3",
   "language": "python",
   "name": "python3"
  },
  "language_info": {
   "codemirror_mode": {
    "name": "ipython",
    "version": 3
   },
   "file_extension": ".py",
   "mimetype": "text/x-python",
   "name": "python",
   "nbconvert_exporter": "python",
   "pygments_lexer": "ipython3",
   "version": "3.7.3"
  }
 },
 "nbformat": 4,
 "nbformat_minor": 4
}
