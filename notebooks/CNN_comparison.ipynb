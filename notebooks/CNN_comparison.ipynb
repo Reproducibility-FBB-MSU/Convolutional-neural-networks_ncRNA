{
 "cells": [
  {
   "cell_type": "markdown",
   "metadata": {
    "pycharm": {
     "name": "#%% \n"
    }
   },
   "source": [
    "# Comparison of original CNN and new PyTorch CNN\n",
    "  PyTorch CNN trains with CosAnnealingWithWarmRestarts scheduler \n",
    "  The experiment plot: \n",
    "  <pre>\n",
    "                                   ┌> PT CNN ─Training─> Trained PT CNN ─────┬────> Stats \n",
    "                                   |                                         |\n",
    "  DATASET (70 seqs of 10 families) |                    TEST DATASET (67 seqs of 10 families)                 \n",
    "                                   |                                         |\n",
    "                                   └> Ch CNN ─Training─> Trained Ch CNN ─────┴────> Stats\n",
    "  </pre>"
   ]
  },
  {
   "cell_type": "code",
   "execution_count": 1,
   "metadata": {},
   "outputs": [],
   "source": [
    "import sys\n",
    "import os\n",
    "# appending source path \n",
    "sys.path.append(os.sep.join(os.getcwd().split(os.sep)[:-1] + [\"src\"]))\n",
    "sys.path.append(os.sep.join(os.getcwd().split(os.sep)[:-1] + [\"src\", \"original_cnn\"]))"
   ]
  },
  {
   "cell_type": "code",
   "execution_count": 2,
   "metadata": {},
   "outputs": [],
   "source": [
    "import RunNN  # our cnn\n",
    "from DataProcessing import AlignmentFilePrepare  # dataset class\n",
    "\n",
    "from torch.utils.data import DataLoader\n",
    "\n",
    "import json\n",
    "from subprocess import Popen, PIPE\n",
    "from collections import defaultdict\n",
    "from itertools import combinations\n",
    "import numpy as np\n",
    "from sklearn.cluster import KMeans\n",
    "import pandas as pd\n",
    "\n",
    "\n",
    "# IMPORTANT CONSTANTS\n",
    "BATCH_SIZE= 128\n",
    "EPOCH = 15\n",
    "CPU_ONLY = False\n",
    "\n",
    "\n",
    "def prediction_stats(predicted, true_labels):\n",
    "    # get stats\n",
    "    pred_aff = np.fromiter(map(lambda t: (t[1]==t[0]), combinations(predicted, 2)), dtype=np.int8)\n",
    "    true_aff = np.fromiter(map(lambda t: (t[1]==t[0]), combinations(true_labels, 2)), dtype=np.int8)\n",
    "    tp = np.sum(np.logical_and(true_aff, pred_aff))\n",
    "    tn = np.sum(np.logical_and(np.logical_not(true_aff), np.logical_not(pred_aff)))\n",
    "    fn = np.sum(np.logical_and(true_aff, np.logical_not(pred_aff)))\n",
    "    fp = np.sum(np.logical_and(np.logical_not(true_aff), pred_aff))\n",
    "    print(\"ACC: {:.4f}%\".format(100*(tn+tp)/(tp+tn+fp+fn)))\n",
    "    print(\"F1: {:.4f}\".format(2*tp/(2*tp+fn+fp)))\n",
    "    print(\n",
    "    \"\"\"\n",
    "    pred\\\\real\\t1\\t0\n",
    "            1\\t{}\\t{}\n",
    "            0\\t{}\\t{}\n",
    "             \\t{:.2f}\\t{:.2f}\n",
    "    \"\"\".format(tp, fp, fn, tn, (tp+fn)/(tp+fn+tn+fp), 1-(tp+fn)/(tp+fn+tn+fp)))"
   ]
  },
  {
   "cell_type": "markdown",
   "metadata": {},
   "source": [
    "## Prepare datasets\n",
    "Please, stand by"
   ]
  },
  {
   "cell_type": "code",
   "execution_count": 3,
   "metadata": {},
   "outputs": [
    {
     "name": "stdout",
     "output_type": "stream",
     "text": [
      "Return code is 0\n",
      "Return code is 0\n"
     ]
    }
   ],
   "source": [
    "# training ds\n",
    "cmd = [\n",
    "    \"python\",\n",
    "    \"../src/original_cnn/prepareData.py\",\n",
    "    \"-i\", \"../data/train.fasta\",\n",
    "    \"-o\", \"../data/train\",\n",
    "    \"-t\", \"3\"  # adjust threads\n",
    "]\n",
    "with Popen(cmd) as proc:\n",
    "    print(\"Return code is {}\".format(proc.wait()))\n",
    "\n",
    "# test ds\n",
    "cmd = [\n",
    "    \"python\",\n",
    "    \"../src/original_cnn/prepareData.py\",\n",
    "    \"-i\", \"../data/test.fasta\",\n",
    "    \"-o\", \"../data/test\",\n",
    "    \"-t\", \"3\"  # adjust threads\n",
    "]\n",
    "with Popen(cmd) as proc:\n",
    "    print(\"Return code is {}\".format(proc.wait()))\n",
    "    "
   ]
  },
  {
   "cell_type": "markdown",
   "metadata": {},
   "source": [
    "## Train and test RunNN\n",
    "### DAFS with nucleotide alignments"
   ]
  },
  {
   "cell_type": "code",
   "execution_count": 4,
   "metadata": {},
   "outputs": [
    {
     "name": "stdout",
     "output_type": "stream",
     "text": [
      "Dataset splitted. Classes distributed: chi^2 p-val=1.0 (1 means equally distributed classes in test and validation)\n",
      "Data loaded:\n",
      "\tTrain: 4347 alignments\n",
      "\tValidation: 483 alignments\n",
      "Negatives in training set: 91.26%. In val set: 91.72%\n",
      "Data is loaded. Shape: torch.Size([1, 1200, 16])\n",
      "Epoch [1/15], Loss (train/val): 0.2505/0.1785, Accuracy (train/val): 89.5357%/91.7184%, Precision (val): 0.9172, Current lr: 0.00051. Time elapsed: 3.55\n",
      "Epoch [2/15], Loss (train/val): 0.1182/0.0600, Accuracy (train/val): 95.1718%/97.7226%, Precision (val): 0.9758, Current lr: 0.00051. Time elapsed: 5.87\n",
      "Epoch [3/15], Loss (train/val): 0.0292/0.0137, Accuracy (train/val): 99.1039%/99.3789%, Precision (val): 0.9933, Current lr: 0.00051. Time elapsed: 7.55\n",
      "Epoch [4/15], Loss (train/val): 0.0142/0.0055, Accuracy (train/val): 99.4485%/99.5859%, Precision (val): 1.0000, Current lr: 0.00051. Time elapsed: 9.24\n",
      "Epoch [5/15], Loss (train/val): 0.0019/0.0063, Accuracy (train/val): 99.9770%/99.5859%, Precision (val): 0.9955, Current lr: 0.00051. Time elapsed: 10.91\n",
      "Epoch [6/15], Loss (train/val): 0.0004/0.0026, Accuracy (train/val): 100.0000%/99.7930%, Precision (val): 0.9977, Current lr: 0.00051. Time elapsed: 12.60\n",
      "Epoch [7/15], Loss (train/val): 0.0001/0.0060, Accuracy (train/val): 100.0000%/99.7930%, Precision (val): 0.9977, Current lr: 0.00051. Time elapsed: 14.35\n",
      "Epoch [8/15], Loss (train/val): 0.0001/0.0038, Accuracy (train/val): 100.0000%/99.7930%, Precision (val): 0.9977, Current lr: 0.00051. Time elapsed: 16.04\n",
      "Epoch [9/15], Loss (train/val): 0.0001/0.0022, Accuracy (train/val): 100.0000%/100.0000%, Precision (val): 1.0000, Current lr: 0.00051. Time elapsed: 17.71\n",
      "Epoch [10/15], Loss (train/val): 0.0000/0.0015, Accuracy (train/val): 100.0000%/100.0000%, Precision (val): 1.0000, Current lr: 0.00051. Time elapsed: 19.40\n",
      "Epoch [11/15], Loss (train/val): 0.0000/0.0015, Accuracy (train/val): 100.0000%/100.0000%, Precision (val): 1.0000, Current lr: 0.00051. Time elapsed: 21.07\n",
      "Epoch [12/15], Loss (train/val): 0.0000/0.0023, Accuracy (train/val): 100.0000%/99.7930%, Precision (val): 0.9977, Current lr: 0.00051. Time elapsed: 22.84\n",
      "Epoch [13/15], Loss (train/val): 0.0000/0.0029, Accuracy (train/val): 100.0000%/99.7930%, Precision (val): 0.9977, Current lr: 0.00051. Time elapsed: 24.55\n",
      "Epoch [14/15], Loss (train/val): 0.0000/0.0030, Accuracy (train/val): 100.0000%/99.7930%, Precision (val): 0.9977, Current lr: 0.00051. Time elapsed: 26.24\n",
      "Epoch [15/15], Loss (train/val): 0.0000/0.0043, Accuracy (train/val): 100.0000%/99.7930%, Precision (val): 0.9977, Current lr: 0.00051. Time elapsed: 27.92\n",
      "TP:\t302\n",
      "FP:\t5\n",
      "FN:\t24\n",
      "TN:\t3451\n",
      "ACC:\t0.9923320994182971\n",
      "PREC:\t0.9837133550488599\n",
      "RECALL:\t0.9263803680981595\n",
      "F1:\t0.9541864139020537\n",
      "ACC: 100.0000%\n",
      "F1: 1.0000\n",
      "\n",
      "    pred\\real\t1\t0\n",
      "            1\t163\t0\n",
      "            0\t0\t1728\n",
      "             \t0.09\t0.91\n",
      "    \n"
     ]
    }
   ],
   "source": [
    "# train model\n",
    "model = RunNN.main(\n",
    "    dataset=\"../data/train/ncRNApair_data.npy\",\n",
    "    label=\"../data/train/ncRNApair_labe.npy\",\n",
    "    genelabel=\"../data/train/genelabel.txt\",\n",
    "    batchsize=BATCH_SIZE,\n",
    "    epoch=EPOCH,\n",
    "    vpart=0.1,\n",
    "    cpu=CPU_ONLY,\n",
    "    structure=False,\n",
    "    predictor=\"\"  # empty, if you want to train model\n",
    ")\n",
    "# evaluate model\n",
    "dataset = AlignmentFilePrepare(\"../data/test/ncRNApair_data.npy\", \"../data/test/ncRNApair_labe.npy\", \"../data/test/genelabel.txt\")\n",
    "dl = DataLoader(dataset, num_workers=3, shuffle=False, batch_size=BATCH_SIZE)\n",
    "RunNN.predict(model, dl)\n",
    "# save stats\n",
    "with open(\"stats.json\") as fin:\n",
    "    dafs_pt_cnn_history = json.load(fin)\n",
    "dafs_pt_cnn_results = RunNN.predict(model, dl)\n",
    "for key, val in dafs_pt_cnn_results.items():\n",
    "    if key != \"PREDICTIONS\":\n",
    "        print(\"{}:\\t{}\".format(key, val))\n",
    "# clean space\n",
    "del model\n",
    "\n",
    "# clustering test\n",
    "aff_matrix = defaultdict(dict)\n",
    "families = dict()\n",
    "for tup in dafs_pt_cnn_results[\"PREDICTIONS\"]:\n",
    "    aff_matrix[tup[0]][tup[1]] = tup[4].item()\n",
    "    families[tup[0]] = tup[2].item()\n",
    "aff_df = pd.DataFrame(aff_matrix).fillna(0).sort_index()\n",
    "fam_df = pd.DataFrame.from_dict(families, orient=\"index\").sort_index()\n",
    "clusterer = KMeans(n_clusters=10).fit(aff_df)\n",
    "prediction_stats(clusterer.labels_, np.squeeze(fam_df.values))"
   ]
  },
  {
   "cell_type": "markdown",
   "metadata": {},
   "source": [
    "### DAFS structure-only"
   ]
  },
  {
   "cell_type": "code",
   "execution_count": 5,
   "metadata": {},
   "outputs": [
    {
     "name": "stdout",
     "output_type": "stream",
     "text": [
      "Dataset splitted. Classes distributed: chi^2 p-val=1.0 (1 means equally distributed classes in test and validation)\n",
      "Data loaded:\n",
      "\tTrain: 4347 alignments\n",
      "\tValidation: 483 alignments\n",
      "Negatives in training set: 91.26%. In val set: 91.72%\n",
      "Data is loaded. Shape: torch.Size([1, 1200, 6])\n",
      "Epoch [1/15], Loss (train/val): 0.2842/0.2160, Accuracy (train/val): 91.0274%/91.7184%, Precision (val): 0.9172, Current lr: 0.00051. Time elapsed: 1.54\n",
      "Epoch [2/15], Loss (train/val): 0.1433/0.1009, Accuracy (train/val): 93.9962%/96.0663%, Precision (val): 0.9862, Current lr: 0.00051. Time elapsed: 3.15\n",
      "Epoch [3/15], Loss (train/val): 0.0731/0.0392, Accuracy (train/val): 97.1259%/98.9648%, Precision (val): 0.9910, Current lr: 0.00051. Time elapsed: 5.09\n",
      "Epoch [4/15], Loss (train/val): 0.0306/0.0299, Accuracy (train/val): 98.9651%/99.1718%, Precision (val): 0.9955, Current lr: 0.00051. Time elapsed: 6.54\n",
      "Epoch [5/15], Loss (train/val): 0.0203/0.0227, Accuracy (train/val): 99.1948%/98.9648%, Precision (val): 0.9888, Current lr: 0.00051. Time elapsed: 8.07\n",
      "Epoch [6/15], Loss (train/val): 0.0159/0.0167, Accuracy (train/val): 99.4026%/99.3789%, Precision (val): 0.9933, Current lr: 0.00051. Time elapsed: 9.47\n",
      "Epoch [7/15], Loss (train/val): 0.0175/0.0214, Accuracy (train/val): 99.4256%/99.3789%, Precision (val): 0.9933, Current lr: 0.00051. Time elapsed: 10.92\n",
      "Epoch [8/15], Loss (train/val): 0.0042/0.0139, Accuracy (train/val): 99.9081%/99.5859%, Precision (val): 0.9955, Current lr: 0.00051. Time elapsed: 12.39\n",
      "Epoch [9/15], Loss (train/val): 0.0009/0.0145, Accuracy (train/val): 100.0000%/99.5859%, Precision (val): 0.9955, Current lr: 0.00051. Time elapsed: 13.85\n",
      "Epoch [10/15], Loss (train/val): 0.0003/0.0117, Accuracy (train/val): 100.0000%/99.5859%, Precision (val): 0.9955, Current lr: 0.00051. Time elapsed: 15.31\n",
      "Epoch [11/15], Loss (train/val): 0.0002/0.0078, Accuracy (train/val): 100.0000%/99.5859%, Precision (val): 0.9955, Current lr: 0.00051. Time elapsed: 16.72\n",
      "Epoch [12/15], Loss (train/val): 0.0002/0.0054, Accuracy (train/val): 100.0000%/99.5859%, Precision (val): 0.9955, Current lr: 0.00051. Time elapsed: 18.41\n",
      "Epoch [13/15], Loss (train/val): 0.0001/0.0051, Accuracy (train/val): 100.0000%/99.5859%, Precision (val): 0.9955, Current lr: 0.00051. Time elapsed: 19.98\n",
      "Epoch [14/15], Loss (train/val): 0.0001/0.0053, Accuracy (train/val): 100.0000%/99.5859%, Precision (val): 0.9955, Current lr: 0.00051. Time elapsed: 21.45\n",
      "Epoch [15/15], Loss (train/val): 0.0001/0.0049, Accuracy (train/val): 100.0000%/99.7930%, Precision (val): 0.9977, Current lr: 0.00051. Time elapsed: 22.92\n",
      "TP:\t287.0000\n",
      "FP:\t28.0000\n",
      "FN:\t39.0000\n",
      "TN:\t3428.0000\n",
      "ACC:\t0.9823\n",
      "PREC:\t0.9111\n",
      "RECALL:\t0.8804\n",
      "F1:\t0.8955\n",
      "ACC: 100.0000%\n",
      "F1: 1.0000\n",
      "\n",
      "    pred\\real\t1\t0\n",
      "            1\t163\t0\n",
      "            0\t0\t1728\n",
      "             \t0.09\t0.91\n",
      "    \n"
     ]
    }
   ],
   "source": [
    "# train model\n",
    "model = RunNN.main(\n",
    "    dataset=\"../data/train/ncRNApair_data.npy\",\n",
    "    label=\"../data/train/ncRNApair_labe.npy\",\n",
    "    genelabel=\"../data/train/genelabel.txt\",\n",
    "    batchsize=BATCH_SIZE,\n",
    "    epoch=EPOCH,\n",
    "    vpart=0.1,\n",
    "    cpu=CPU_ONLY,\n",
    "    structure=True,\n",
    "    predictor=\"\"  # empty, if you want to train model\n",
    ")\n",
    "# evaluate model\n",
    "dataset = AlignmentFilePrepare(\"../data/test/ncRNApair_data.npy\", \"../data/test/ncRNApair_labe.npy\", \"../data/test/genelabel.txt\", structure=True)\n",
    "dl = DataLoader(dataset, num_workers=3, shuffle=True, batch_size=BATCH_SIZE)\n",
    "RunNN.predict(model, dl)\n",
    "# save stats\n",
    "with open(\"stats.json\") as fin:\n",
    "    struct_pt_cnn_history = json.load(fin)\n",
    "struct_pt_cnn_results = RunNN.predict(model, dl)\n",
    "for key, val in struct_pt_cnn_results.items():\n",
    "    if key != \"PREDICTIONS\":\n",
    "        print(\"{}:\\t{:.4f}\".format(key, val))\n",
    "del model\n",
    "\n",
    "# clustering test\n",
    "aff_matrix = defaultdict(dict)\n",
    "families = dict()\n",
    "for tup in struct_pt_cnn_results[\"PREDICTIONS\"]:\n",
    "    aff_matrix[tup[0]][tup[1]] = tup[4].item()\n",
    "    families[tup[0]] = tup[2].item()\n",
    "aff_df = pd.DataFrame(aff_matrix).fillna(0).sort_index()\n",
    "fam_df = pd.DataFrame.from_dict(families, orient=\"index\").sort_index()\n",
    "clusterer = KMeans(n_clusters=10).fit(aff_df)\n",
    "prediction_stats(clusterer.labels_, np.squeeze(fam_df.values))"
   ]
  },
  {
   "cell_type": "markdown",
   "metadata": {},
   "source": [
    "## ClustalO data\n",
    "Before run you should have data prepared via PairwiseClustalo_GettingMatrices"
   ]
  },
  {
   "cell_type": "code",
   "execution_count": 12,
   "metadata": {},
   "outputs": [
    {
     "name": "stdout",
     "output_type": "stream",
     "text": [
      "Dataset splitted. Classes distributed: chi^2 p-val=1.0 (1 means equally distributed classes in test and validation)\n",
      "Data loaded:\n",
      "\tTrain: 4347 alignments\n",
      "\tValidation: 483 alignments\n",
      "Negatives in training set: 91.26%. In val set: 91.72%\n",
      "Data is loaded. Shape: torch.Size([1, 1200, 10])\n",
      "Epoch [1/15], Loss (train/val): 0.3188/0.2882, Accuracy (train/val): 90.1331%/91.7184%, Precision (val): 0.9172, Current lr: 0.00051. Time elapsed: 2.12\n",
      "Epoch [2/15], Loss (train/val): 0.2907/0.2852, Accuracy (train/val): 91.2572%/91.7184%, Precision (val): 0.9172, Current lr: 0.00051. Time elapsed: 4.17\n",
      "Epoch [3/15], Loss (train/val): 0.2935/0.2805, Accuracy (train/val): 91.2590%/91.7184%, Precision (val): 0.9172, Current lr: 0.00051. Time elapsed: 5.76\n",
      "Epoch [4/15], Loss (train/val): 0.2687/0.2720, Accuracy (train/val): 91.2618%/91.7184%, Precision (val): 0.9172, Current lr: 0.00051. Time elapsed: 7.35\n",
      "Epoch [5/15], Loss (train/val): 0.2550/0.2696, Accuracy (train/val): 91.5071%/92.1325%, Precision (val): 0.9210, Current lr: 0.00051. Time elapsed: 9.14\n",
      "Epoch [6/15], Loss (train/val): 0.2472/0.2721, Accuracy (train/val): 92.1341%/92.1325%, Precision (val): 0.9210, Current lr: 0.00051. Time elapsed: 10.70\n",
      "Epoch [7/15], Loss (train/val): 0.2158/0.2748, Accuracy (train/val): 92.3657%/91.9255%, Precision (val): 0.9280, Current lr: 0.00051. Time elapsed: 12.29\n",
      "Epoch [8/15], Loss (train/val): 0.1811/0.2889, Accuracy (train/val): 93.2619%/92.3395%, Precision (val): 0.9265, Current lr: 0.00051. Time elapsed: 13.85\n",
      "Epoch [9/15], Loss (train/val): 0.1883/0.2854, Accuracy (train/val): 92.7296%/91.9255%, Precision (val): 0.9316, Current lr: 0.00051. Time elapsed: 15.45\n",
      "Epoch [10/15], Loss (train/val): 0.1067/0.3538, Accuracy (train/val): 95.8345%/91.3043%, Precision (val): 0.9293, Current lr: 0.00051. Time elapsed: 17.02\n",
      "Epoch [11/15], Loss (train/val): 0.0737/0.4306, Accuracy (train/val): 97.4237%/91.0973%, Precision (val): 0.9310, Current lr: 0.00051. Time elapsed: 18.61\n",
      "Epoch [12/15], Loss (train/val): 0.0697/0.4428, Accuracy (train/val): 97.3346%/90.2692%, Precision (val): 0.9323, Current lr: 0.00051. Time elapsed: 20.25\n",
      "Epoch [13/15], Loss (train/val): 0.0589/0.4725, Accuracy (train/val): 97.8401%/88.1988%, Precision (val): 0.9367, Current lr: 0.00051. Time elapsed: 21.80\n",
      "Epoch [14/15], Loss (train/val): 0.0452/0.5731, Accuracy (train/val): 98.4136%/89.8551%, Precision (val): 0.9283, Current lr: 0.00051. Time elapsed: 23.38\n",
      "Epoch [15/15], Loss (train/val): 0.0287/0.5161, Accuracy (train/val): 99.0790%/89.2340%, Precision (val): 0.9335, Current lr: 0.00051. Time elapsed: 24.95\n",
      "TP:\t53.0000\n",
      "FP:\t153.0000\n",
      "FN:\t273.0000\n",
      "TN:\t3303.0000\n",
      "ACC:\t0.8874\n",
      "PREC:\t0.2573\n",
      "RECALL:\t0.1626\n",
      "F1:\t0.1992\n",
      "ACC: 74.1407%\n",
      "F1: 0.1782\n",
      "\n",
      "    pred\\real\t1\t0\n",
      "            1\t53\t379\n",
      "            0\t110\t1349\n",
      "             \t0.09\t0.91\n",
      "    \n"
     ]
    }
   ],
   "source": [
    "# train model\n",
    "model = RunNN.main(\n",
    "    dataset=\"../data/train/ncRNApair_data_clustal.npy\",\n",
    "    label=\"../data/train/ncRNApair_labe_clustal.npy\",\n",
    "    genelabel=\"../data/train/genelabel_clustal.txt\",\n",
    "    batchsize=BATCH_SIZE,\n",
    "    epoch=EPOCH,\n",
    "    vpart=0.1,\n",
    "    cpu=CPU_ONLY,\n",
    "    structure=False,\n",
    "    predictor=\"\"  # empty, if you want to train model\n",
    ")\n",
    "# evaluate model\n",
    "dataset = AlignmentFilePrepare(\"../data/test/ncRNApair_data_clustal_test.npy\", \"../data/test/ncRNApair_label_clustal_test.npy\", \"../data/test/genelabel_clustal_test.txt\")\n",
    "dl = DataLoader(dataset, num_workers=3, shuffle=True, batch_size=BATCH_SIZE)\n",
    "RunNN.predict(model, dl)\n",
    "# save stats\n",
    "with open(\"stats.json\") as fin:\n",
    "    struct_pt_cnn_history = json.load(fin)\n",
    "struct_pt_cnn_results = RunNN.predict(model, dl)\n",
    "for key, val in struct_pt_cnn_results.items():\n",
    "    if key != \"PREDICTIONS\":\n",
    "        print(\"{}:\\t{:.4f}\".format(key, val))\n",
    "del model\n",
    "\n",
    "# clustering test\n",
    "aff_matrix = defaultdict(dict)\n",
    "families = dict()\n",
    "for tup in struct_pt_cnn_results[\"PREDICTIONS\"]:\n",
    "    aff_matrix[tup[0]][tup[1]] = tup[4].item()\n",
    "    families[tup[0]] = tup[2].item()\n",
    "aff_df = pd.DataFrame(aff_matrix).fillna(0).sort_index()\n",
    "fam_df = pd.DataFrame.from_dict(families, orient=\"index\").sort_index()\n",
    "clusterer = KMeans(n_clusters=10).fit(aff_df)\n",
    "prediction_stats(clusterer.labels_, np.squeeze(fam_df.values))"
   ]
  },
  {
   "cell_type": "markdown",
   "metadata": {},
   "source": [
    "## Train and test original CNN\n",
    "### Train\n",
    "Clustering was not performed due to poor code documentation"
   ]
  },
  {
   "cell_type": "code",
   "execution_count": 6,
   "metadata": {},
   "outputs": [
    {
     "name": "stdout",
     "output_type": "stream",
     "text": [
      "Return code is 0\n",
      "Errors: \n"
     ]
    }
   ],
   "source": [
    "# run train\n",
    "# please, stand by\n",
    "cmd = [\n",
    "    \"python\",\n",
    "    \"../src/original_cnn/RNApairClassify.py\",\n",
    "    \"-d\", \"../data/train/ncRNApair_data.npy\",\n",
    "    \"-l\", \"../data/train/ncRNApair_labe.npy\",\n",
    "    \"-gl\", \"../data/train/genelabel.txt\",\n",
    "    \"-b\", str(BATCH_SIZE),\n",
    "    \"-e\", str(EPOCH),\n",
    "    \"-v\", \"6\",  # the max value, which does not fail\n",
    "    \"-g\", \"0\",  # adjust the GPU id\n",
    "    \"-o\", \"../data/results_train\",\n",
    "]\n",
    "with Popen(cmd, stdout=PIPE, stderr=PIPE) as proc:\n",
    "    print(\"Return code is {}\".format(proc.wait()))\n",
    "    print(\"Errors: {}\".format(\"\".join(proc.communicate()[1].decode(\"utf-8\"))))"
   ]
  },
  {
   "cell_type": "markdown",
   "metadata": {},
   "source": [
    "### Test"
   ]
  },
  {
   "cell_type": "code",
   "execution_count": 7,
   "metadata": {},
   "outputs": [
    {
     "name": "stdout",
     "output_type": "stream",
     "text": [
      "Return code is 0\n",
      "Errors: \n"
     ]
    }
   ],
   "source": [
    "cmd = [\n",
    "    \"python\",\n",
    "    \"../src/original_cnn/RNApairClassify.py\",\n",
    "    \"-d\", \"../data/test/ncRNApair_data.npy\",\n",
    "    \"-l\", \"../data/test/ncRNApair_labe.npy\",\n",
    "    \"-gl\", \"../data/test/genelabel.txt\",\n",
    "    \"-g\", \"0\",  # adjust the GPU id\n",
    "    \"-v\", \"1\",  # use all data for test\n",
    "    \"-p\", \"../data/results_train/validation5/model_epoch-{}\".format(EPOCH),\n",
    "    \"-o\", \"../data/results_test\",\n",
    "]\n",
    "with Popen(cmd, stdout=PIPE, stderr=PIPE) as proc:\n",
    "    print(\"Return code is {}\".format(proc.wait()))\n",
    "    print(\"Errors: {}\".format(\"\".join(proc.communicate()[1].decode(\"utf-8\"))))"
   ]
  },
  {
   "cell_type": "markdown",
   "metadata": {},
   "source": [
    "## Clustering\n",
    "### Spectral clustering on DAFS scores\n",
    "#### Load sequences and make pairs"
   ]
  },
  {
   "cell_type": "code",
   "execution_count": 8,
   "metadata": {},
   "outputs": [],
   "source": [
    "import numpy as np\n",
    "from sklearn.cluster import SpectralClustering\n",
    "from Bio import SeqIO\n",
    "from subprocess import Popen, PIPE\n",
    "from itertools import combinations\n",
    "\n",
    "sequences = list(SeqIO.parse(\"../data/test.fasta\", \"fasta\"))\n",
    "pairs = combinations(enumerate(sequences), 2)"
   ]
  },
  {
   "cell_type": "code",
   "execution_count": null,
   "metadata": {},
   "outputs": [],
   "source": [
    "sim_matrix = np.identity(len(sequences))\n",
    "# run dafs\n",
    "for pair in pairs:\n",
    "    SeqIO.write((pair[0][1], pair[1][1]), \"pair.fasta\", \"fasta\")\n",
    "    with Popen([\"dafs\", \"pair.fasta\"], stdout=PIPE) as proc:\n",
    "        result = proc.communicate()[0].decode(\"utf-8\")\n",
    "        sim_matrix[pair[0][0], pair[1][0]] = float(result.split()[1])\n",
    "        sim_matrix[pair[1][0], pair[0][0]] = float(result.split()[1])\n",
    "# clean workspace\n",
    "! rm pair.fasta"
   ]
  },
  {
   "cell_type": "code",
   "execution_count": null,
   "metadata": {},
   "outputs": [],
   "source": [
    "np.save(\"../data/sim_matrix_dafs.npy\", sim_matrix)  # save for future"
   ]
  },
  {
   "cell_type": "code",
   "execution_count": 11,
   "metadata": {},
   "outputs": [
    {
     "name": "stderr",
     "output_type": "stream",
     "text": [
      "/home/ilbumi/anaconda3/envs/sci/lib/python3.7/site-packages/sklearn/cluster/spectral.py:462: UserWarning: The spectral clustering API has changed. ``fit``now constructs an affinity matrix from data. To use a custom affinity matrix, set ``affinity=precomputed``.\n",
      "  warnings.warn(\"The spectral clustering API has changed. ``fit``\"\n"
     ]
    },
    {
     "name": "stdout",
     "output_type": "stream",
     "text": [
      "ACC: 93.1253%\n",
      "F1: 0.7085\n",
      "\n",
      "    pred\\real\t1\t0\n",
      "            1\t158\t125\n",
      "            0\t5\t1603\n",
      "             \t0.09\t0.91\n",
      "    \n"
     ]
    }
   ],
   "source": [
    "sim_matrix = np.load(\"../data/sim_matrix_dafs.npy\")\n",
    "clusterer = SpectralClustering()\n",
    "clusterer.fit(sim_matrix)\n",
    "true_labels = list()\n",
    "for seq in sequences:\n",
    "    true_labels.append(int(seq.id.split(\",\")[1]))\n",
    "prediction_stats(clusterer.labels_, true_labels)"
   ]
  },
  {
   "cell_type": "markdown",
   "metadata": {},
   "source": [
    "# Visualisation"
   ]
  },
  {
   "cell_type": "code",
   "execution_count": 14,
   "metadata": {},
   "outputs": [],
   "source": [
    "import altair as alt"
   ]
  },
  {
   "cell_type": "markdown",
   "metadata": {},
   "source": [
    "### Epoch history"
   ]
  },
  {
   "cell_type": "code",
   "execution_count": 18,
   "metadata": {},
   "outputs": [
    {
     "data": {
      "text/html": [
       "<div>\n",
       "<style scoped>\n",
       "    .dataframe tbody tr th:only-of-type {\n",
       "        vertical-align: middle;\n",
       "    }\n",
       "\n",
       "    .dataframe tbody tr th {\n",
       "        vertical-align: top;\n",
       "    }\n",
       "\n",
       "    .dataframe thead th {\n",
       "        text-align: right;\n",
       "    }\n",
       "</style>\n",
       "<table border=\"1\" class=\"dataframe\">\n",
       "  <thead>\n",
       "    <tr style=\"text-align: right;\">\n",
       "      <th></th>\n",
       "      <th>epoch_loss</th>\n",
       "      <th>epoch_acc</th>\n",
       "      <th>val_loss</th>\n",
       "      <th>val_prec</th>\n",
       "      <th>val_acc</th>\n",
       "    </tr>\n",
       "  </thead>\n",
       "  <tbody>\n",
       "    <tr>\n",
       "      <th>0</th>\n",
       "      <td>0.250489</td>\n",
       "      <td>0.895357</td>\n",
       "      <td>0.178468</td>\n",
       "      <td>0.917184</td>\n",
       "      <td>0.917184</td>\n",
       "    </tr>\n",
       "    <tr>\n",
       "      <th>1</th>\n",
       "      <td>0.118197</td>\n",
       "      <td>0.951718</td>\n",
       "      <td>0.059990</td>\n",
       "      <td>0.975771</td>\n",
       "      <td>0.977226</td>\n",
       "    </tr>\n",
       "    <tr>\n",
       "      <th>2</th>\n",
       "      <td>0.029206</td>\n",
       "      <td>0.991039</td>\n",
       "      <td>0.013702</td>\n",
       "      <td>0.993274</td>\n",
       "      <td>0.993789</td>\n",
       "    </tr>\n",
       "    <tr>\n",
       "      <th>3</th>\n",
       "      <td>0.014215</td>\n",
       "      <td>0.994485</td>\n",
       "      <td>0.005469</td>\n",
       "      <td>1.000000</td>\n",
       "      <td>0.995859</td>\n",
       "    </tr>\n",
       "    <tr>\n",
       "      <th>4</th>\n",
       "      <td>0.001919</td>\n",
       "      <td>0.999770</td>\n",
       "      <td>0.006326</td>\n",
       "      <td>0.995506</td>\n",
       "      <td>0.995859</td>\n",
       "    </tr>\n",
       "    <tr>\n",
       "      <th>5</th>\n",
       "      <td>0.000406</td>\n",
       "      <td>1.000000</td>\n",
       "      <td>0.002594</td>\n",
       "      <td>0.997748</td>\n",
       "      <td>0.997930</td>\n",
       "    </tr>\n",
       "    <tr>\n",
       "      <th>6</th>\n",
       "      <td>0.000091</td>\n",
       "      <td>1.000000</td>\n",
       "      <td>0.006034</td>\n",
       "      <td>0.997748</td>\n",
       "      <td>0.997930</td>\n",
       "    </tr>\n",
       "    <tr>\n",
       "      <th>7</th>\n",
       "      <td>0.000064</td>\n",
       "      <td>1.000000</td>\n",
       "      <td>0.003837</td>\n",
       "      <td>0.997748</td>\n",
       "      <td>0.997930</td>\n",
       "    </tr>\n",
       "    <tr>\n",
       "      <th>8</th>\n",
       "      <td>0.000052</td>\n",
       "      <td>1.000000</td>\n",
       "      <td>0.002187</td>\n",
       "      <td>1.000000</td>\n",
       "      <td>1.000000</td>\n",
       "    </tr>\n",
       "    <tr>\n",
       "      <th>9</th>\n",
       "      <td>0.000046</td>\n",
       "      <td>1.000000</td>\n",
       "      <td>0.001468</td>\n",
       "      <td>1.000000</td>\n",
       "      <td>1.000000</td>\n",
       "    </tr>\n",
       "    <tr>\n",
       "      <th>10</th>\n",
       "      <td>0.000031</td>\n",
       "      <td>1.000000</td>\n",
       "      <td>0.001532</td>\n",
       "      <td>1.000000</td>\n",
       "      <td>1.000000</td>\n",
       "    </tr>\n",
       "    <tr>\n",
       "      <th>11</th>\n",
       "      <td>0.000031</td>\n",
       "      <td>1.000000</td>\n",
       "      <td>0.002343</td>\n",
       "      <td>0.997748</td>\n",
       "      <td>0.997930</td>\n",
       "    </tr>\n",
       "    <tr>\n",
       "      <th>12</th>\n",
       "      <td>0.000027</td>\n",
       "      <td>1.000000</td>\n",
       "      <td>0.002881</td>\n",
       "      <td>0.997748</td>\n",
       "      <td>0.997930</td>\n",
       "    </tr>\n",
       "    <tr>\n",
       "      <th>13</th>\n",
       "      <td>0.000017</td>\n",
       "      <td>1.000000</td>\n",
       "      <td>0.002980</td>\n",
       "      <td>0.997748</td>\n",
       "      <td>0.997930</td>\n",
       "    </tr>\n",
       "    <tr>\n",
       "      <th>14</th>\n",
       "      <td>0.000011</td>\n",
       "      <td>1.000000</td>\n",
       "      <td>0.004300</td>\n",
       "      <td>0.997748</td>\n",
       "      <td>0.997930</td>\n",
       "    </tr>\n",
       "  </tbody>\n",
       "</table>\n",
       "</div>"
      ],
      "text/plain": [
       "    epoch_loss  epoch_acc  val_loss  val_prec   val_acc\n",
       "0     0.250489   0.895357  0.178468  0.917184  0.917184\n",
       "1     0.118197   0.951718  0.059990  0.975771  0.977226\n",
       "2     0.029206   0.991039  0.013702  0.993274  0.993789\n",
       "3     0.014215   0.994485  0.005469  1.000000  0.995859\n",
       "4     0.001919   0.999770  0.006326  0.995506  0.995859\n",
       "5     0.000406   1.000000  0.002594  0.997748  0.997930\n",
       "6     0.000091   1.000000  0.006034  0.997748  0.997930\n",
       "7     0.000064   1.000000  0.003837  0.997748  0.997930\n",
       "8     0.000052   1.000000  0.002187  1.000000  1.000000\n",
       "9     0.000046   1.000000  0.001468  1.000000  1.000000\n",
       "10    0.000031   1.000000  0.001532  1.000000  1.000000\n",
       "11    0.000031   1.000000  0.002343  0.997748  0.997930\n",
       "12    0.000027   1.000000  0.002881  0.997748  0.997930\n",
       "13    0.000017   1.000000  0.002980  0.997748  0.997930\n",
       "14    0.000011   1.000000  0.004300  0.997748  0.997930"
      ]
     },
     "execution_count": 18,
     "metadata": {},
     "output_type": "execute_result"
    }
   ],
   "source": [
    "history = pd.DataFrame({k: dafs_pt_cnn_history[k] for k in dafs_pt_cnn_history if \"epoch\" in k or \"val\" in k})\n",
    "history"
   ]
  },
  {
   "cell_type": "code",
   "execution_count": 48,
   "metadata": {},
   "outputs": [
    {
     "data": {
      "application/vnd.vegalite.v3+json": {
       "$schema": "https://vega.github.io/schema/vega-lite/v3.2.1.json",
       "config": {
        "mark": {
         "tooltip": null
        },
        "view": {
         "height": 300,
         "width": 400
        }
       },
       "data": {
        "name": "data-eca99ca4842ce0452422f538b6890342"
       },
       "datasets": {
        "data-eca99ca4842ce0452422f538b6890342": [
         {
          "index": 0,
          "value": 0.25048933046705585,
          "variable": "epoch_loss"
         },
         {
          "index": 1,
          "value": 0.11819650583407458,
          "variable": "epoch_loss"
         },
         {
          "index": 2,
          "value": 0.02920627611798837,
          "variable": "epoch_loss"
         },
         {
          "index": 3,
          "value": 0.014215470962774228,
          "variable": "epoch_loss"
         },
         {
          "index": 4,
          "value": 0.0019194237881011383,
          "variable": "epoch_loss"
         },
         {
          "index": 5,
          "value": 0.00040573500754202116,
          "variable": "epoch_loss"
         },
         {
          "index": 6,
          "value": 9.063543706468088e-05,
          "variable": "epoch_loss"
         },
         {
          "index": 7,
          "value": 6.390727161060033e-05,
          "variable": "epoch_loss"
         },
         {
          "index": 8,
          "value": 5.163935234390117e-05,
          "variable": "epoch_loss"
         },
         {
          "index": 9,
          "value": 4.574199470773558e-05,
          "variable": "epoch_loss"
         },
         {
          "index": 10,
          "value": 3.1263258867564966e-05,
          "variable": "epoch_loss"
         },
         {
          "index": 11,
          "value": 3.1481484069552284e-05,
          "variable": "epoch_loss"
         },
         {
          "index": 12,
          "value": 2.6529288762129215e-05,
          "variable": "epoch_loss"
         },
         {
          "index": 13,
          "value": 1.66300027665463e-05,
          "variable": "epoch_loss"
         },
         {
          "index": 14,
          "value": 1.1282083077650682e-05,
          "variable": "epoch_loss"
         },
         {
          "index": 0,
          "value": 0.17846839129924774,
          "variable": "val_loss"
         },
         {
          "index": 1,
          "value": 0.05998990312218666,
          "variable": "val_loss"
         },
         {
          "index": 2,
          "value": 0.013702026568353176,
          "variable": "val_loss"
         },
         {
          "index": 3,
          "value": 0.0054694851860404015,
          "variable": "val_loss"
         },
         {
          "index": 4,
          "value": 0.006326471921056509,
          "variable": "val_loss"
         },
         {
          "index": 5,
          "value": 0.0025942237116396427,
          "variable": "val_loss"
         },
         {
          "index": 6,
          "value": 0.006034017074853182,
          "variable": "val_loss"
         },
         {
          "index": 7,
          "value": 0.0038371628616005182,
          "variable": "val_loss"
         },
         {
          "index": 8,
          "value": 0.002187273697927594,
          "variable": "val_loss"
         },
         {
          "index": 9,
          "value": 0.0014681007014587522,
          "variable": "val_loss"
         },
         {
          "index": 10,
          "value": 0.0015320247039198875,
          "variable": "val_loss"
         },
         {
          "index": 11,
          "value": 0.0023431398440152407,
          "variable": "val_loss"
         },
         {
          "index": 12,
          "value": 0.0028808044735342264,
          "variable": "val_loss"
         },
         {
          "index": 13,
          "value": 0.0029795318841934204,
          "variable": "val_loss"
         },
         {
          "index": 14,
          "value": 0.004300192464143038,
          "variable": "val_loss"
         }
        ]
       },
       "encoding": {
        "color": {
         "field": "variable",
         "legend": {
          "labelFontSize": 18,
          "title": "Variable",
          "titleFontSize": 16
         },
         "type": "nominal"
        },
        "x": {
         "axis": {
          "title": "Epoch",
          "titleFontSize": 18
         },
         "field": "index",
         "type": "quantitative"
        },
        "y": {
         "axis": {
          "title": "Loss",
          "titleFontSize": 18
         },
         "field": "value",
         "type": "quantitative"
        }
       },
       "height": 400,
       "mark": {
        "size": 2,
        "type": "line"
       },
       "width": 600
      },
      "image/png": "[encoded data removed]",
      "text/plain": [
       "<VegaLite 3 object>\n",
       "\n",
       "If you see this message, it means the renderer has not been properly enabled\n",
       "for the frontend that you are using. For more information, see\n",
       "https://altair-viz.github.io/user_guide/troubleshooting.html\n"
      ]
     },
     "execution_count": 48,
     "metadata": {},
     "output_type": "execute_result"
    }
   ],
   "source": [
    "alt.Chart(history[[\"epoch_loss\", \"val_loss\"]].reset_index().melt(id_vars=['index'], value_vars=['epoch_loss', 'val_loss']), height=400, width=600).mark_line(size=2).encode(\n",
    "    alt.X(\"index:Q\", axis=alt.Axis(title='Epoch', titleFontSize=18)),\n",
    "    alt.Y(\"value\", axis=alt.Axis(title=\"Loss\", titleFontSize=18)),\n",
    "    alt.Color(\"variable\", legend=alt.Legend(title=\"Variable\", labelFontSize=18, titleFontSize=16))\n",
    ")"
   ]
  },
  {
   "cell_type": "code",
   "execution_count": 49,
   "metadata": {},
   "outputs": [
    {
     "data": {
      "application/vnd.vegalite.v3+json": {
       "$schema": "https://vega.github.io/schema/vega-lite/v3.2.1.json",
       "config": {
        "mark": {
         "tooltip": null
        },
        "view": {
         "height": 300,
         "width": 400
        }
       },
       "data": {
        "name": "data-5527366ff39e465d96bd4f29f434267e"
       },
       "datasets": {
        "data-5527366ff39e465d96bd4f29f434267e": [
         {
          "index": 0,
          "value": 0.8953569613821138,
          "variable": "epoch_acc"
         },
         {
          "index": 1,
          "value": 0.9517183016499283,
          "variable": "epoch_acc"
         },
         {
          "index": 2,
          "value": 0.9910386029411765,
          "variable": "epoch_acc"
         },
         {
          "index": 3,
          "value": 0.9944852941176471,
          "variable": "epoch_acc"
         },
         {
          "index": 4,
          "value": 0.9997702205882353,
          "variable": "epoch_acc"
         },
         {
          "index": 5,
          "value": 1,
          "variable": "epoch_acc"
         },
         {
          "index": 6,
          "value": 1,
          "variable": "epoch_acc"
         },
         {
          "index": 7,
          "value": 1,
          "variable": "epoch_acc"
         },
         {
          "index": 8,
          "value": 1,
          "variable": "epoch_acc"
         },
         {
          "index": 9,
          "value": 1,
          "variable": "epoch_acc"
         },
         {
          "index": 10,
          "value": 1,
          "variable": "epoch_acc"
         },
         {
          "index": 11,
          "value": 1,
          "variable": "epoch_acc"
         },
         {
          "index": 12,
          "value": 1,
          "variable": "epoch_acc"
         },
         {
          "index": 13,
          "value": 1,
          "variable": "epoch_acc"
         },
         {
          "index": 14,
          "value": 1,
          "variable": "epoch_acc"
         },
         {
          "index": 0,
          "value": 0.917184265010352,
          "variable": "val_acc"
         },
         {
          "index": 1,
          "value": 0.9772256728778468,
          "variable": "val_acc"
         },
         {
          "index": 2,
          "value": 0.9937888198757764,
          "variable": "val_acc"
         },
         {
          "index": 3,
          "value": 0.9958592132505176,
          "variable": "val_acc"
         },
         {
          "index": 4,
          "value": 0.9958592132505176,
          "variable": "val_acc"
         },
         {
          "index": 5,
          "value": 0.9979296066252588,
          "variable": "val_acc"
         },
         {
          "index": 6,
          "value": 0.9979296066252588,
          "variable": "val_acc"
         },
         {
          "index": 7,
          "value": 0.9979296066252588,
          "variable": "val_acc"
         },
         {
          "index": 8,
          "value": 1,
          "variable": "val_acc"
         },
         {
          "index": 9,
          "value": 1,
          "variable": "val_acc"
         },
         {
          "index": 10,
          "value": 1,
          "variable": "val_acc"
         },
         {
          "index": 11,
          "value": 0.9979296066252588,
          "variable": "val_acc"
         },
         {
          "index": 12,
          "value": 0.9979296066252588,
          "variable": "val_acc"
         },
         {
          "index": 13,
          "value": 0.9979296066252588,
          "variable": "val_acc"
         },
         {
          "index": 14,
          "value": 0.9979296066252588,
          "variable": "val_acc"
         }
        ]
       },
       "encoding": {
        "color": {
         "field": "variable",
         "legend": {
          "labelFontSize": 18,
          "title": "Variable",
          "titleFontSize": 16
         },
         "type": "nominal"
        },
        "x": {
         "axis": {
          "title": "Epoch",
          "titleFontSize": 18
         },
         "field": "index",
         "type": "quantitative"
        },
        "y": {
         "axis": {
          "format": "%",
          "title": "Acc",
          "titleFontSize": 18
         },
         "field": "value",
         "type": "quantitative"
        }
       },
       "height": 400,
       "mark": "line",
       "width": 600
      },
      "image/png": "[encoded data removed]",
      "text/plain": [
       "<VegaLite 3 object>\n",
       "\n",
       "If you see this message, it means the renderer has not been properly enabled\n",
       "for the frontend that you are using. For more information, see\n",
       "https://altair-viz.github.io/user_guide/troubleshooting.html\n"
      ]
     },
     "execution_count": 49,
     "metadata": {},
     "output_type": "execute_result"
    }
   ],
   "source": [
    "alt.Chart(history[[\"epoch_acc\", \"val_acc\"]].reset_index().melt(id_vars=['index'], value_vars=['epoch_acc', 'val_acc']), height=400, width=600).mark_line().encode(\n",
    "    alt.X(\"index:Q\", axis=alt.Axis(title=\"Epoch\", titleFontSize=18)),\n",
    "    alt.Y(\"value\", axis=alt.Axis(format='%', title=\"Acc\", titleFontSize=18)),\n",
    "    alt.Color(\"variable\", legend=alt.Legend(title=\"Variable\", labelFontSize=18, titleFontSize=16))\n",
    ")"
   ]
  },
  {
   "cell_type": "markdown",
   "metadata": {},
   "source": [
    "### Batch history"
   ]
  },
  {
   "cell_type": "code",
   "execution_count": 50,
   "metadata": {},
   "outputs": [
    {
     "data": {
      "text/html": [
       "<div>\n",
       "<style scoped>\n",
       "    .dataframe tbody tr th:only-of-type {\n",
       "        vertical-align: middle;\n",
       "    }\n",
       "\n",
       "    .dataframe tbody tr th {\n",
       "        vertical-align: top;\n",
       "    }\n",
       "\n",
       "    .dataframe thead th {\n",
       "        text-align: right;\n",
       "    }\n",
       "</style>\n",
       "<table border=\"1\" class=\"dataframe\">\n",
       "  <thead>\n",
       "    <tr style=\"text-align: right;\">\n",
       "      <th></th>\n",
       "      <th>batch_loss</th>\n",
       "      <th>batch_acc</th>\n",
       "      <th>batch_lr</th>\n",
       "    </tr>\n",
       "  </thead>\n",
       "  <tbody>\n",
       "    <tr>\n",
       "      <th>0</th>\n",
       "      <td>6.988626e-01</td>\n",
       "      <td>0.320312</td>\n",
       "      <td>0.002995</td>\n",
       "    </tr>\n",
       "    <tr>\n",
       "      <th>1</th>\n",
       "      <td>4.596461e-01</td>\n",
       "      <td>0.898438</td>\n",
       "      <td>0.003000</td>\n",
       "    </tr>\n",
       "    <tr>\n",
       "      <th>2</th>\n",
       "      <td>3.326135e-01</td>\n",
       "      <td>0.921875</td>\n",
       "      <td>0.002995</td>\n",
       "    </tr>\n",
       "    <tr>\n",
       "      <th>3</th>\n",
       "      <td>3.319395e-01</td>\n",
       "      <td>0.914062</td>\n",
       "      <td>0.002979</td>\n",
       "    </tr>\n",
       "    <tr>\n",
       "      <th>4</th>\n",
       "      <td>2.110878e-01</td>\n",
       "      <td>0.937500</td>\n",
       "      <td>0.002952</td>\n",
       "    </tr>\n",
       "    <tr>\n",
       "      <th>5</th>\n",
       "      <td>2.140974e-01</td>\n",
       "      <td>0.945312</td>\n",
       "      <td>0.002916</td>\n",
       "    </tr>\n",
       "    <tr>\n",
       "      <th>6</th>\n",
       "      <td>4.442025e-01</td>\n",
       "      <td>0.882812</td>\n",
       "      <td>0.002869</td>\n",
       "    </tr>\n",
       "    <tr>\n",
       "      <th>7</th>\n",
       "      <td>2.482043e-01</td>\n",
       "      <td>0.914062</td>\n",
       "      <td>0.002813</td>\n",
       "    </tr>\n",
       "    <tr>\n",
       "      <th>8</th>\n",
       "      <td>2.835102e-01</td>\n",
       "      <td>0.898438</td>\n",
       "      <td>0.002748</td>\n",
       "    </tr>\n",
       "    <tr>\n",
       "      <th>9</th>\n",
       "      <td>2.599502e-01</td>\n",
       "      <td>0.921875</td>\n",
       "      <td>0.002674</td>\n",
       "    </tr>\n",
       "    <tr>\n",
       "      <th>10</th>\n",
       "      <td>2.106479e-01</td>\n",
       "      <td>0.960938</td>\n",
       "      <td>0.002592</td>\n",
       "    </tr>\n",
       "    <tr>\n",
       "      <th>11</th>\n",
       "      <td>2.575321e-01</td>\n",
       "      <td>0.890625</td>\n",
       "      <td>0.002503</td>\n",
       "    </tr>\n",
       "    <tr>\n",
       "      <th>12</th>\n",
       "      <td>1.980325e-01</td>\n",
       "      <td>0.921875</td>\n",
       "      <td>0.002408</td>\n",
       "    </tr>\n",
       "    <tr>\n",
       "      <th>13</th>\n",
       "      <td>2.523088e-01</td>\n",
       "      <td>0.906250</td>\n",
       "      <td>0.002307</td>\n",
       "    </tr>\n",
       "    <tr>\n",
       "      <th>14</th>\n",
       "      <td>1.858889e-01</td>\n",
       "      <td>0.929688</td>\n",
       "      <td>0.002202</td>\n",
       "    </tr>\n",
       "    <tr>\n",
       "      <th>15</th>\n",
       "      <td>2.904904e-01</td>\n",
       "      <td>0.867188</td>\n",
       "      <td>0.002092</td>\n",
       "    </tr>\n",
       "    <tr>\n",
       "      <th>16</th>\n",
       "      <td>2.828290e-01</td>\n",
       "      <td>0.882812</td>\n",
       "      <td>0.001980</td>\n",
       "    </tr>\n",
       "    <tr>\n",
       "      <th>17</th>\n",
       "      <td>2.250689e-01</td>\n",
       "      <td>0.906250</td>\n",
       "      <td>0.001865</td>\n",
       "    </tr>\n",
       "    <tr>\n",
       "      <th>18</th>\n",
       "      <td>1.671770e-01</td>\n",
       "      <td>0.929688</td>\n",
       "      <td>0.001750</td>\n",
       "    </tr>\n",
       "    <tr>\n",
       "      <th>19</th>\n",
       "      <td>2.182243e-01</td>\n",
       "      <td>0.929688</td>\n",
       "      <td>0.001635</td>\n",
       "    </tr>\n",
       "    <tr>\n",
       "      <th>20</th>\n",
       "      <td>2.475373e-01</td>\n",
       "      <td>0.921875</td>\n",
       "      <td>0.001520</td>\n",
       "    </tr>\n",
       "    <tr>\n",
       "      <th>21</th>\n",
       "      <td>1.991821e-01</td>\n",
       "      <td>0.914062</td>\n",
       "      <td>0.001408</td>\n",
       "    </tr>\n",
       "    <tr>\n",
       "      <th>22</th>\n",
       "      <td>2.067228e-01</td>\n",
       "      <td>0.890625</td>\n",
       "      <td>0.001298</td>\n",
       "    </tr>\n",
       "    <tr>\n",
       "      <th>23</th>\n",
       "      <td>1.376978e-01</td>\n",
       "      <td>0.937500</td>\n",
       "      <td>0.001193</td>\n",
       "    </tr>\n",
       "    <tr>\n",
       "      <th>24</th>\n",
       "      <td>2.134538e-01</td>\n",
       "      <td>0.882812</td>\n",
       "      <td>0.001092</td>\n",
       "    </tr>\n",
       "    <tr>\n",
       "      <th>25</th>\n",
       "      <td>2.700027e-01</td>\n",
       "      <td>0.898438</td>\n",
       "      <td>0.000997</td>\n",
       "    </tr>\n",
       "    <tr>\n",
       "      <th>26</th>\n",
       "      <td>2.612661e-01</td>\n",
       "      <td>0.898438</td>\n",
       "      <td>0.000908</td>\n",
       "    </tr>\n",
       "    <tr>\n",
       "      <th>27</th>\n",
       "      <td>1.050658e-01</td>\n",
       "      <td>0.953125</td>\n",
       "      <td>0.000826</td>\n",
       "    </tr>\n",
       "    <tr>\n",
       "      <th>28</th>\n",
       "      <td>2.264495e-01</td>\n",
       "      <td>0.914062</td>\n",
       "      <td>0.000752</td>\n",
       "    </tr>\n",
       "    <tr>\n",
       "      <th>29</th>\n",
       "      <td>1.008461e-01</td>\n",
       "      <td>0.937500</td>\n",
       "      <td>0.000687</td>\n",
       "    </tr>\n",
       "    <tr>\n",
       "      <th>...</th>\n",
       "      <td>...</td>\n",
       "      <td>...</td>\n",
       "      <td>...</td>\n",
       "    </tr>\n",
       "    <tr>\n",
       "      <th>480</th>\n",
       "      <td>1.015887e-05</td>\n",
       "      <td>1.000000</td>\n",
       "      <td>0.002952</td>\n",
       "    </tr>\n",
       "    <tr>\n",
       "      <th>481</th>\n",
       "      <td>2.272241e-05</td>\n",
       "      <td>1.000000</td>\n",
       "      <td>0.002916</td>\n",
       "    </tr>\n",
       "    <tr>\n",
       "      <th>482</th>\n",
       "      <td>2.728030e-05</td>\n",
       "      <td>1.000000</td>\n",
       "      <td>0.002869</td>\n",
       "    </tr>\n",
       "    <tr>\n",
       "      <th>483</th>\n",
       "      <td>7.119030e-06</td>\n",
       "      <td>1.000000</td>\n",
       "      <td>0.002813</td>\n",
       "    </tr>\n",
       "    <tr>\n",
       "      <th>484</th>\n",
       "      <td>8.070841e-06</td>\n",
       "      <td>1.000000</td>\n",
       "      <td>0.002748</td>\n",
       "    </tr>\n",
       "    <tr>\n",
       "      <th>485</th>\n",
       "      <td>7.065013e-06</td>\n",
       "      <td>1.000000</td>\n",
       "      <td>0.002674</td>\n",
       "    </tr>\n",
       "    <tr>\n",
       "      <th>486</th>\n",
       "      <td>6.992370e-06</td>\n",
       "      <td>1.000000</td>\n",
       "      <td>0.002592</td>\n",
       "    </tr>\n",
       "    <tr>\n",
       "      <th>487</th>\n",
       "      <td>2.480298e-05</td>\n",
       "      <td>1.000000</td>\n",
       "      <td>0.002503</td>\n",
       "    </tr>\n",
       "    <tr>\n",
       "      <th>488</th>\n",
       "      <td>2.025254e-05</td>\n",
       "      <td>1.000000</td>\n",
       "      <td>0.002408</td>\n",
       "    </tr>\n",
       "    <tr>\n",
       "      <th>489</th>\n",
       "      <td>3.420375e-05</td>\n",
       "      <td>1.000000</td>\n",
       "      <td>0.002307</td>\n",
       "    </tr>\n",
       "    <tr>\n",
       "      <th>490</th>\n",
       "      <td>2.708286e-06</td>\n",
       "      <td>1.000000</td>\n",
       "      <td>0.002202</td>\n",
       "    </tr>\n",
       "    <tr>\n",
       "      <th>491</th>\n",
       "      <td>9.370968e-06</td>\n",
       "      <td>1.000000</td>\n",
       "      <td>0.002092</td>\n",
       "    </tr>\n",
       "    <tr>\n",
       "      <th>492</th>\n",
       "      <td>6.405637e-06</td>\n",
       "      <td>1.000000</td>\n",
       "      <td>0.001980</td>\n",
       "    </tr>\n",
       "    <tr>\n",
       "      <th>493</th>\n",
       "      <td>4.105270e-06</td>\n",
       "      <td>1.000000</td>\n",
       "      <td>0.001865</td>\n",
       "    </tr>\n",
       "    <tr>\n",
       "      <th>494</th>\n",
       "      <td>7.264316e-07</td>\n",
       "      <td>1.000000</td>\n",
       "      <td>0.001750</td>\n",
       "    </tr>\n",
       "    <tr>\n",
       "      <th>495</th>\n",
       "      <td>7.780269e-06</td>\n",
       "      <td>1.000000</td>\n",
       "      <td>0.001635</td>\n",
       "    </tr>\n",
       "    <tr>\n",
       "      <th>496</th>\n",
       "      <td>2.276152e-06</td>\n",
       "      <td>1.000000</td>\n",
       "      <td>0.001520</td>\n",
       "    </tr>\n",
       "    <tr>\n",
       "      <th>497</th>\n",
       "      <td>3.807247e-06</td>\n",
       "      <td>1.000000</td>\n",
       "      <td>0.001408</td>\n",
       "    </tr>\n",
       "    <tr>\n",
       "      <th>498</th>\n",
       "      <td>2.409518e-05</td>\n",
       "      <td>1.000000</td>\n",
       "      <td>0.001298</td>\n",
       "    </tr>\n",
       "    <tr>\n",
       "      <th>499</th>\n",
       "      <td>1.473911e-05</td>\n",
       "      <td>1.000000</td>\n",
       "      <td>0.001193</td>\n",
       "    </tr>\n",
       "    <tr>\n",
       "      <th>500</th>\n",
       "      <td>3.378838e-06</td>\n",
       "      <td>1.000000</td>\n",
       "      <td>0.001092</td>\n",
       "    </tr>\n",
       "    <tr>\n",
       "      <th>501</th>\n",
       "      <td>1.937523e-05</td>\n",
       "      <td>1.000000</td>\n",
       "      <td>0.000997</td>\n",
       "    </tr>\n",
       "    <tr>\n",
       "      <th>502</th>\n",
       "      <td>1.844577e-05</td>\n",
       "      <td>1.000000</td>\n",
       "      <td>0.000908</td>\n",
       "    </tr>\n",
       "    <tr>\n",
       "      <th>503</th>\n",
       "      <td>1.231767e-05</td>\n",
       "      <td>1.000000</td>\n",
       "      <td>0.000826</td>\n",
       "    </tr>\n",
       "    <tr>\n",
       "      <th>504</th>\n",
       "      <td>8.357689e-06</td>\n",
       "      <td>1.000000</td>\n",
       "      <td>0.000752</td>\n",
       "    </tr>\n",
       "    <tr>\n",
       "      <th>505</th>\n",
       "      <td>9.449199e-06</td>\n",
       "      <td>1.000000</td>\n",
       "      <td>0.000687</td>\n",
       "    </tr>\n",
       "    <tr>\n",
       "      <th>506</th>\n",
       "      <td>3.300607e-06</td>\n",
       "      <td>1.000000</td>\n",
       "      <td>0.000631</td>\n",
       "    </tr>\n",
       "    <tr>\n",
       "      <th>507</th>\n",
       "      <td>4.734844e-06</td>\n",
       "      <td>1.000000</td>\n",
       "      <td>0.000584</td>\n",
       "    </tr>\n",
       "    <tr>\n",
       "      <th>508</th>\n",
       "      <td>2.522022e-06</td>\n",
       "      <td>1.000000</td>\n",
       "      <td>0.000548</td>\n",
       "    </tr>\n",
       "    <tr>\n",
       "      <th>509</th>\n",
       "      <td>8.571438e-06</td>\n",
       "      <td>1.000000</td>\n",
       "      <td>0.000521</td>\n",
       "    </tr>\n",
       "  </tbody>\n",
       "</table>\n",
       "<p>510 rows × 3 columns</p>\n",
       "</div>"
      ],
      "text/plain": [
       "       batch_loss  batch_acc  batch_lr\n",
       "0    6.988626e-01   0.320312  0.002995\n",
       "1    4.596461e-01   0.898438  0.003000\n",
       "2    3.326135e-01   0.921875  0.002995\n",
       "3    3.319395e-01   0.914062  0.002979\n",
       "4    2.110878e-01   0.937500  0.002952\n",
       "5    2.140974e-01   0.945312  0.002916\n",
       "6    4.442025e-01   0.882812  0.002869\n",
       "7    2.482043e-01   0.914062  0.002813\n",
       "8    2.835102e-01   0.898438  0.002748\n",
       "9    2.599502e-01   0.921875  0.002674\n",
       "10   2.106479e-01   0.960938  0.002592\n",
       "11   2.575321e-01   0.890625  0.002503\n",
       "12   1.980325e-01   0.921875  0.002408\n",
       "13   2.523088e-01   0.906250  0.002307\n",
       "14   1.858889e-01   0.929688  0.002202\n",
       "15   2.904904e-01   0.867188  0.002092\n",
       "16   2.828290e-01   0.882812  0.001980\n",
       "17   2.250689e-01   0.906250  0.001865\n",
       "18   1.671770e-01   0.929688  0.001750\n",
       "19   2.182243e-01   0.929688  0.001635\n",
       "20   2.475373e-01   0.921875  0.001520\n",
       "21   1.991821e-01   0.914062  0.001408\n",
       "22   2.067228e-01   0.890625  0.001298\n",
       "23   1.376978e-01   0.937500  0.001193\n",
       "24   2.134538e-01   0.882812  0.001092\n",
       "25   2.700027e-01   0.898438  0.000997\n",
       "26   2.612661e-01   0.898438  0.000908\n",
       "27   1.050658e-01   0.953125  0.000826\n",
       "28   2.264495e-01   0.914062  0.000752\n",
       "29   1.008461e-01   0.937500  0.000687\n",
       "..            ...        ...       ...\n",
       "480  1.015887e-05   1.000000  0.002952\n",
       "481  2.272241e-05   1.000000  0.002916\n",
       "482  2.728030e-05   1.000000  0.002869\n",
       "483  7.119030e-06   1.000000  0.002813\n",
       "484  8.070841e-06   1.000000  0.002748\n",
       "485  7.065013e-06   1.000000  0.002674\n",
       "486  6.992370e-06   1.000000  0.002592\n",
       "487  2.480298e-05   1.000000  0.002503\n",
       "488  2.025254e-05   1.000000  0.002408\n",
       "489  3.420375e-05   1.000000  0.002307\n",
       "490  2.708286e-06   1.000000  0.002202\n",
       "491  9.370968e-06   1.000000  0.002092\n",
       "492  6.405637e-06   1.000000  0.001980\n",
       "493  4.105270e-06   1.000000  0.001865\n",
       "494  7.264316e-07   1.000000  0.001750\n",
       "495  7.780269e-06   1.000000  0.001635\n",
       "496  2.276152e-06   1.000000  0.001520\n",
       "497  3.807247e-06   1.000000  0.001408\n",
       "498  2.409518e-05   1.000000  0.001298\n",
       "499  1.473911e-05   1.000000  0.001193\n",
       "500  3.378838e-06   1.000000  0.001092\n",
       "501  1.937523e-05   1.000000  0.000997\n",
       "502  1.844577e-05   1.000000  0.000908\n",
       "503  1.231767e-05   1.000000  0.000826\n",
       "504  8.357689e-06   1.000000  0.000752\n",
       "505  9.449199e-06   1.000000  0.000687\n",
       "506  3.300607e-06   1.000000  0.000631\n",
       "507  4.734844e-06   1.000000  0.000584\n",
       "508  2.522022e-06   1.000000  0.000548\n",
       "509  8.571438e-06   1.000000  0.000521\n",
       "\n",
       "[510 rows x 3 columns]"
      ]
     },
     "execution_count": 50,
     "metadata": {},
     "output_type": "execute_result"
    }
   ],
   "source": [
    "history = pd.DataFrame({k: dafs_pt_cnn_history[k] for k in dafs_pt_cnn_history if \"batch\" in k})\n",
    "history"
   ]
  },
  {
   "cell_type": "code",
   "execution_count": 65,
   "metadata": {},
   "outputs": [
    {
     "data": {
      "application/vnd.vegalite.v3+json": {
       "$schema": "https://vega.github.io/schema/vega-lite/v3.2.1.json",
       "config": {
        "mark": {
         "tooltip": null
        },
        "view": {
         "height": 300,
         "width": 400
        }
       },
       "datasets": {
        "data-6090dc372851f2b1b78b71d49d93108e": [
         {
          "batch_loss": 0.698862612247467,
          "index": 0
         },
         {
          "batch_loss": 0.4596461355686188,
          "index": 1
         },
         {
          "batch_loss": 0.3326134979724884,
          "index": 2
         },
         {
          "batch_loss": 0.3319394588470459,
          "index": 3
         },
         {
          "batch_loss": 0.21108776330947876,
          "index": 4
         },
         {
          "batch_loss": 0.21409736573696136,
          "index": 5
         },
         {
          "batch_loss": 0.4442025423049927,
          "index": 6
         },
         {
          "batch_loss": 0.2482043206691742,
          "index": 7
         },
         {
          "batch_loss": 0.2835102379322052,
          "index": 8
         },
         {
          "batch_loss": 0.2599501609802246,
          "index": 9
         },
         {
          "batch_loss": 0.21064789593219757,
          "index": 10
         },
         {
          "batch_loss": 0.2575320899486542,
          "index": 11
         },
         {
          "batch_loss": 0.1980324536561966,
          "index": 12
         },
         {
          "batch_loss": 0.25230881571769714,
          "index": 13
         },
         {
          "batch_loss": 0.18588894605636597,
          "index": 14
         },
         {
          "batch_loss": 0.29049041867256165,
          "index": 15
         },
         {
          "batch_loss": 0.28282901644706726,
          "index": 16
         },
         {
          "batch_loss": 0.22506889700889587,
          "index": 17
         },
         {
          "batch_loss": 0.1671770066022873,
          "index": 18
         },
         {
          "batch_loss": 0.21822430193424225,
          "index": 19
         },
         {
          "batch_loss": 0.2475372701883316,
          "index": 20
         },
         {
          "batch_loss": 0.19918212294578552,
          "index": 21
         },
         {
          "batch_loss": 0.20672275125980377,
          "index": 22
         },
         {
          "batch_loss": 0.13769777119159698,
          "index": 23
         },
         {
          "batch_loss": 0.21345384418964386,
          "index": 24
         },
         {
          "batch_loss": 0.27000266313552856,
          "index": 25
         },
         {
          "batch_loss": 0.2612660527229309,
          "index": 26
         },
         {
          "batch_loss": 0.10506576299667358,
          "index": 27
         },
         {
          "batch_loss": 0.22644947469234467,
          "index": 28
         },
         {
          "batch_loss": 0.10084612667560577,
          "index": 29
         },
         {
          "batch_loss": 0.17486339807510376,
          "index": 30
         },
         {
          "batch_loss": 0.1902550607919693,
          "index": 31
         },
         {
          "batch_loss": 0.2463177591562271,
          "index": 32
         },
         {
          "batch_loss": 0.16466324031352997,
          "index": 33
         },
         {
          "batch_loss": 0.2089674025774002,
          "index": 34
         },
         {
          "batch_loss": 0.10872349888086319,
          "index": 35
         },
         {
          "batch_loss": 0.21821379661560059,
          "index": 36
         },
         {
          "batch_loss": 0.12911465764045715,
          "index": 37
         },
         {
          "batch_loss": 0.21448980271816254,
          "index": 38
         },
         {
          "batch_loss": 0.18799267709255219,
          "index": 39
         },
         {
          "batch_loss": 0.15820002555847168,
          "index": 40
         },
         {
          "batch_loss": 0.19404146075248718,
          "index": 41
         },
         {
          "batch_loss": 0.15174411237239838,
          "index": 42
         },
         {
          "batch_loss": 0.1122405156493187,
          "index": 43
         },
         {
          "batch_loss": 0.12568534910678864,
          "index": 44
         },
         {
          "batch_loss": 0.2053544968366623,
          "index": 45
         },
         {
          "batch_loss": 0.11803779006004333,
          "index": 46
         },
         {
          "batch_loss": 0.09631345421075821,
          "index": 47
         },
         {
          "batch_loss": 0.09330428391695023,
          "index": 48
         },
         {
          "batch_loss": 0.19210880994796753,
          "index": 49
         },
         {
          "batch_loss": 0.08905229717493057,
          "index": 50
         },
         {
          "batch_loss": 0.0850992277264595,
          "index": 51
         },
         {
          "batch_loss": 0.1555105596780777,
          "index": 52
         },
         {
          "batch_loss": 0.10251246392726898,
          "index": 53
         },
         {
          "batch_loss": 0.10030439496040344,
          "index": 54
         },
         {
          "batch_loss": 0.08147697895765305,
          "index": 55
         },
         {
          "batch_loss": 0.15322692692279816,
          "index": 56
         },
         {
          "batch_loss": 0.0489201694726944,
          "index": 57
         },
         {
          "batch_loss": 0.043334633111953735,
          "index": 58
         },
         {
          "batch_loss": 0.05447850003838539,
          "index": 59
         },
         {
          "batch_loss": 0.07739298045635223,
          "index": 60
         },
         {
          "batch_loss": 0.09560167789459229,
          "index": 61
         },
         {
          "batch_loss": 0.060626257210969925,
          "index": 62
         },
         {
          "batch_loss": 0.08020974695682526,
          "index": 63
         },
         {
          "batch_loss": 0.05024371296167374,
          "index": 64
         },
         {
          "batch_loss": 0.10774776339530945,
          "index": 65
         },
         {
          "batch_loss": 0.039475224912166595,
          "index": 66
         },
         {
          "batch_loss": 0.07893554866313934,
          "index": 67
         },
         {
          "batch_loss": 0.026853300631046295,
          "index": 68
         },
         {
          "batch_loss": 0.05934673175215721,
          "index": 69
         },
         {
          "batch_loss": 0.054082438349723816,
          "index": 70
         },
         {
          "batch_loss": 0.0761338621377945,
          "index": 71
         },
         {
          "batch_loss": 0.05271593853831291,
          "index": 72
         },
         {
          "batch_loss": 0.09091026335954666,
          "index": 73
         },
         {
          "batch_loss": 0.06960561126470566,
          "index": 74
         },
         {
          "batch_loss": 0.05155568942427635,
          "index": 75
         },
         {
          "batch_loss": 0.015601431019604206,
          "index": 76
         },
         {
          "batch_loss": 0.08214296400547028,
          "index": 77
         },
         {
          "batch_loss": 0.02440566010773182,
          "index": 78
         },
         {
          "batch_loss": 0.03454679995775223,
          "index": 79
         },
         {
          "batch_loss": 0.011636432260274887,
          "index": 80
         },
         {
          "batch_loss": 0.007496134843677282,
          "index": 81
         },
         {
          "batch_loss": 0.011094081215560436,
          "index": 82
         },
         {
          "batch_loss": 0.004513326101005077,
          "index": 83
         },
         {
          "batch_loss": 0.05212448164820671,
          "index": 84
         },
         {
          "batch_loss": 0.0291887316852808,
          "index": 85
         },
         {
          "batch_loss": 0.008423537947237492,
          "index": 86
         },
         {
          "batch_loss": 0.02445545420050621,
          "index": 87
         },
         {
          "batch_loss": 0.020197279751300812,
          "index": 88
         },
         {
          "batch_loss": 0.015488720498979092,
          "index": 89
         },
         {
          "batch_loss": 0.032549161463975906,
          "index": 90
         },
         {
          "batch_loss": 0.024924347177147865,
          "index": 91
         },
         {
          "batch_loss": 0.0060150353237986565,
          "index": 92
         },
         {
          "batch_loss": 0.011379425413906574,
          "index": 93
         },
         {
          "batch_loss": 0.0327724814414978,
          "index": 94
         },
         {
          "batch_loss": 0.012278194539248943,
          "index": 95
         },
         {
          "batch_loss": 0.015652935951948166,
          "index": 96
         },
         {
          "batch_loss": 0.009581797756254673,
          "index": 97
         },
         {
          "batch_loss": 0.002064923755824566,
          "index": 98
         },
         {
          "batch_loss": 0.001519964076578617,
          "index": 99
         },
         {
          "batch_loss": 0.011663412675261497,
          "index": 100
         },
         {
          "batch_loss": 0.010092837736010551,
          "index": 101
         },
         {
          "batch_loss": 0.020640555769205093,
          "index": 102
         },
         {
          "batch_loss": 0.0046806735917925835,
          "index": 103
         },
         {
          "batch_loss": 0.0016259625554084778,
          "index": 104
         },
         {
          "batch_loss": 0.017236433923244476,
          "index": 105
         },
         {
          "batch_loss": 0.004830535966902971,
          "index": 106
         },
         {
          "batch_loss": 0.011431360617280006,
          "index": 107
         },
         {
          "batch_loss": 0.031231213361024857,
          "index": 108
         },
         {
          "batch_loss": 0.001072135753929615,
          "index": 109
         },
         {
          "batch_loss": 0.03630858659744263,
          "index": 110
         },
         {
          "batch_loss": 0.005295369774103165,
          "index": 111
         },
         {
          "batch_loss": 0.004332573618739843,
          "index": 112
         },
         {
          "batch_loss": 0.018250873312354088,
          "index": 113
         },
         {
          "batch_loss": 0.00860920362174511,
          "index": 114
         },
         {
          "batch_loss": 0.0009116837754845619,
          "index": 115
         },
         {
          "batch_loss": 0.002310238778591156,
          "index": 116
         },
         {
          "batch_loss": 0.056237801909446716,
          "index": 117
         },
         {
          "batch_loss": 0.0028127897530794144,
          "index": 118
         },
         {
          "batch_loss": 0.0107034370303154,
          "index": 119
         },
         {
          "batch_loss": 0.08753116428852081,
          "index": 120
         },
         {
          "batch_loss": 0.0010899417102336884,
          "index": 121
         },
         {
          "batch_loss": 0.006079846061766148,
          "index": 122
         },
         {
          "batch_loss": 0.03365015611052513,
          "index": 123
         },
         {
          "batch_loss": 0.03788363188505173,
          "index": 124
         },
         {
          "batch_loss": 0.0013217814266681671,
          "index": 125
         },
         {
          "batch_loss": 0.0059457761235535145,
          "index": 126
         },
         {
          "batch_loss": 0.02743409387767315,
          "index": 127
         },
         {
          "batch_loss": 0.004102151375263929,
          "index": 128
         },
         {
          "batch_loss": 0.014773476868867874,
          "index": 129
         },
         {
          "batch_loss": 0.00092365313321352,
          "index": 130
         },
         {
          "batch_loss": 0.002124456688761711,
          "index": 131
         },
         {
          "batch_loss": 0.018263205885887146,
          "index": 132
         },
         {
          "batch_loss": 0.001448230817914009,
          "index": 133
         },
         {
          "batch_loss": 0.0008267657831311226,
          "index": 134
         },
         {
          "batch_loss": 0.001406250987201929,
          "index": 135
         },
         {
          "batch_loss": 0.0018665166571736336,
          "index": 136
         },
         {
          "batch_loss": 0.004822821356356144,
          "index": 137
         },
         {
          "batch_loss": 0.002051382325589657,
          "index": 138
         },
         {
          "batch_loss": 0.0015140743926167488,
          "index": 139
         },
         {
          "batch_loss": 0.0014839302748441696,
          "index": 140
         },
         {
          "batch_loss": 0.0033425246365368366,
          "index": 141
         },
         {
          "batch_loss": 0.0017503276467323303,
          "index": 142
         },
         {
          "batch_loss": 0.0005923565477132797,
          "index": 143
         },
         {
          "batch_loss": 0.0005404427647590637,
          "index": 144
         },
         {
          "batch_loss": 0.0005096765235066414,
          "index": 145
         },
         {
          "batch_loss": 0.0026150718331336975,
          "index": 146
         },
         {
          "batch_loss": 0.0030619846656918526,
          "index": 147
         },
         {
          "batch_loss": 0.005711705889552832,
          "index": 148
         },
         {
          "batch_loss": 0.0003547612577676773,
          "index": 149
         },
         {
          "batch_loss": 0.0007503023371100426,
          "index": 150
         },
         {
          "batch_loss": 0.00039522722363471985,
          "index": 151
         },
         {
          "batch_loss": 0.005503170192241669,
          "index": 152
         },
         {
          "batch_loss": 0.001089325174689293,
          "index": 153
         },
         {
          "batch_loss": 0.004506380297243595,
          "index": 154
         },
         {
          "batch_loss": 0.0038319379091262817,
          "index": 155
         },
         {
          "batch_loss": 0.0009229490533471107,
          "index": 156
         },
         {
          "batch_loss": 0.0006027957424521446,
          "index": 157
         },
         {
          "batch_loss": 0.0011986354365944862,
          "index": 158
         },
         {
          "batch_loss": 0.0007132980972528458,
          "index": 159
         },
         {
          "batch_loss": 0.0005640750750899315,
          "index": 160
         },
         {
          "batch_loss": 0.0002916809171438217,
          "index": 161
         },
         {
          "batch_loss": 0.00012832693755626678,
          "index": 162
         },
         {
          "batch_loss": 0.00012104958295822144,
          "index": 163
         },
         {
          "batch_loss": 0.0002740193158388138,
          "index": 164
         },
         {
          "batch_loss": 0.0005532419309020042,
          "index": 165
         },
         {
          "batch_loss": 0.001245894469320774,
          "index": 166
         },
         {
          "batch_loss": 0.0005335332825779915,
          "index": 167
         },
         {
          "batch_loss": 0.01027007307857275,
          "index": 168
         },
         {
          "batch_loss": 0.00154691596981138,
          "index": 169
         },
         {
          "batch_loss": 0.0005567725747823715,
          "index": 170
         },
         {
          "batch_loss": 0.0001111496239900589,
          "index": 171
         },
         {
          "batch_loss": 0.00013804249465465546,
          "index": 172
         },
         {
          "batch_loss": 0.0017766766250133514,
          "index": 173
         },
         {
          "batch_loss": 0.0017773462459445,
          "index": 174
         },
         {
          "batch_loss": 0.0007249116897583008,
          "index": 175
         },
         {
          "batch_loss": 0.001025678589940071,
          "index": 176
         },
         {
          "batch_loss": 0.0005842056125402451,
          "index": 177
         },
         {
          "batch_loss": 0.0005507636815309525,
          "index": 178
         },
         {
          "batch_loss": 0.00010413676500320435,
          "index": 179
         },
         {
          "batch_loss": 0.00018877163529396057,
          "index": 180
         },
         {
          "batch_loss": 0.0005208607763051987,
          "index": 181
         },
         {
          "batch_loss": 0.00010716915130615234,
          "index": 182
         },
         {
          "batch_loss": 0.0012059034779667854,
          "index": 183
         },
         {
          "batch_loss": 9.707547724246979e-05,
          "index": 184
         },
         {
          "batch_loss": 0.00017134100198745728,
          "index": 185
         },
         {
          "batch_loss": 0.0003761341795325279,
          "index": 186
         },
         {
          "batch_loss": 9.627081453800201e-05,
          "index": 187
         },
         {
          "batch_loss": 0.0006237858906388283,
          "index": 188
         },
         {
          "batch_loss": 0.00037377141416072845,
          "index": 189
         },
         {
          "batch_loss": 0.00013021007180213928,
          "index": 190
         },
         {
          "batch_loss": 0.0002980642020702362,
          "index": 191
         },
         {
          "batch_loss": 0.0003314763307571411,
          "index": 192
         },
         {
          "batch_loss": 0.00017924606800079346,
          "index": 193
         },
         {
          "batch_loss": 9.21543687582016e-05,
          "index": 194
         },
         {
          "batch_loss": 6.565824151039124e-05,
          "index": 195
         },
         {
          "batch_loss": 0.00025831814855337143,
          "index": 196
         },
         {
          "batch_loss": 0.0002081301063299179,
          "index": 197
         },
         {
          "batch_loss": 0.00018619000911712646,
          "index": 198
         },
         {
          "batch_loss": 0.00018725916743278503,
          "index": 199
         },
         {
          "batch_loss": 0.0005807830020785332,
          "index": 200
         },
         {
          "batch_loss": 5.4759904742240906e-05,
          "index": 201
         },
         {
          "batch_loss": 5.379877984523773e-05,
          "index": 202
         },
         {
          "batch_loss": 5.817413330078125e-05,
          "index": 203
         },
         {
          "batch_loss": 0.00028381403535604477,
          "index": 204
         },
         {
          "batch_loss": 6.710551679134369e-05,
          "index": 205
         },
         {
          "batch_loss": 0.00010062195360660553,
          "index": 206
         },
         {
          "batch_loss": 2.8604641556739807e-05,
          "index": 207
         },
         {
          "batch_loss": 0.00023400969803333282,
          "index": 208
         },
         {
          "batch_loss": 7.057562470436096e-05,
          "index": 209
         },
         {
          "batch_loss": 3.985315561294556e-05,
          "index": 210
         },
         {
          "batch_loss": 0.00013589859008789062,
          "index": 211
         },
         {
          "batch_loss": 0.00015642493963241577,
          "index": 212
         },
         {
          "batch_loss": 0.00010305270552635193,
          "index": 213
         },
         {
          "batch_loss": 0.00015867501497268677,
          "index": 214
         },
         {
          "batch_loss": 0.0003302376717329025,
          "index": 215
         },
         {
          "batch_loss": 9.490363299846649e-05,
          "index": 216
         },
         {
          "batch_loss": 9.856000542640686e-05,
          "index": 217
         },
         {
          "batch_loss": 5.921907722949982e-05,
          "index": 218
         },
         {
          "batch_loss": 3.436580300331116e-05,
          "index": 219
         },
         {
          "batch_loss": 3.9791688323020935e-05,
          "index": 220
         },
         {
          "batch_loss": 0.00012307800352573395,
          "index": 221
         },
         {
          "batch_loss": 6.26053661108017e-05,
          "index": 222
         },
         {
          "batch_loss": 5.262903869152069e-05,
          "index": 223
         },
         {
          "batch_loss": 4.9930065870285034e-05,
          "index": 224
         },
         {
          "batch_loss": 3.625825047492981e-05,
          "index": 225
         },
         {
          "batch_loss": 6.298348307609558e-05,
          "index": 226
         },
         {
          "batch_loss": 6.0286372900009155e-05,
          "index": 227
         },
         {
          "batch_loss": 3.265216946601868e-05,
          "index": 228
         },
         {
          "batch_loss": 6.774440407752991e-05,
          "index": 229
         },
         {
          "batch_loss": 3.5470351576805115e-05,
          "index": 230
         },
         {
          "batch_loss": 5.6119635701179504e-05,
          "index": 231
         },
         {
          "batch_loss": 2.6281923055648804e-05,
          "index": 232
         },
         {
          "batch_loss": 0.0001419316977262497,
          "index": 233
         },
         {
          "batch_loss": 4.3798238039016724e-05,
          "index": 234
         },
         {
          "batch_loss": 2.2154301404953003e-05,
          "index": 235
         },
         {
          "batch_loss": 0.00011286325752735138,
          "index": 236
         },
         {
          "batch_loss": 5.9104546380694956e-05,
          "index": 237
         },
         {
          "batch_loss": 0.00020897667855024338,
          "index": 238
         },
         {
          "batch_loss": 2.7086585760116577e-05,
          "index": 239
         },
         {
          "batch_loss": 5.1394104957580566e-05,
          "index": 240
         },
         {
          "batch_loss": 2.2990629076957703e-05,
          "index": 241
         },
         {
          "batch_loss": 9.000487625598907e-05,
          "index": 242
         },
         {
          "batch_loss": 6.378442049026489e-05,
          "index": 243
         },
         {
          "batch_loss": 2.7377158403396606e-05,
          "index": 244
         },
         {
          "batch_loss": 3.437325358390808e-05,
          "index": 245
         },
         {
          "batch_loss": 4.2848289012908936e-05,
          "index": 246
         },
         {
          "batch_loss": 5.990080535411835e-05,
          "index": 247
         },
         {
          "batch_loss": 8.103065192699432e-05,
          "index": 248
         },
         {
          "batch_loss": 2.010725438594818e-05,
          "index": 249
         },
         {
          "batch_loss": 6.677396595478058e-05,
          "index": 250
         },
         {
          "batch_loss": 3.464147448539734e-05,
          "index": 251
         },
         {
          "batch_loss": 4.1700899600982666e-05,
          "index": 252
         },
         {
          "batch_loss": 9.749270975589752e-05,
          "index": 253
         },
         {
          "batch_loss": 9.384378790855408e-05,
          "index": 254
         },
         {
          "batch_loss": 2.551265060901642e-05,
          "index": 255
         },
         {
          "batch_loss": 0.00010677240788936615,
          "index": 256
         },
         {
          "batch_loss": 0.00011241063475608826,
          "index": 257
         },
         {
          "batch_loss": 8.398108184337616e-05,
          "index": 258
         },
         {
          "batch_loss": 0.00012771226465702057,
          "index": 259
         },
         {
          "batch_loss": 3.167986869812012e-05,
          "index": 260
         },
         {
          "batch_loss": 3.0271708965301514e-05,
          "index": 261
         },
         {
          "batch_loss": 4.3239444494247437e-05,
          "index": 262
         },
         {
          "batch_loss": 0.0001813061535358429,
          "index": 263
         },
         {
          "batch_loss": 9.142234921455383e-05,
          "index": 264
         },
         {
          "batch_loss": 3.839470446109772e-05,
          "index": 265
         },
         {
          "batch_loss": 4.153884947299957e-05,
          "index": 266
         },
         {
          "batch_loss": 2.253800630569458e-05,
          "index": 267
         },
         {
          "batch_loss": 4.450976848602295e-05,
          "index": 268
         },
         {
          "batch_loss": 4.482083022594452e-05,
          "index": 269
         },
         {
          "batch_loss": 1.3697892427444458e-05,
          "index": 270
         },
         {
          "batch_loss": 6.871107325423509e-05,
          "index": 271
         },
         {
          "batch_loss": 5.9017911553382874e-05,
          "index": 272
         },
         {
          "batch_loss": 5.86584210395813e-05,
          "index": 273
         },
         {
          "batch_loss": 9.72449779510498e-05,
          "index": 274
         },
         {
          "batch_loss": 9.203515946865082e-05,
          "index": 275
         },
         {
          "batch_loss": 5.66728413105011e-05,
          "index": 276
         },
         {
          "batch_loss": 0.00010214000940322876,
          "index": 277
         },
         {
          "batch_loss": 5.116686224937439e-05,
          "index": 278
         },
         {
          "batch_loss": 2.1064653992652893e-05,
          "index": 279
         },
         {
          "batch_loss": 3.30265611410141e-05,
          "index": 280
         },
         {
          "batch_loss": 4.361569881439209e-05,
          "index": 281
         },
         {
          "batch_loss": 1.986883580684662e-05,
          "index": 282
         },
         {
          "batch_loss": 1.1915341019630432e-05,
          "index": 283
         },
         {
          "batch_loss": 8.903443813323975e-06,
          "index": 284
         },
         {
          "batch_loss": 2.8271228075027466e-05,
          "index": 285
         },
         {
          "batch_loss": 9.72505658864975e-05,
          "index": 286
         },
         {
          "batch_loss": 6.0478225350379944e-05,
          "index": 287
         },
         {
          "batch_loss": 1.5595927834510803e-05,
          "index": 288
         },
         {
          "batch_loss": 4.003569483757019e-05,
          "index": 289
         },
         {
          "batch_loss": 2.0466744899749756e-05,
          "index": 290
         },
         {
          "batch_loss": 6.908178329467773e-05,
          "index": 291
         },
         {
          "batch_loss": 3.685615956783295e-05,
          "index": 292
         },
         {
          "batch_loss": 6.758049130439758e-05,
          "index": 293
         },
         {
          "batch_loss": 0.00011862814426422119,
          "index": 294
         },
         {
          "batch_loss": 2.7123838663101196e-05,
          "index": 295
         },
         {
          "batch_loss": 5.981512367725372e-05,
          "index": 296
         },
         {
          "batch_loss": 6.72023743391037e-05,
          "index": 297
         },
         {
          "batch_loss": 0.00010252930223941803,
          "index": 298
         },
         {
          "batch_loss": 4.8160552978515625e-05,
          "index": 299
         },
         {
          "batch_loss": 7.988885045051575e-05,
          "index": 300
         },
         {
          "batch_loss": 5.3744763135910034e-05,
          "index": 301
         },
         {
          "batch_loss": 1.438148319721222e-05,
          "index": 302
         },
         {
          "batch_loss": 4.3354928493499756e-05,
          "index": 303
         },
         {
          "batch_loss": 3.7532299757003784e-05,
          "index": 304
         },
         {
          "batch_loss": 1.2428779882611707e-05,
          "index": 305
         },
         {
          "batch_loss": 1.0903924703598022e-05,
          "index": 306
         },
         {
          "batch_loss": 6.62095844745636e-05,
          "index": 307
         },
         {
          "batch_loss": 2.822279930114746e-05,
          "index": 308
         },
         {
          "batch_loss": 3.842264413833618e-05,
          "index": 309
         },
         {
          "batch_loss": 2.0988285541534424e-05,
          "index": 310
         },
         {
          "batch_loss": 6.023794412612915e-06,
          "index": 311
         },
         {
          "batch_loss": 5.738250911235809e-05,
          "index": 312
         },
         {
          "batch_loss": 7.272325456142426e-05,
          "index": 313
         },
         {
          "batch_loss": 0.00010591745376586914,
          "index": 314
         },
         {
          "batch_loss": 4.615075886249542e-05,
          "index": 315
         },
         {
          "batch_loss": 0.00014280714094638824,
          "index": 316
         },
         {
          "batch_loss": 5.0395727157592773e-05,
          "index": 317
         },
         {
          "batch_loss": 4.647858440876007e-05,
          "index": 318
         },
         {
          "batch_loss": 0.00017876923084259033,
          "index": 319
         },
         {
          "batch_loss": 4.6800822019577026e-05,
          "index": 320
         },
         {
          "batch_loss": 0.00013150833547115326,
          "index": 321
         },
         {
          "batch_loss": 5.102530121803284e-05,
          "index": 322
         },
         {
          "batch_loss": 1.2403354048728943e-05,
          "index": 323
         },
         {
          "batch_loss": 1.2332573533058167e-05,
          "index": 324
         },
         {
          "batch_loss": 2.8906390070915222e-05,
          "index": 325
         },
         {
          "batch_loss": 4.779547452926636e-06,
          "index": 326
         },
         {
          "batch_loss": 2.4277716875076294e-05,
          "index": 327
         },
         {
          "batch_loss": 2.156384289264679e-05,
          "index": 328
         },
         {
          "batch_loss": 2.384372055530548e-05,
          "index": 329
         },
         {
          "batch_loss": 1.4387071132659912e-05,
          "index": 330
         },
         {
          "batch_loss": 4.32915985584259e-05,
          "index": 331
         },
         {
          "batch_loss": 3.571808338165283e-05,
          "index": 332
         },
         {
          "batch_loss": 4.903972148895264e-05,
          "index": 333
         },
         {
          "batch_loss": 5.93625009059906e-05,
          "index": 334
         },
         {
          "batch_loss": 2.006441354751587e-05,
          "index": 335
         },
         {
          "batch_loss": 1.9043684005737305e-05,
          "index": 336
         },
         {
          "batch_loss": 1.2584030628204346e-05,
          "index": 337
         },
         {
          "batch_loss": 3.3389776945114136e-05,
          "index": 338
         },
         {
          "batch_loss": 3.950964310206473e-05,
          "index": 339
         },
         {
          "batch_loss": 6.809830665588379e-06,
          "index": 340
         },
         {
          "batch_loss": 2.8833746910095215e-05,
          "index": 341
         },
         {
          "batch_loss": 1.7916783690452576e-05,
          "index": 342
         },
         {
          "batch_loss": 2.9074028134346008e-05,
          "index": 343
         },
         {
          "batch_loss": 5.338340997695923e-06,
          "index": 344
         },
         {
          "batch_loss": 3.5881996154785156e-05,
          "index": 345
         },
         {
          "batch_loss": 2.0563602447509766e-05,
          "index": 346
         },
         {
          "batch_loss": 2.4471431970596313e-05,
          "index": 347
         },
         {
          "batch_loss": 0.0001056920737028122,
          "index": 348
         },
         {
          "batch_loss": 2.3385509848594666e-05,
          "index": 349
         },
         {
          "batch_loss": 4.101358354091644e-05,
          "index": 350
         },
         {
          "batch_loss": 1.5106052160263062e-05,
          "index": 351
         },
         {
          "batch_loss": 0.00010278820991516113,
          "index": 352
         },
         {
          "batch_loss": 4.157423973083496e-05,
          "index": 353
         },
         {
          "batch_loss": 1.6026198863983154e-05,
          "index": 354
         },
         {
          "batch_loss": 1.7257407307624817e-05,
          "index": 355
         },
         {
          "batch_loss": 3.577582538127899e-05,
          "index": 356
         },
         {
          "batch_loss": 1.4569610357284546e-05,
          "index": 357
         },
         {
          "batch_loss": 3.2782554626464844e-05,
          "index": 358
         },
         {
          "batch_loss": 2.428703010082245e-05,
          "index": 359
         },
         {
          "batch_loss": 1.9840896129608154e-05,
          "index": 360
         },
         {
          "batch_loss": 1.2276694178581238e-05,
          "index": 361
         },
         {
          "batch_loss": 5.065649747848511e-05,
          "index": 362
         },
         {
          "batch_loss": 4.56199049949646e-05,
          "index": 363
         },
         {
          "batch_loss": 5.859695374965668e-05,
          "index": 364
         },
         {
          "batch_loss": 1.657940447330475e-05,
          "index": 365
         },
         {
          "batch_loss": 3.7243589758872986e-05,
          "index": 366
         },
         {
          "batch_loss": 1.0965391993522644e-05,
          "index": 367
         },
         {
          "batch_loss": 2.639181911945343e-05,
          "index": 368
         },
         {
          "batch_loss": 1.2341886758804321e-05,
          "index": 369
         },
         {
          "batch_loss": 3.269873559474945e-05,
          "index": 370
         },
         {
          "batch_loss": 8.868053555488586e-06,
          "index": 371
         },
         {
          "batch_loss": 6.3333660364151e-05,
          "index": 372
         },
         {
          "batch_loss": 2.8389256840455346e-05,
          "index": 373
         },
         {
          "batch_loss": 8.361414074897766e-06,
          "index": 374
         },
         {
          "batch_loss": 3.5140663385391235e-05,
          "index": 375
         },
         {
          "batch_loss": 5.622208118438721e-05,
          "index": 376
         },
         {
          "batch_loss": 5.679763853549957e-05,
          "index": 377
         },
         {
          "batch_loss": 2.8897076845169067e-05,
          "index": 378
         },
         {
          "batch_loss": 8.217990398406982e-06,
          "index": 379
         },
         {
          "batch_loss": 7.282942533493042e-06,
          "index": 380
         },
         {
          "batch_loss": 2.915598452091217e-05,
          "index": 381
         },
         {
          "batch_loss": 8.57282429933548e-05,
          "index": 382
         },
         {
          "batch_loss": 5.1448121666908264e-05,
          "index": 383
         },
         {
          "batch_loss": 2.8772279620170593e-05,
          "index": 384
         },
         {
          "batch_loss": 2.3206695914268494e-05,
          "index": 385
         },
         {
          "batch_loss": 7.096678018569946e-06,
          "index": 386
         },
         {
          "batch_loss": 6.857328116893768e-05,
          "index": 387
         },
         {
          "batch_loss": 3.3274292945861816e-05,
          "index": 388
         },
         {
          "batch_loss": 1.1317431926727295e-05,
          "index": 389
         },
         {
          "batch_loss": 4.8881396651268005e-05,
          "index": 390
         },
         {
          "batch_loss": 1.7628073692321777e-05,
          "index": 391
         },
         {
          "batch_loss": 7.232651114463806e-06,
          "index": 392
         },
         {
          "batch_loss": 0.000144127756357193,
          "index": 393
         },
         {
          "batch_loss": 2.3847445845603943e-05,
          "index": 394
         },
         {
          "batch_loss": 1.4061108231544495e-05,
          "index": 395
         },
         {
          "batch_loss": 1.290440559387207e-05,
          "index": 396
         },
         {
          "batch_loss": 1.1920928955078125e-05,
          "index": 397
         },
         {
          "batch_loss": 2.0617619156837463e-05,
          "index": 398
         },
         {
          "batch_loss": 1.568906009197235e-05,
          "index": 399
         },
         {
          "batch_loss": 1.2103468179702759e-05,
          "index": 400
         },
         {
          "batch_loss": 2.5102868676185608e-05,
          "index": 401
         },
         {
          "batch_loss": 7.79125839471817e-05,
          "index": 402
         },
         {
          "batch_loss": 1.829676330089569e-05,
          "index": 403
         },
         {
          "batch_loss": 1.9242987036705017e-05,
          "index": 404
         },
         {
          "batch_loss": 2.1180137991905212e-05,
          "index": 405
         },
         {
          "batch_loss": 3.0221417546272278e-05,
          "index": 406
         },
         {
          "batch_loss": 9.906970262818504e-06,
          "index": 407
         },
         {
          "batch_loss": 1.2656673789024353e-05,
          "index": 408
         },
         {
          "batch_loss": 7.027946412563324e-05,
          "index": 409
         },
         {
          "batch_loss": 2.6552006602287292e-05,
          "index": 410
         },
         {
          "batch_loss": 7.096678018569946e-06,
          "index": 411
         },
         {
          "batch_loss": 4.380941390991211e-06,
          "index": 412
         },
         {
          "batch_loss": 1.7171725630760193e-05,
          "index": 413
         },
         {
          "batch_loss": 5.822628736495972e-06,
          "index": 414
         },
         {
          "batch_loss": 1.7415732145309448e-05,
          "index": 415
         },
         {
          "batch_loss": 1.9589439034461975e-05,
          "index": 416
         },
         {
          "batch_loss": 1.4897435903549194e-05,
          "index": 417
         },
         {
          "batch_loss": 1.9179657101631165e-05,
          "index": 418
         },
         {
          "batch_loss": 2.5780871510505676e-05,
          "index": 419
         },
         {
          "batch_loss": 5.873851478099823e-05,
          "index": 420
         },
         {
          "batch_loss": 4.319287836551666e-05,
          "index": 421
         },
         {
          "batch_loss": 3.927014768123627e-05,
          "index": 422
         },
         {
          "batch_loss": 4.283338785171509e-05,
          "index": 423
         },
         {
          "batch_loss": 9.670853614807129e-06,
          "index": 424
         },
         {
          "batch_loss": 1.837126910686493e-05,
          "index": 425
         },
         {
          "batch_loss": 2.1083280444145203e-05,
          "index": 426
         },
         {
          "batch_loss": 4.2906031012535095e-05,
          "index": 427
         },
         {
          "batch_loss": 2.9304996132850647e-05,
          "index": 428
         },
         {
          "batch_loss": 2.1338462829589844e-05,
          "index": 429
         },
         {
          "batch_loss": 7.3481351137161255e-06,
          "index": 430
         },
         {
          "batch_loss": 0.00015487149357795715,
          "index": 431
         },
         {
          "batch_loss": 8.087605237960815e-06,
          "index": 432
         },
         {
          "batch_loss": 1.7190352082252502e-05,
          "index": 433
         },
         {
          "batch_loss": 2.6356428861618042e-05,
          "index": 434
         },
         {
          "batch_loss": 1.4333054423332214e-05,
          "index": 435
         },
         {
          "batch_loss": 3.5872682929039e-05,
          "index": 436
         },
         {
          "batch_loss": 4.7050416469573975e-06,
          "index": 437
         },
         {
          "batch_loss": 1.5515834093093872e-05,
          "index": 438
         },
         {
          "batch_loss": 7.031485438346863e-06,
          "index": 439
         },
         {
          "batch_loss": 1.3953074812889099e-05,
          "index": 440
         },
         {
          "batch_loss": 2.9197553885751404e-05,
          "index": 441
         },
         {
          "batch_loss": 2.018362283706665e-05,
          "index": 442
         },
         {
          "batch_loss": 5.0349161028862e-05,
          "index": 443
         },
         {
          "batch_loss": 2.2377818822860718e-05,
          "index": 444
         },
         {
          "batch_loss": 4.537031054496765e-05,
          "index": 445
         },
         {
          "batch_loss": 7.716938853263855e-06,
          "index": 446
         },
         {
          "batch_loss": 8.244067430496216e-06,
          "index": 447
         },
         {
          "batch_loss": 4.630535840988159e-06,
          "index": 448
         },
         {
          "batch_loss": 4.544854164123535e-06,
          "index": 449
         },
         {
          "batch_loss": 3.9868056774139404e-05,
          "index": 450
         },
         {
          "batch_loss": 5.4836273193359375e-06,
          "index": 451
         },
         {
          "batch_loss": 8.73953104019165e-06,
          "index": 452
         },
         {
          "batch_loss": 1.878291368484497e-05,
          "index": 453
         },
         {
          "batch_loss": 1.7620623111724854e-05,
          "index": 454
         },
         {
          "batch_loss": 1.4139339327812195e-05,
          "index": 455
         },
         {
          "batch_loss": 5.550682544708252e-06,
          "index": 456
         },
         {
          "batch_loss": 2.0500272512435913e-05,
          "index": 457
         },
         {
          "batch_loss": 1.0099261999130249e-05,
          "index": 458
         },
         {
          "batch_loss": 8.666887879371643e-06,
          "index": 459
         },
         {
          "batch_loss": 1.7706304788589478e-05,
          "index": 460
         },
         {
          "batch_loss": 1.6860663890838623e-05,
          "index": 461
         },
         {
          "batch_loss": 6.227754056453705e-05,
          "index": 462
         },
         {
          "batch_loss": 5.900859832763672e-06,
          "index": 463
         },
         {
          "batch_loss": 1.991167664527893e-05,
          "index": 464
         },
         {
          "batch_loss": 1.3364478945732117e-05,
          "index": 465
         },
         {
          "batch_loss": 1.140497624874115e-05,
          "index": 466
         },
         {
          "batch_loss": 4.798173904418945e-06,
          "index": 467
         },
         {
          "batch_loss": 2.5758519768714905e-05,
          "index": 468
         },
         {
          "batch_loss": 2.212822437286377e-06,
          "index": 469
         },
         {
          "batch_loss": 2.485327422618866e-05,
          "index": 470
         },
         {
          "batch_loss": 4.220753908157349e-06,
          "index": 471
         },
         {
          "batch_loss": 8.519738912582397e-06,
          "index": 472
         },
         {
          "batch_loss": 6.686896085739136e-06,
          "index": 473
         },
         {
          "batch_loss": 1.841410994529724e-05,
          "index": 474
         },
         {
          "batch_loss": 9.660798241384327e-06,
          "index": 475
         },
         {
          "batch_loss": 1.5618279576301575e-05,
          "index": 476
         },
         {
          "batch_loss": 1.1414289474487305e-05,
          "index": 477
         },
         {
          "batch_loss": 7.383525371551514e-06,
          "index": 478
         },
         {
          "batch_loss": 1.4038756489753723e-05,
          "index": 479
         },
         {
          "batch_loss": 1.015886664390564e-05,
          "index": 480
         },
         {
          "batch_loss": 2.2722408175468445e-05,
          "index": 481
         },
         {
          "batch_loss": 2.7280300855636597e-05,
          "index": 482
         },
         {
          "batch_loss": 7.119029760360718e-06,
          "index": 483
         },
         {
          "batch_loss": 8.070841431617737e-06,
          "index": 484
         },
         {
          "batch_loss": 7.06501305103302e-06,
          "index": 485
         },
         {
          "batch_loss": 6.992369890213013e-06,
          "index": 486
         },
         {
          "batch_loss": 2.4802982807159424e-05,
          "index": 487
         },
         {
          "batch_loss": 2.0252540707588196e-05,
          "index": 488
         },
         {
          "batch_loss": 3.4203752875328064e-05,
          "index": 489
         },
         {
          "batch_loss": 2.7082860469818115e-06,
          "index": 490
         },
         {
          "batch_loss": 9.370967745780945e-06,
          "index": 491
         },
         {
          "batch_loss": 6.405636668205261e-06,
          "index": 492
         },
         {
          "batch_loss": 4.105269908905029e-06,
          "index": 493
         },
         {
          "batch_loss": 7.264316082000732e-07,
          "index": 494
         },
         {
          "batch_loss": 7.780268788337708e-06,
          "index": 495
         },
         {
          "batch_loss": 2.2761523723602295e-06,
          "index": 496
         },
         {
          "batch_loss": 3.807246685028076e-06,
          "index": 497
         },
         {
          "batch_loss": 2.409517765045166e-05,
          "index": 498
         },
         {
          "batch_loss": 1.4739111065864563e-05,
          "index": 499
         },
         {
          "batch_loss": 3.378838300704956e-06,
          "index": 500
         },
         {
          "batch_loss": 1.9375234842300415e-05,
          "index": 501
         },
         {
          "batch_loss": 1.8445774912834167e-05,
          "index": 502
         },
         {
          "batch_loss": 1.2317672371864319e-05,
          "index": 503
         },
         {
          "batch_loss": 8.357688784599304e-06,
          "index": 504
         },
         {
          "batch_loss": 9.449198842048645e-06,
          "index": 505
         },
         {
          "batch_loss": 3.300607204437256e-06,
          "index": 506
         },
         {
          "batch_loss": 4.734843969345093e-06,
          "index": 507
         },
         {
          "batch_loss": 2.522021532058716e-06,
          "index": 508
         },
         {
          "batch_loss": 8.571438229409978e-06,
          "index": 509
         }
        ],
        "data-b062a5c5f394f4c78327c898c234c97b": [
         {
          "batch_lr": 0.002994667720368793,
          "index": 0
         },
         {
          "batch_lr": 0.003,
          "index": 1
         },
         {
          "batch_lr": 0.002994667720368793,
          "index": 2
         },
         {
          "batch_lr": 0.0029787163746048772,
          "index": 3
         },
         {
          "batch_lr": 0.002952282053966024,
          "index": 4
         },
         {
          "batch_lr": 0.0029155902867554445,
          "index": 5
         },
         {
          "batch_lr": 0.002868954114193828,
          "index": 6
         },
         {
          "batch_lr": 0.0028127714196620177,
          "index": 7
         },
         {
          "batch_lr": 0.0027475215341002997,
          "index": 8
         },
         {
          "batch_lr": 0.002673761146525824,
          "index": 9
         },
         {
          "batch_lr": 0.0025921195545581966,
          "index": 10
         },
         {
          "batch_lr": 0.0025032932954740707,
          "index": 11
         },
         {
          "batch_lr": 0.0024080402035966952,
          "index": 12
         },
         {
          "batch_lr": 0.002307172944720673,
          "index": 13
         },
         {
          "batch_lr": 0.002201552082733941,
          "index": 14
         },
         {
          "batch_lr": 0.002092078737590104,
          "index": 15
         },
         {
          "batch_lr": 0.001979686897270713,
          "index": 16
         },
         {
          "batch_lr": 0.0018653354493291276,
          "index": 17
         },
         {
          "batch_lr": 0.00175,
          "index": 18
         },
         {
          "batch_lr": 0.0016346645506708727,
          "index": 19
         },
         {
          "batch_lr": 0.0015203131027292872,
          "index": 20
         },
         {
          "batch_lr": 0.0014079212624098965,
          "index": 21
         },
         {
          "batch_lr": 0.001298447917266059,
          "index": 22
         },
         {
          "batch_lr": 0.0011928270552793278,
          "index": 23
         },
         {
          "batch_lr": 0.0010919597964033057,
          "index": 24
         },
         {
          "batch_lr": 0.0009967067045259298,
          "index": 25
         },
         {
          "batch_lr": 0.0009078804454418035,
          "index": 26
         },
         {
          "batch_lr": 0.0008262388534741759,
          "index": 27
         },
         {
          "batch_lr": 0.0007524784658997007,
          "index": 28
         },
         {
          "batch_lr": 0.0006872285803379825,
          "index": 29
         },
         {
          "batch_lr": 0.0006310458858061722,
          "index": 30
         },
         {
          "batch_lr": 0.0005844097132445554,
          "index": 31
         },
         {
          "batch_lr": 0.0005477179460339762,
          "index": 32
         },
         {
          "batch_lr": 0.0005212836253951228,
          "index": 33
         },
         {
          "batch_lr": 0.0005053322796312068,
          "index": 34
         },
         {
          "batch_lr": 0.003,
          "index": 35
         },
         {
          "batch_lr": 0.002994667720368793,
          "index": 36
         },
         {
          "batch_lr": 0.0029787163746048772,
          "index": 37
         },
         {
          "batch_lr": 0.002952282053966024,
          "index": 38
         },
         {
          "batch_lr": 0.0029155902867554445,
          "index": 39
         },
         {
          "batch_lr": 0.002868954114193828,
          "index": 40
         },
         {
          "batch_lr": 0.0028127714196620177,
          "index": 41
         },
         {
          "batch_lr": 0.0027475215341002997,
          "index": 42
         },
         {
          "batch_lr": 0.002673761146525824,
          "index": 43
         },
         {
          "batch_lr": 0.0025921195545581966,
          "index": 44
         },
         {
          "batch_lr": 0.0025032932954740707,
          "index": 45
         },
         {
          "batch_lr": 0.0024080402035966952,
          "index": 46
         },
         {
          "batch_lr": 0.002307172944720673,
          "index": 47
         },
         {
          "batch_lr": 0.002201552082733941,
          "index": 48
         },
         {
          "batch_lr": 0.002092078737590104,
          "index": 49
         },
         {
          "batch_lr": 0.001979686897270713,
          "index": 50
         },
         {
          "batch_lr": 0.0018653354493291276,
          "index": 51
         },
         {
          "batch_lr": 0.00175,
          "index": 52
         },
         {
          "batch_lr": 0.0016346645506708727,
          "index": 53
         },
         {
          "batch_lr": 0.0015203131027292872,
          "index": 54
         },
         {
          "batch_lr": 0.0014079212624098965,
          "index": 55
         },
         {
          "batch_lr": 0.001298447917266059,
          "index": 56
         },
         {
          "batch_lr": 0.0011928270552793278,
          "index": 57
         },
         {
          "batch_lr": 0.0010919597964033057,
          "index": 58
         },
         {
          "batch_lr": 0.0009967067045259298,
          "index": 59
         },
         {
          "batch_lr": 0.0009078804454418035,
          "index": 60
         },
         {
          "batch_lr": 0.0008262388534741759,
          "index": 61
         },
         {
          "batch_lr": 0.0007524784658997007,
          "index": 62
         },
         {
          "batch_lr": 0.0006872285803379825,
          "index": 63
         },
         {
          "batch_lr": 0.0006310458858061722,
          "index": 64
         },
         {
          "batch_lr": 0.0005844097132445554,
          "index": 65
         },
         {
          "batch_lr": 0.0005477179460339762,
          "index": 66
         },
         {
          "batch_lr": 0.0005212836253951228,
          "index": 67
         },
         {
          "batch_lr": 0.0005053322796312068,
          "index": 68
         },
         {
          "batch_lr": 0.003,
          "index": 69
         },
         {
          "batch_lr": 0.002994667720368793,
          "index": 70
         },
         {
          "batch_lr": 0.0029787163746048772,
          "index": 71
         },
         {
          "batch_lr": 0.002952282053966024,
          "index": 72
         },
         {
          "batch_lr": 0.0029155902867554445,
          "index": 73
         },
         {
          "batch_lr": 0.002868954114193828,
          "index": 74
         },
         {
          "batch_lr": 0.0028127714196620177,
          "index": 75
         },
         {
          "batch_lr": 0.0027475215341002997,
          "index": 76
         },
         {
          "batch_lr": 0.002673761146525824,
          "index": 77
         },
         {
          "batch_lr": 0.0025921195545581966,
          "index": 78
         },
         {
          "batch_lr": 0.0025032932954740707,
          "index": 79
         },
         {
          "batch_lr": 0.0024080402035966952,
          "index": 80
         },
         {
          "batch_lr": 0.002307172944720673,
          "index": 81
         },
         {
          "batch_lr": 0.002201552082733941,
          "index": 82
         },
         {
          "batch_lr": 0.002092078737590104,
          "index": 83
         },
         {
          "batch_lr": 0.001979686897270713,
          "index": 84
         },
         {
          "batch_lr": 0.0018653354493291276,
          "index": 85
         },
         {
          "batch_lr": 0.00175,
          "index": 86
         },
         {
          "batch_lr": 0.0016346645506708727,
          "index": 87
         },
         {
          "batch_lr": 0.0015203131027292872,
          "index": 88
         },
         {
          "batch_lr": 0.0014079212624098965,
          "index": 89
         },
         {
          "batch_lr": 0.001298447917266059,
          "index": 90
         },
         {
          "batch_lr": 0.0011928270552793278,
          "index": 91
         },
         {
          "batch_lr": 0.0010919597964033057,
          "index": 92
         },
         {
          "batch_lr": 0.0009967067045259298,
          "index": 93
         },
         {
          "batch_lr": 0.0009078804454418035,
          "index": 94
         },
         {
          "batch_lr": 0.0008262388534741759,
          "index": 95
         },
         {
          "batch_lr": 0.0007524784658997007,
          "index": 96
         },
         {
          "batch_lr": 0.0006872285803379825,
          "index": 97
         },
         {
          "batch_lr": 0.0006310458858061722,
          "index": 98
         },
         {
          "batch_lr": 0.0005844097132445554,
          "index": 99
         },
         {
          "batch_lr": 0.0005477179460339762,
          "index": 100
         },
         {
          "batch_lr": 0.0005212836253951228,
          "index": 101
         },
         {
          "batch_lr": 0.0005053322796312068,
          "index": 102
         },
         {
          "batch_lr": 0.003,
          "index": 103
         },
         {
          "batch_lr": 0.002994667720368793,
          "index": 104
         },
         {
          "batch_lr": 0.0029787163746048772,
          "index": 105
         },
         {
          "batch_lr": 0.002952282053966024,
          "index": 106
         },
         {
          "batch_lr": 0.0029155902867554445,
          "index": 107
         },
         {
          "batch_lr": 0.002868954114193828,
          "index": 108
         },
         {
          "batch_lr": 0.0028127714196620177,
          "index": 109
         },
         {
          "batch_lr": 0.0027475215341002997,
          "index": 110
         },
         {
          "batch_lr": 0.002673761146525824,
          "index": 111
         },
         {
          "batch_lr": 0.0025921195545581966,
          "index": 112
         },
         {
          "batch_lr": 0.0025032932954740707,
          "index": 113
         },
         {
          "batch_lr": 0.0024080402035966952,
          "index": 114
         },
         {
          "batch_lr": 0.002307172944720673,
          "index": 115
         },
         {
          "batch_lr": 0.002201552082733941,
          "index": 116
         },
         {
          "batch_lr": 0.002092078737590104,
          "index": 117
         },
         {
          "batch_lr": 0.001979686897270713,
          "index": 118
         },
         {
          "batch_lr": 0.0018653354493291276,
          "index": 119
         },
         {
          "batch_lr": 0.00175,
          "index": 120
         },
         {
          "batch_lr": 0.0016346645506708727,
          "index": 121
         },
         {
          "batch_lr": 0.0015203131027292872,
          "index": 122
         },
         {
          "batch_lr": 0.0014079212624098965,
          "index": 123
         },
         {
          "batch_lr": 0.001298447917266059,
          "index": 124
         },
         {
          "batch_lr": 0.0011928270552793278,
          "index": 125
         },
         {
          "batch_lr": 0.0010919597964033057,
          "index": 126
         },
         {
          "batch_lr": 0.0009967067045259298,
          "index": 127
         },
         {
          "batch_lr": 0.0009078804454418035,
          "index": 128
         },
         {
          "batch_lr": 0.0008262388534741759,
          "index": 129
         },
         {
          "batch_lr": 0.0007524784658997007,
          "index": 130
         },
         {
          "batch_lr": 0.0006872285803379825,
          "index": 131
         },
         {
          "batch_lr": 0.0006310458858061722,
          "index": 132
         },
         {
          "batch_lr": 0.0005844097132445554,
          "index": 133
         },
         {
          "batch_lr": 0.0005477179460339762,
          "index": 134
         },
         {
          "batch_lr": 0.0005212836253951228,
          "index": 135
         },
         {
          "batch_lr": 0.0005053322796312068,
          "index": 136
         },
         {
          "batch_lr": 0.003,
          "index": 137
         },
         {
          "batch_lr": 0.002994667720368793,
          "index": 138
         },
         {
          "batch_lr": 0.0029787163746048772,
          "index": 139
         },
         {
          "batch_lr": 0.002952282053966024,
          "index": 140
         },
         {
          "batch_lr": 0.0029155902867554445,
          "index": 141
         },
         {
          "batch_lr": 0.002868954114193828,
          "index": 142
         },
         {
          "batch_lr": 0.0028127714196620177,
          "index": 143
         },
         {
          "batch_lr": 0.0027475215341002997,
          "index": 144
         },
         {
          "batch_lr": 0.002673761146525824,
          "index": 145
         },
         {
          "batch_lr": 0.0025921195545581966,
          "index": 146
         },
         {
          "batch_lr": 0.0025032932954740707,
          "index": 147
         },
         {
          "batch_lr": 0.0024080402035966952,
          "index": 148
         },
         {
          "batch_lr": 0.002307172944720673,
          "index": 149
         },
         {
          "batch_lr": 0.002201552082733941,
          "index": 150
         },
         {
          "batch_lr": 0.002092078737590104,
          "index": 151
         },
         {
          "batch_lr": 0.001979686897270713,
          "index": 152
         },
         {
          "batch_lr": 0.0018653354493291276,
          "index": 153
         },
         {
          "batch_lr": 0.00175,
          "index": 154
         },
         {
          "batch_lr": 0.0016346645506708727,
          "index": 155
         },
         {
          "batch_lr": 0.0015203131027292872,
          "index": 156
         },
         {
          "batch_lr": 0.0014079212624098965,
          "index": 157
         },
         {
          "batch_lr": 0.001298447917266059,
          "index": 158
         },
         {
          "batch_lr": 0.0011928270552793278,
          "index": 159
         },
         {
          "batch_lr": 0.0010919597964033057,
          "index": 160
         },
         {
          "batch_lr": 0.0009967067045259298,
          "index": 161
         },
         {
          "batch_lr": 0.0009078804454418035,
          "index": 162
         },
         {
          "batch_lr": 0.0008262388534741759,
          "index": 163
         },
         {
          "batch_lr": 0.0007524784658997007,
          "index": 164
         },
         {
          "batch_lr": 0.0006872285803379825,
          "index": 165
         },
         {
          "batch_lr": 0.0006310458858061722,
          "index": 166
         },
         {
          "batch_lr": 0.0005844097132445554,
          "index": 167
         },
         {
          "batch_lr": 0.0005477179460339762,
          "index": 168
         },
         {
          "batch_lr": 0.0005212836253951228,
          "index": 169
         },
         {
          "batch_lr": 0.0005053322796312068,
          "index": 170
         },
         {
          "batch_lr": 0.003,
          "index": 171
         },
         {
          "batch_lr": 0.002994667720368793,
          "index": 172
         },
         {
          "batch_lr": 0.0029787163746048772,
          "index": 173
         },
         {
          "batch_lr": 0.002952282053966024,
          "index": 174
         },
         {
          "batch_lr": 0.0029155902867554445,
          "index": 175
         },
         {
          "batch_lr": 0.002868954114193828,
          "index": 176
         },
         {
          "batch_lr": 0.0028127714196620177,
          "index": 177
         },
         {
          "batch_lr": 0.0027475215341002997,
          "index": 178
         },
         {
          "batch_lr": 0.002673761146525824,
          "index": 179
         },
         {
          "batch_lr": 0.0025921195545581966,
          "index": 180
         },
         {
          "batch_lr": 0.0025032932954740707,
          "index": 181
         },
         {
          "batch_lr": 0.0024080402035966952,
          "index": 182
         },
         {
          "batch_lr": 0.002307172944720673,
          "index": 183
         },
         {
          "batch_lr": 0.002201552082733941,
          "index": 184
         },
         {
          "batch_lr": 0.002092078737590104,
          "index": 185
         },
         {
          "batch_lr": 0.001979686897270713,
          "index": 186
         },
         {
          "batch_lr": 0.0018653354493291276,
          "index": 187
         },
         {
          "batch_lr": 0.00175,
          "index": 188
         },
         {
          "batch_lr": 0.0016346645506708727,
          "index": 189
         },
         {
          "batch_lr": 0.0015203131027292872,
          "index": 190
         },
         {
          "batch_lr": 0.0014079212624098965,
          "index": 191
         },
         {
          "batch_lr": 0.001298447917266059,
          "index": 192
         },
         {
          "batch_lr": 0.0011928270552793278,
          "index": 193
         },
         {
          "batch_lr": 0.0010919597964033057,
          "index": 194
         },
         {
          "batch_lr": 0.0009967067045259298,
          "index": 195
         },
         {
          "batch_lr": 0.0009078804454418035,
          "index": 196
         },
         {
          "batch_lr": 0.0008262388534741759,
          "index": 197
         },
         {
          "batch_lr": 0.0007524784658997007,
          "index": 198
         },
         {
          "batch_lr": 0.0006872285803379825,
          "index": 199
         },
         {
          "batch_lr": 0.0006310458858061722,
          "index": 200
         },
         {
          "batch_lr": 0.0005844097132445554,
          "index": 201
         },
         {
          "batch_lr": 0.0005477179460339762,
          "index": 202
         },
         {
          "batch_lr": 0.0005212836253951228,
          "index": 203
         },
         {
          "batch_lr": 0.0005053322796312068,
          "index": 204
         },
         {
          "batch_lr": 0.003,
          "index": 205
         },
         {
          "batch_lr": 0.002994667720368793,
          "index": 206
         },
         {
          "batch_lr": 0.0029787163746048772,
          "index": 207
         },
         {
          "batch_lr": 0.002952282053966024,
          "index": 208
         },
         {
          "batch_lr": 0.0029155902867554445,
          "index": 209
         },
         {
          "batch_lr": 0.002868954114193828,
          "index": 210
         },
         {
          "batch_lr": 0.0028127714196620177,
          "index": 211
         },
         {
          "batch_lr": 0.0027475215341002997,
          "index": 212
         },
         {
          "batch_lr": 0.002673761146525824,
          "index": 213
         },
         {
          "batch_lr": 0.0025921195545581966,
          "index": 214
         },
         {
          "batch_lr": 0.0025032932954740707,
          "index": 215
         },
         {
          "batch_lr": 0.0024080402035966952,
          "index": 216
         },
         {
          "batch_lr": 0.002307172944720673,
          "index": 217
         },
         {
          "batch_lr": 0.002201552082733941,
          "index": 218
         },
         {
          "batch_lr": 0.002092078737590104,
          "index": 219
         },
         {
          "batch_lr": 0.001979686897270713,
          "index": 220
         },
         {
          "batch_lr": 0.0018653354493291276,
          "index": 221
         },
         {
          "batch_lr": 0.00175,
          "index": 222
         },
         {
          "batch_lr": 0.0016346645506708727,
          "index": 223
         },
         {
          "batch_lr": 0.0015203131027292872,
          "index": 224
         },
         {
          "batch_lr": 0.0014079212624098965,
          "index": 225
         },
         {
          "batch_lr": 0.001298447917266059,
          "index": 226
         },
         {
          "batch_lr": 0.0011928270552793278,
          "index": 227
         },
         {
          "batch_lr": 0.0010919597964033057,
          "index": 228
         },
         {
          "batch_lr": 0.0009967067045259298,
          "index": 229
         },
         {
          "batch_lr": 0.0009078804454418035,
          "index": 230
         },
         {
          "batch_lr": 0.0008262388534741759,
          "index": 231
         },
         {
          "batch_lr": 0.0007524784658997007,
          "index": 232
         },
         {
          "batch_lr": 0.0006872285803379825,
          "index": 233
         },
         {
          "batch_lr": 0.0006310458858061722,
          "index": 234
         },
         {
          "batch_lr": 0.0005844097132445554,
          "index": 235
         },
         {
          "batch_lr": 0.0005477179460339762,
          "index": 236
         },
         {
          "batch_lr": 0.0005212836253951228,
          "index": 237
         },
         {
          "batch_lr": 0.0005053322796312068,
          "index": 238
         },
         {
          "batch_lr": 0.003,
          "index": 239
         },
         {
          "batch_lr": 0.002994667720368793,
          "index": 240
         },
         {
          "batch_lr": 0.0029787163746048772,
          "index": 241
         },
         {
          "batch_lr": 0.002952282053966024,
          "index": 242
         },
         {
          "batch_lr": 0.0029155902867554445,
          "index": 243
         },
         {
          "batch_lr": 0.002868954114193828,
          "index": 244
         },
         {
          "batch_lr": 0.0028127714196620177,
          "index": 245
         },
         {
          "batch_lr": 0.0027475215341002997,
          "index": 246
         },
         {
          "batch_lr": 0.002673761146525824,
          "index": 247
         },
         {
          "batch_lr": 0.0025921195545581966,
          "index": 248
         },
         {
          "batch_lr": 0.0025032932954740707,
          "index": 249
         },
         {
          "batch_lr": 0.0024080402035966952,
          "index": 250
         },
         {
          "batch_lr": 0.002307172944720673,
          "index": 251
         },
         {
          "batch_lr": 0.002201552082733941,
          "index": 252
         },
         {
          "batch_lr": 0.002092078737590104,
          "index": 253
         },
         {
          "batch_lr": 0.001979686897270713,
          "index": 254
         },
         {
          "batch_lr": 0.0018653354493291276,
          "index": 255
         },
         {
          "batch_lr": 0.00175,
          "index": 256
         },
         {
          "batch_lr": 0.0016346645506708727,
          "index": 257
         },
         {
          "batch_lr": 0.0015203131027292872,
          "index": 258
         },
         {
          "batch_lr": 0.0014079212624098965,
          "index": 259
         },
         {
          "batch_lr": 0.001298447917266059,
          "index": 260
         },
         {
          "batch_lr": 0.0011928270552793278,
          "index": 261
         },
         {
          "batch_lr": 0.0010919597964033057,
          "index": 262
         },
         {
          "batch_lr": 0.0009967067045259298,
          "index": 263
         },
         {
          "batch_lr": 0.0009078804454418035,
          "index": 264
         },
         {
          "batch_lr": 0.0008262388534741759,
          "index": 265
         },
         {
          "batch_lr": 0.0007524784658997007,
          "index": 266
         },
         {
          "batch_lr": 0.0006872285803379825,
          "index": 267
         },
         {
          "batch_lr": 0.0006310458858061722,
          "index": 268
         },
         {
          "batch_lr": 0.0005844097132445554,
          "index": 269
         },
         {
          "batch_lr": 0.0005477179460339762,
          "index": 270
         },
         {
          "batch_lr": 0.0005212836253951228,
          "index": 271
         },
         {
          "batch_lr": 0.0005053322796312068,
          "index": 272
         },
         {
          "batch_lr": 0.003,
          "index": 273
         },
         {
          "batch_lr": 0.002994667720368793,
          "index": 274
         },
         {
          "batch_lr": 0.0029787163746048772,
          "index": 275
         },
         {
          "batch_lr": 0.002952282053966024,
          "index": 276
         },
         {
          "batch_lr": 0.0029155902867554445,
          "index": 277
         },
         {
          "batch_lr": 0.002868954114193828,
          "index": 278
         },
         {
          "batch_lr": 0.0028127714196620177,
          "index": 279
         },
         {
          "batch_lr": 0.0027475215341002997,
          "index": 280
         },
         {
          "batch_lr": 0.002673761146525824,
          "index": 281
         },
         {
          "batch_lr": 0.0025921195545581966,
          "index": 282
         },
         {
          "batch_lr": 0.0025032932954740707,
          "index": 283
         },
         {
          "batch_lr": 0.0024080402035966952,
          "index": 284
         },
         {
          "batch_lr": 0.002307172944720673,
          "index": 285
         },
         {
          "batch_lr": 0.002201552082733941,
          "index": 286
         },
         {
          "batch_lr": 0.002092078737590104,
          "index": 287
         },
         {
          "batch_lr": 0.001979686897270713,
          "index": 288
         },
         {
          "batch_lr": 0.0018653354493291276,
          "index": 289
         },
         {
          "batch_lr": 0.00175,
          "index": 290
         },
         {
          "batch_lr": 0.0016346645506708727,
          "index": 291
         },
         {
          "batch_lr": 0.0015203131027292872,
          "index": 292
         },
         {
          "batch_lr": 0.0014079212624098965,
          "index": 293
         },
         {
          "batch_lr": 0.001298447917266059,
          "index": 294
         },
         {
          "batch_lr": 0.0011928270552793278,
          "index": 295
         },
         {
          "batch_lr": 0.0010919597964033057,
          "index": 296
         },
         {
          "batch_lr": 0.0009967067045259298,
          "index": 297
         },
         {
          "batch_lr": 0.0009078804454418035,
          "index": 298
         },
         {
          "batch_lr": 0.0008262388534741759,
          "index": 299
         },
         {
          "batch_lr": 0.0007524784658997007,
          "index": 300
         },
         {
          "batch_lr": 0.0006872285803379825,
          "index": 301
         },
         {
          "batch_lr": 0.0006310458858061722,
          "index": 302
         },
         {
          "batch_lr": 0.0005844097132445554,
          "index": 303
         },
         {
          "batch_lr": 0.0005477179460339762,
          "index": 304
         },
         {
          "batch_lr": 0.0005212836253951228,
          "index": 305
         },
         {
          "batch_lr": 0.0005053322796312068,
          "index": 306
         },
         {
          "batch_lr": 0.003,
          "index": 307
         },
         {
          "batch_lr": 0.002994667720368793,
          "index": 308
         },
         {
          "batch_lr": 0.0029787163746048772,
          "index": 309
         },
         {
          "batch_lr": 0.002952282053966024,
          "index": 310
         },
         {
          "batch_lr": 0.0029155902867554445,
          "index": 311
         },
         {
          "batch_lr": 0.002868954114193828,
          "index": 312
         },
         {
          "batch_lr": 0.0028127714196620177,
          "index": 313
         },
         {
          "batch_lr": 0.0027475215341002997,
          "index": 314
         },
         {
          "batch_lr": 0.002673761146525824,
          "index": 315
         },
         {
          "batch_lr": 0.0025921195545581966,
          "index": 316
         },
         {
          "batch_lr": 0.0025032932954740707,
          "index": 317
         },
         {
          "batch_lr": 0.0024080402035966952,
          "index": 318
         },
         {
          "batch_lr": 0.002307172944720673,
          "index": 319
         },
         {
          "batch_lr": 0.002201552082733941,
          "index": 320
         },
         {
          "batch_lr": 0.002092078737590104,
          "index": 321
         },
         {
          "batch_lr": 0.001979686897270713,
          "index": 322
         },
         {
          "batch_lr": 0.0018653354493291276,
          "index": 323
         },
         {
          "batch_lr": 0.00175,
          "index": 324
         },
         {
          "batch_lr": 0.0016346645506708727,
          "index": 325
         },
         {
          "batch_lr": 0.0015203131027292872,
          "index": 326
         },
         {
          "batch_lr": 0.0014079212624098965,
          "index": 327
         },
         {
          "batch_lr": 0.001298447917266059,
          "index": 328
         },
         {
          "batch_lr": 0.0011928270552793278,
          "index": 329
         },
         {
          "batch_lr": 0.0010919597964033057,
          "index": 330
         },
         {
          "batch_lr": 0.0009967067045259298,
          "index": 331
         },
         {
          "batch_lr": 0.0009078804454418035,
          "index": 332
         },
         {
          "batch_lr": 0.0008262388534741759,
          "index": 333
         },
         {
          "batch_lr": 0.0007524784658997007,
          "index": 334
         },
         {
          "batch_lr": 0.0006872285803379825,
          "index": 335
         },
         {
          "batch_lr": 0.0006310458858061722,
          "index": 336
         },
         {
          "batch_lr": 0.0005844097132445554,
          "index": 337
         },
         {
          "batch_lr": 0.0005477179460339762,
          "index": 338
         },
         {
          "batch_lr": 0.0005212836253951228,
          "index": 339
         },
         {
          "batch_lr": 0.0005053322796312068,
          "index": 340
         },
         {
          "batch_lr": 0.003,
          "index": 341
         },
         {
          "batch_lr": 0.002994667720368793,
          "index": 342
         },
         {
          "batch_lr": 0.0029787163746048772,
          "index": 343
         },
         {
          "batch_lr": 0.002952282053966024,
          "index": 344
         },
         {
          "batch_lr": 0.0029155902867554445,
          "index": 345
         },
         {
          "batch_lr": 0.002868954114193828,
          "index": 346
         },
         {
          "batch_lr": 0.0028127714196620177,
          "index": 347
         },
         {
          "batch_lr": 0.0027475215341002997,
          "index": 348
         },
         {
          "batch_lr": 0.002673761146525824,
          "index": 349
         },
         {
          "batch_lr": 0.0025921195545581966,
          "index": 350
         },
         {
          "batch_lr": 0.0025032932954740707,
          "index": 351
         },
         {
          "batch_lr": 0.0024080402035966952,
          "index": 352
         },
         {
          "batch_lr": 0.002307172944720673,
          "index": 353
         },
         {
          "batch_lr": 0.002201552082733941,
          "index": 354
         },
         {
          "batch_lr": 0.002092078737590104,
          "index": 355
         },
         {
          "batch_lr": 0.001979686897270713,
          "index": 356
         },
         {
          "batch_lr": 0.0018653354493291276,
          "index": 357
         },
         {
          "batch_lr": 0.00175,
          "index": 358
         },
         {
          "batch_lr": 0.0016346645506708727,
          "index": 359
         },
         {
          "batch_lr": 0.0015203131027292872,
          "index": 360
         },
         {
          "batch_lr": 0.0014079212624098965,
          "index": 361
         },
         {
          "batch_lr": 0.001298447917266059,
          "index": 362
         },
         {
          "batch_lr": 0.0011928270552793278,
          "index": 363
         },
         {
          "batch_lr": 0.0010919597964033057,
          "index": 364
         },
         {
          "batch_lr": 0.0009967067045259298,
          "index": 365
         },
         {
          "batch_lr": 0.0009078804454418035,
          "index": 366
         },
         {
          "batch_lr": 0.0008262388534741759,
          "index": 367
         },
         {
          "batch_lr": 0.0007524784658997007,
          "index": 368
         },
         {
          "batch_lr": 0.0006872285803379825,
          "index": 369
         },
         {
          "batch_lr": 0.0006310458858061722,
          "index": 370
         },
         {
          "batch_lr": 0.0005844097132445554,
          "index": 371
         },
         {
          "batch_lr": 0.0005477179460339762,
          "index": 372
         },
         {
          "batch_lr": 0.0005212836253951228,
          "index": 373
         },
         {
          "batch_lr": 0.0005053322796312068,
          "index": 374
         },
         {
          "batch_lr": 0.003,
          "index": 375
         },
         {
          "batch_lr": 0.002994667720368793,
          "index": 376
         },
         {
          "batch_lr": 0.0029787163746048772,
          "index": 377
         },
         {
          "batch_lr": 0.002952282053966024,
          "index": 378
         },
         {
          "batch_lr": 0.0029155902867554445,
          "index": 379
         },
         {
          "batch_lr": 0.002868954114193828,
          "index": 380
         },
         {
          "batch_lr": 0.0028127714196620177,
          "index": 381
         },
         {
          "batch_lr": 0.0027475215341002997,
          "index": 382
         },
         {
          "batch_lr": 0.002673761146525824,
          "index": 383
         },
         {
          "batch_lr": 0.0025921195545581966,
          "index": 384
         },
         {
          "batch_lr": 0.0025032932954740707,
          "index": 385
         },
         {
          "batch_lr": 0.0024080402035966952,
          "index": 386
         },
         {
          "batch_lr": 0.002307172944720673,
          "index": 387
         },
         {
          "batch_lr": 0.002201552082733941,
          "index": 388
         },
         {
          "batch_lr": 0.002092078737590104,
          "index": 389
         },
         {
          "batch_lr": 0.001979686897270713,
          "index": 390
         },
         {
          "batch_lr": 0.0018653354493291276,
          "index": 391
         },
         {
          "batch_lr": 0.00175,
          "index": 392
         },
         {
          "batch_lr": 0.0016346645506708727,
          "index": 393
         },
         {
          "batch_lr": 0.0015203131027292872,
          "index": 394
         },
         {
          "batch_lr": 0.0014079212624098965,
          "index": 395
         },
         {
          "batch_lr": 0.001298447917266059,
          "index": 396
         },
         {
          "batch_lr": 0.0011928270552793278,
          "index": 397
         },
         {
          "batch_lr": 0.0010919597964033057,
          "index": 398
         },
         {
          "batch_lr": 0.0009967067045259298,
          "index": 399
         },
         {
          "batch_lr": 0.0009078804454418035,
          "index": 400
         },
         {
          "batch_lr": 0.0008262388534741759,
          "index": 401
         },
         {
          "batch_lr": 0.0007524784658997007,
          "index": 402
         },
         {
          "batch_lr": 0.0006872285803379825,
          "index": 403
         },
         {
          "batch_lr": 0.0006310458858061722,
          "index": 404
         },
         {
          "batch_lr": 0.0005844097132445554,
          "index": 405
         },
         {
          "batch_lr": 0.0005477179460339762,
          "index": 406
         },
         {
          "batch_lr": 0.0005212836253951228,
          "index": 407
         },
         {
          "batch_lr": 0.0005053322796312068,
          "index": 408
         },
         {
          "batch_lr": 0.003,
          "index": 409
         },
         {
          "batch_lr": 0.002994667720368793,
          "index": 410
         },
         {
          "batch_lr": 0.0029787163746048772,
          "index": 411
         },
         {
          "batch_lr": 0.002952282053966024,
          "index": 412
         },
         {
          "batch_lr": 0.0029155902867554445,
          "index": 413
         },
         {
          "batch_lr": 0.002868954114193828,
          "index": 414
         },
         {
          "batch_lr": 0.0028127714196620177,
          "index": 415
         },
         {
          "batch_lr": 0.0027475215341002997,
          "index": 416
         },
         {
          "batch_lr": 0.002673761146525824,
          "index": 417
         },
         {
          "batch_lr": 0.0025921195545581966,
          "index": 418
         },
         {
          "batch_lr": 0.0025032932954740707,
          "index": 419
         },
         {
          "batch_lr": 0.0024080402035966952,
          "index": 420
         },
         {
          "batch_lr": 0.002307172944720673,
          "index": 421
         },
         {
          "batch_lr": 0.002201552082733941,
          "index": 422
         },
         {
          "batch_lr": 0.002092078737590104,
          "index": 423
         },
         {
          "batch_lr": 0.001979686897270713,
          "index": 424
         },
         {
          "batch_lr": 0.0018653354493291276,
          "index": 425
         },
         {
          "batch_lr": 0.00175,
          "index": 426
         },
         {
          "batch_lr": 0.0016346645506708727,
          "index": 427
         },
         {
          "batch_lr": 0.0015203131027292872,
          "index": 428
         },
         {
          "batch_lr": 0.0014079212624098965,
          "index": 429
         },
         {
          "batch_lr": 0.001298447917266059,
          "index": 430
         },
         {
          "batch_lr": 0.0011928270552793278,
          "index": 431
         },
         {
          "batch_lr": 0.0010919597964033057,
          "index": 432
         },
         {
          "batch_lr": 0.0009967067045259298,
          "index": 433
         },
         {
          "batch_lr": 0.0009078804454418035,
          "index": 434
         },
         {
          "batch_lr": 0.0008262388534741759,
          "index": 435
         },
         {
          "batch_lr": 0.0007524784658997007,
          "index": 436
         },
         {
          "batch_lr": 0.0006872285803379825,
          "index": 437
         },
         {
          "batch_lr": 0.0006310458858061722,
          "index": 438
         },
         {
          "batch_lr": 0.0005844097132445554,
          "index": 439
         },
         {
          "batch_lr": 0.0005477179460339762,
          "index": 440
         },
         {
          "batch_lr": 0.0005212836253951228,
          "index": 441
         },
         {
          "batch_lr": 0.0005053322796312068,
          "index": 442
         },
         {
          "batch_lr": 0.003,
          "index": 443
         },
         {
          "batch_lr": 0.002994667720368793,
          "index": 444
         },
         {
          "batch_lr": 0.0029787163746048772,
          "index": 445
         },
         {
          "batch_lr": 0.002952282053966024,
          "index": 446
         },
         {
          "batch_lr": 0.0029155902867554445,
          "index": 447
         },
         {
          "batch_lr": 0.002868954114193828,
          "index": 448
         },
         {
          "batch_lr": 0.0028127714196620177,
          "index": 449
         },
         {
          "batch_lr": 0.0027475215341002997,
          "index": 450
         },
         {
          "batch_lr": 0.002673761146525824,
          "index": 451
         },
         {
          "batch_lr": 0.0025921195545581966,
          "index": 452
         },
         {
          "batch_lr": 0.0025032932954740707,
          "index": 453
         },
         {
          "batch_lr": 0.0024080402035966952,
          "index": 454
         },
         {
          "batch_lr": 0.002307172944720673,
          "index": 455
         },
         {
          "batch_lr": 0.002201552082733941,
          "index": 456
         },
         {
          "batch_lr": 0.002092078737590104,
          "index": 457
         },
         {
          "batch_lr": 0.001979686897270713,
          "index": 458
         },
         {
          "batch_lr": 0.0018653354493291276,
          "index": 459
         },
         {
          "batch_lr": 0.00175,
          "index": 460
         },
         {
          "batch_lr": 0.0016346645506708727,
          "index": 461
         },
         {
          "batch_lr": 0.0015203131027292872,
          "index": 462
         },
         {
          "batch_lr": 0.0014079212624098965,
          "index": 463
         },
         {
          "batch_lr": 0.001298447917266059,
          "index": 464
         },
         {
          "batch_lr": 0.0011928270552793278,
          "index": 465
         },
         {
          "batch_lr": 0.0010919597964033057,
          "index": 466
         },
         {
          "batch_lr": 0.0009967067045259298,
          "index": 467
         },
         {
          "batch_lr": 0.0009078804454418035,
          "index": 468
         },
         {
          "batch_lr": 0.0008262388534741759,
          "index": 469
         },
         {
          "batch_lr": 0.0007524784658997007,
          "index": 470
         },
         {
          "batch_lr": 0.0006872285803379825,
          "index": 471
         },
         {
          "batch_lr": 0.0006310458858061722,
          "index": 472
         },
         {
          "batch_lr": 0.0005844097132445554,
          "index": 473
         },
         {
          "batch_lr": 0.0005477179460339762,
          "index": 474
         },
         {
          "batch_lr": 0.0005212836253951228,
          "index": 475
         },
         {
          "batch_lr": 0.0005053322796312068,
          "index": 476
         },
         {
          "batch_lr": 0.003,
          "index": 477
         },
         {
          "batch_lr": 0.002994667720368793,
          "index": 478
         },
         {
          "batch_lr": 0.0029787163746048772,
          "index": 479
         },
         {
          "batch_lr": 0.002952282053966024,
          "index": 480
         },
         {
          "batch_lr": 0.0029155902867554445,
          "index": 481
         },
         {
          "batch_lr": 0.002868954114193828,
          "index": 482
         },
         {
          "batch_lr": 0.0028127714196620177,
          "index": 483
         },
         {
          "batch_lr": 0.0027475215341002997,
          "index": 484
         },
         {
          "batch_lr": 0.002673761146525824,
          "index": 485
         },
         {
          "batch_lr": 0.0025921195545581966,
          "index": 486
         },
         {
          "batch_lr": 0.0025032932954740707,
          "index": 487
         },
         {
          "batch_lr": 0.0024080402035966952,
          "index": 488
         },
         {
          "batch_lr": 0.002307172944720673,
          "index": 489
         },
         {
          "batch_lr": 0.002201552082733941,
          "index": 490
         },
         {
          "batch_lr": 0.002092078737590104,
          "index": 491
         },
         {
          "batch_lr": 0.001979686897270713,
          "index": 492
         },
         {
          "batch_lr": 0.0018653354493291276,
          "index": 493
         },
         {
          "batch_lr": 0.00175,
          "index": 494
         },
         {
          "batch_lr": 0.0016346645506708727,
          "index": 495
         },
         {
          "batch_lr": 0.0015203131027292872,
          "index": 496
         },
         {
          "batch_lr": 0.0014079212624098965,
          "index": 497
         },
         {
          "batch_lr": 0.001298447917266059,
          "index": 498
         },
         {
          "batch_lr": 0.0011928270552793278,
          "index": 499
         },
         {
          "batch_lr": 0.0010919597964033057,
          "index": 500
         },
         {
          "batch_lr": 0.0009967067045259298,
          "index": 501
         },
         {
          "batch_lr": 0.0009078804454418035,
          "index": 502
         },
         {
          "batch_lr": 0.0008262388534741759,
          "index": 503
         },
         {
          "batch_lr": 0.0007524784658997007,
          "index": 504
         },
         {
          "batch_lr": 0.0006872285803379825,
          "index": 505
         },
         {
          "batch_lr": 0.0006310458858061722,
          "index": 506
         },
         {
          "batch_lr": 0.0005844097132445554,
          "index": 507
         },
         {
          "batch_lr": 0.0005477179460339762,
          "index": 508
         },
         {
          "batch_lr": 0.0005212836253951228,
          "index": 509
         }
        ]
       },
       "vconcat": [
        {
         "data": {
          "name": "data-6090dc372851f2b1b78b71d49d93108e"
         },
         "encoding": {
          "x": {
           "axis": {
            "title": "",
            "titleFontSize": 18
           },
           "field": "index",
           "type": "quantitative"
          },
          "y": {
           "axis": {
            "title": "Loss",
            "titleFontSize": 16
           },
           "field": "batch_loss",
           "type": "quantitative"
          }
         },
         "height": 400,
         "mark": "line",
         "width": 600
        },
        {
         "data": {
          "name": "data-b062a5c5f394f4c78327c898c234c97b"
         },
         "encoding": {
          "x": {
           "axis": {
            "title": "Epoch",
            "titleFontSize": 16
           },
           "field": "index",
           "type": "quantitative"
          },
          "y": {
           "axis": {
            "title": "Learning rate",
            "titleFontSize": 16
           },
           "field": "batch_lr",
           "type": "quantitative"
          }
         },
         "height": 100,
         "mark": "line",
         "width": 600
        }
       ]
      },
      "image/png": "[encoded data removed]",
      "text/plain": [
       "<VegaLite 3 object>\n",
       "\n",
       "If you see this message, it means the renderer has not been properly enabled\n",
       "for the frontend that you are using. For more information, see\n",
       "https://altair-viz.github.io/user_guide/troubleshooting.html\n"
      ]
     },
     "execution_count": 65,
     "metadata": {},
     "output_type": "execute_result"
    }
   ],
   "source": [
    "loss = alt.Chart(history[\"batch_loss\"].reset_index(), height=400, width=600).mark_line().encode(\n",
    "    alt.X(\"index:Q\", axis=alt.Axis(title=\"\", titleFontSize=18)),\n",
    "    alt.Y(\"batch_loss\", axis=alt.Axis(title=\"Loss\", titleFontSize=16)),\n",
    ")\n",
    "lr = alt.Chart(history[\"batch_lr\"].reset_index(), height=100, width=600).mark_line().encode(\n",
    "    alt.X(\"index:Q\", axis=alt.Axis(title=\"Epoch\", titleFontSize=16)),\n",
    "    alt.Y(\"batch_lr\", axis=alt.Axis(title=\"Learning rate\", titleFontSize=16)),\n",
    ")\n",
    "alt.vconcat(loss, lr)"
   ]
  },
  {
   "cell_type": "code",
   "execution_count": null,
   "metadata": {},
   "outputs": [],
   "source": []
  }
 ],
 "metadata": {
  "kernelspec": {
   "display_name": "Python 3",
   "language": "python",
   "name": "python3"
  },
  "language_info": {
   "codemirror_mode": {
    "name": "ipython",
    "version": 3
   },
   "file_extension": ".py",
   "mimetype": "text/x-python",
   "name": "python",
   "nbconvert_exporter": "python",
   "pygments_lexer": "ipython3",
   "version": "3.7.3"
  }
 },
 "nbformat": 4,
 "nbformat_minor": 4
}
