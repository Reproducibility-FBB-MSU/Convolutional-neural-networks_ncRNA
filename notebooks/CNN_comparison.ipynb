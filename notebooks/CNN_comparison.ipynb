{
 "cells": [
  {
   "cell_type": "markdown",
   "metadata": {
    "pycharm": {
     "name": "#%% \n"
    }
   },
   "source": [
    "# Comparison of original CNN and new PyTorch CNN\n",
    "  PyTorch CNN trains with CosAnnealingWithWarmRestarts scheduler \n",
    "  The experiment plot: \n",
    "  <pre>\n",
    "                                   ┌> PT CNN ─Training─> Trained PT CNN ─────┬────> Stats \n",
    "                                   |                                |\n",
    "  DATASET (70 seqs of 10 families) |            TEST DATASET (67 seqs of 10 families)                 \n",
    "                                   |                                |\n",
    "                                   └> Ch CNN ─Training─> Trained Ch CNN ─────┴────> Stats\n",
    "  </pre>"
   ]
  },
  {
   "cell_type": "code",
   "execution_count": 1,
   "metadata": {},
   "outputs": [],
   "source": [
    "import sys\n",
    "import os\n",
    "# appending source path \n",
    "sys.path.append(os.sep.join(os.getcwd().split(os.sep)[:-1] + [\"src\"]))\n",
    "sys.path.append(os.sep.join(os.getcwd().split(os.sep)[:-1] + [\"src\", \"original_cnn\"]))"
   ]
  },
  {
   "cell_type": "code",
   "execution_count": 2,
   "metadata": {},
   "outputs": [],
   "source": [
    "import RunNN  # our cnn\n",
    "from DataProcessing import AlignmentFilePrepare  # dataset class\n",
    "\n",
    "from torch.utils.data import DataLoader\n",
    "\n",
    "import json\n",
    "from subprocess import Popen, PIPE\n",
    "\n",
    "\n",
    "# IMPORTANT CONSTANTS\n",
    "BATCH_SIZE= 128\n",
    "EPOCH = 25\n",
    "CPU_ONLY = False"
   ]
  },
  {
   "cell_type": "markdown",
   "metadata": {},
   "source": [
    "## Prepare datasets\n",
    "Please, stand by"
   ]
  },
  {
   "cell_type": "code",
   "execution_count": null,
   "metadata": {},
   "outputs": [],
   "source": [
    "# training ds\n",
    "cmd = [\n",
    "    \"python\",\n",
    "    \"../src/original_cnn/prepareData.py\",\n",
    "    \"-i\", \"../data/train.fasta\",\n",
    "    \"-o\", \"../data/train\",\n",
    "    \"-t\", \"3\"  # adjust threads\n",
    "]\n",
    "with Popen(cmd) as proc:\n",
    "    print(\"Return code is {}\".format(proc.wait()))\n",
    "\n",
    "# test ds\n",
    "cmd = [\n",
    "    \"python\",\n",
    "    \"../src/original_cnn/prepareData.py\",\n",
    "    \"-i\", \"../data/test.fasta\",\n",
    "    \"-o\", \"../data/test\",\n",
    "    \"-t\", \"3\"  # adjust threads\n",
    "]\n",
    "with Popen(cmd) as proc:\n",
    "    print(\"Return code is {}\".format(proc.wait()))\n",
    "    "
   ]
  },
  {
   "cell_type": "markdown",
   "metadata": {},
   "source": [
    "## Train and test RunNN\n",
    "### DAFS with alignments"
   ]
  },
  {
   "cell_type": "code",
   "execution_count": null,
   "metadata": {},
   "outputs": [],
   "source": [
    "# train model\n",
    "model = RunNN.main(\n",
    "    dataset=\"../data/train/ncRNApair_data.npy\",\n",
    "    label=\"../data/train/ncRNApair_labe.npy\",\n",
    "    genelabel=\"../data/train/genelabel.txt\",\n",
    "    batchsize=BATCH_SIZE,\n",
    "    epoch=EPOCH,\n",
    "    vpart=0.1,\n",
    "    cpu=CPU_ONLY,\n",
    "    structure=False,\n",
    "    predictor=\"\"  # empty, if you want to train model\n",
    ")\n",
    "# evaluate model\n",
    "dataset = AlignmentFilePrepare(\"../data/test/ncRNApair_data.npy\", \"../data/test/ncRNApair_labe.npy\", \"../data/test/genelabel.txt\")\n",
    "dl = DataLoader(dataset, num_workers=3, shuffle=True, batch_size=BATCH_SIZE)\n",
    "RunNN.predict(model, dl)\n",
    "# save stats\n",
    "with open(\"stats.json\") as fin:\n",
    "    dafs_pt_cnn_history = json.load(fin)\n",
    "dafs_pt_cnn_results = RunNN.predict(model, dl)\n",
    "# clean space\n",
    "del model"
   ]
  },
  {
   "cell_type": "markdown",
   "metadata": {},
   "source": [
    "### DAFS structure-only"
   ]
  },
  {
   "cell_type": "code",
   "execution_count": null,
   "metadata": {},
   "outputs": [],
   "source": [
    "# train model\n",
    "model = RunNN.main(\n",
    "    dataset=\"../data/train/ncRNApair_data.npy\",\n",
    "    label=\"../data/train/ncRNApair_labe.npy\",\n",
    "    genelabel=\"../data/train/genelabel.txt\",\n",
    "    batchsize=BATCH_SIZE,\n",
    "    epoch=EPOCH,\n",
    "    vpart=0.1,\n",
    "    cpu=CPU_ONLY,\n",
    "    structure=True,\n",
    "    predictor=\"\"  # empty, if you want to train model\n",
    ")\n",
    "# evaluate model\n",
    "dataset = AlignmentFilePrepare(\"../data/test/ncRNApair_data.npy\", \"../data/test/ncRNApair_labe.npy\", \"../data/test/genelabel.txt\", structure=True)\n",
    "dl = DataLoader(dataset, num_workers=3, shuffle=True, batch_size=BATCH_SIZE)\n",
    "RunNN.predict(model, dl)\n",
    "# save stats\n",
    "with open(\"stats.json\") as fin:\n",
    "    struct_pt_cnn_history = json.load(fin)\n",
    "strcut_pt_cnn_results = RunNN.predict(model, dl)\n"
   ]
  }
 ],
 "metadata": {
  "kernelspec": {
   "display_name": "Python 3",
   "language": "python",
   "name": "python3"
  },
  "language_info": {
   "codemirror_mode": {
    "name": "ipython",
    "version": 3
   },
   "file_extension": ".py",
   "mimetype": "text/x-python",
   "name": "python",
   "nbconvert_exporter": "python",
   "pygments_lexer": "ipython3",
   "version": "3.7.3"
  }
 },
 "nbformat": 4,
 "nbformat_minor": 4
}
